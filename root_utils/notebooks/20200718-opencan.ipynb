{
 "cells": [
  {
   "cell_type": "code",
   "execution_count": 1,
   "metadata": {},
   "outputs": [],
   "source": [
    "from __future__ import print_function\n",
    "import numpy as np\n",
    "import torch"
   ]
  },
  {
   "cell_type": "code",
   "execution_count": 2,
   "metadata": {},
   "outputs": [],
   "source": [
    "pmtpos = np.load(\"/home/lukasb/watchmal/IWCD_mPMT_image_positions.npz\")"
   ]
  },
  {
   "cell_type": "code",
   "execution_count": 7,
   "metadata": {},
   "outputs": [
    {
     "name": "stdout",
     "output_type": "stream",
     "text": [
      "['mpmt_image_positions']\n"
     ]
    }
   ],
   "source": [
    "print(list(pmtpos.keys()))"
   ]
  },
  {
   "cell_type": "code",
   "execution_count": 9,
   "metadata": {},
   "outputs": [
    {
     "name": "stdout",
     "output_type": "stream",
     "text": [
      "(832, 2)\n",
      "[[26  0]\n",
      " [26  1]\n",
      " [26  2]\n",
      " ...\n",
      " [38 17]\n",
      " [39 20]\n",
      " [39 19]]\n"
     ]
    }
   ],
   "source": [
    "print(pmtpos['mpmt_image_positions'].shape)\n",
    "print(pmtpos['mpmt_image_positions'])"
   ]
  },
  {
   "cell_type": "markdown",
   "metadata": {},
   "source": [
    "from what I understand, these are the x/y coordinates in the grid for each mPMT ID, given by (tubeId-1)//19"
   ]
  },
  {
   "cell_type": "code",
   "execution_count": 11,
   "metadata": {},
   "outputs": [
    {
     "data": {
      "text/plain": [
       "array([39, 39], dtype=int16)"
      ]
     },
     "execution_count": 11,
     "metadata": {},
     "output_type": "execute_result"
    }
   ],
   "source": [
    "np.amax(pmtpos['mpmt_image_positions'],0)"
   ]
  },
  {
   "cell_type": "code",
   "execution_count": 24,
   "metadata": {},
   "outputs": [],
   "source": [
    "grid = np.zeros((40,40))\n",
    "mpmtno = np.zeros((40,40))\n",
    "mpmtno -= 1\n",
    "for mpmt in range(pmtpos['mpmt_image_positions'].shape[0]):\n",
    "    idx = pmtpos['mpmt_image_positions'][mpmt,:]\n",
    "    grid[idx[0],idx[1]] = 1.\n",
    "    mpmtno[idx[0],idx[1]] = mpmt"
   ]
  },
  {
   "cell_type": "code",
   "execution_count": 17,
   "metadata": {},
   "outputs": [],
   "source": [
    "from __future__ import print_function\n",
    "import numpy as np\n",
    "import torch \n",
    "import h5py\n",
    "import matplotlib.pyplot as plt\n",
    "%matplotlib inline\n",
    "\n",
    "def imshowRdBu(ax,img):\n",
    "    minmax = max(torch.max(img),-torch.min(img))\n",
    "    return ax.imshow(-img,cmap='RdBu',vmin=-minmax,vmax=minmax)"
   ]
  },
  {
   "cell_type": "code",
   "execution_count": 23,
   "metadata": {},
   "outputs": [
    {
     "data": {
      "text/plain": [
       "<matplotlib.image.AxesImage at 0x7f516cb74750>"
      ]
     },
     "execution_count": 23,
     "metadata": {},
     "output_type": "execute_result"
    },
    {
     "data": {
      "image/png": "[encoded data removed]",
      "text/plain": [
       "<Figure size 432x288 with 1 Axes>"
      ]
     },
     "metadata": {
      "needs_background": "light"
     },
     "output_type": "display_data"
    }
   ],
   "source": [
    "imshowRdBu(plt, torch.tensor(grid))"
   ]
  },
  {
   "cell_type": "code",
   "execution_count": 25,
   "metadata": {},
   "outputs": [
    {
     "data": {
      "text/plain": [
       "<matplotlib.image.AxesImage at 0x7f516cafc510>"
      ]
     },
     "execution_count": 25,
     "metadata": {},
     "output_type": "execute_result"
    },
    {
     "data": {
      "image/png": "[encoded data removed]",
      "text/plain": [
       "<Figure size 432x288 with 1 Axes>"
      ]
     },
     "metadata": {
      "needs_background": "light"
     },
     "output_type": "display_data"
    }
   ],
   "source": [
    "imshowRdBu(plt, torch.tensor(mpmtno))"
   ]
  },
  {
   "cell_type": "code",
   "execution_count": 29,
   "metadata": {},
   "outputs": [],
   "source": [
    "# pmtpos = np.load(\"/home/lukasb/watchmal/IWCD_mPMT_image_positions.npz\")\n",
    "np.savetxt(\"/home/lukasb/watchmal/IWCD_mPMT_image_positions.csv\", pmtpos['mpmt_image_positions'], fmt='%d', delimiter=',')"
   ]
  },
  {
   "cell_type": "code",
   "execution_count": null,
   "metadata": {},
   "outputs": [],
   "source": [
    "print(x.grad)"
   ]
  },
  {
   "cell_type": "code",
   "execution_count": null,
   "metadata": {},
   "outputs": [],
   "source": [
    "z = y.mean()"
   ]
  },
  {
   "cell_type": "code",
   "execution_count": null,
   "metadata": {},
   "outputs": [],
   "source": [
    "z.backward()"
   ]
  },
  {
   "cell_type": "code",
   "execution_count": null,
   "metadata": {},
   "outputs": [],
   "source": [
    "print(x.grad)"
   ]
  },
  {
   "cell_type": "code",
   "execution_count": null,
   "metadata": {},
   "outputs": [],
   "source": [
    "print(x)"
   ]
  },
  {
   "cell_type": "code",
   "execution_count": null,
   "metadata": {},
   "outputs": [],
   "source": [
    "print(y)"
   ]
  },
  {
   "cell_type": "code",
   "execution_count": 30,
   "metadata": {},
   "outputs": [],
   "source": [
    "f = h5py.File('/home/lukasb/watchmal/data/IWCDmPMT_4pi_full_tank/h5_opencan/e-/IWCDmPMT_4pi_full_tank_e-_E0to1000MeV_unif-pos-R371-y521cm_4pi-dir_3000evts_1.h5','r')\n",
    "event_data = f['event_data'][:]"
   ]
  },
  {
   "cell_type": "code",
   "execution_count": 45,
   "metadata": {},
   "outputs": [
    {
     "data": {
      "text/plain": [
       "<matplotlib.image.AxesImage at 0x7f5140c9b8d0>"
      ]
     },
     "execution_count": 45,
     "metadata": {},
     "output_type": "execute_result"
    },
    {
     "data": {
      "image/png": "[encoded data removed]",
      "text/plain": [
       "<Figure size 432x288 with 1 Axes>"
      ]
     },
     "metadata": {
      "needs_background": "light"
     },
     "output_type": "display_data"
    }
   ],
   "source": [
    "imshowRdBu(plt, torch.tensor(event_data[2,:,:,10]))"
   ]
  },
  {
   "cell_type": "markdown",
   "metadata": {},
   "source": [
    "## load a network and say if we can compute the gradient of the loss on the data\n",
    "\n",
    "from `20200708-04-IWCD-SmallerResNetGeom-timeCmplx`"
   ]
  },
  {
   "cell_type": "code",
   "execution_count": null,
   "metadata": {},
   "outputs": [],
   "source": [
    "from __future__ import print_function\n",
    "import numpy as np\n",
    "import torch \n",
    "import h5py\n",
    "import matplotlib.pyplot as plt\n",
    "%matplotlib inline\n",
    "\n",
    "def geometricPad(grid, pad=1):\n",
    "  M = grid.shape[2]; # 0:batchsize, 1:channels, 2:width, 3:height\n",
    "  M_new = pad+M+pad;\n",
    "  new_shape = (grid.shape[0], grid.shape[1], M_new, M_new)\n",
    "  grid_new = grid.new_zeros(new_shape);\n",
    "  grid_new[:,:,pad:M+pad,pad:M+pad] = grid;\n",
    "  grid_new[:,:,0:pad,pad:(M+pad)] = grid[:,:,:,0:pad].flip(-1).transpose(-1,-2);\n",
    "  grid_new[:,:,pad:(M+pad),0:pad] = grid[:,:,0:pad,:].flip(-2).transpose(-1,-2);\n",
    "  grid_new[:,:,(M+pad):(M+pad+pad),(pad):(M+pad)] = grid[:,:,:,(M-pad):].flip(-1).transpose(-1,-2);\n",
    "  grid_new[:,:,pad:(M+pad),(M+pad):(M+pad+pad)] = grid[:,:,(M-pad):,:].flip(-2).transpose(-1,-2);\n",
    "  return(grid_new);"
   ]
  },
  {
   "cell_type": "code",
   "execution_count": null,
   "metadata": {},
   "outputs": [],
   "source": [
    "f = h5py.File('/home/lukasb/watchmal/data/IWCDmPMT_4pi_full_tank/h5_topo/IWCDmPMT_4pi_full_tank_e-_E0to1000MeV_unif-pos-R371-y521cm_4pi-dir_3000evts_1.h5','r')\n",
    "event_data = f['event_data'][:]"
   ]
  },
  {
   "cell_type": "code",
   "execution_count": null,
   "metadata": {},
   "outputs": [],
   "source": [
    "def imshowRdBu(ax,img):\n",
    "    minmax = max(torch.max(img),-torch.min(img))\n",
    "    return ax.imshow(-img,cmap='RdBu',vmin=-minmax,vmax=minmax)"
   ]
  },
  {
   "cell_type": "code",
   "execution_count": null,
   "metadata": {},
   "outputs": [],
   "source": [
    "from torch.utils.data import Dataset, DataLoader\n",
    "\n",
    "class H5Dataset(Dataset):\n",
    "\n",
    "    def __init__(self, files, transform=None, flavour=None, limit_num_files=0, start_fraction=0., use_fraction=1.0):\n",
    "        \"\"\"                                                                                                                                             \n",
    "        Args: data_dirs ... a list of data directories to find files (up to 10 files read from each dir)                                                \n",
    "              transform ... a function applied to pre-process data                                                                                      \n",
    "              flavour ..... a string that is required to be present in the filename                                                                     \n",
    "              limit_num_files ... an integer limiting number of files to be taken per data directory                                                    \n",
    "              start_fraction ... a floating point fraction (0.0=>1.0) to specify which entry to start reading (per file)                                \n",
    "              use_fraction ..... a floating point fraction (0.0=>1.0) to specify how much fraction of a file to be read out (per file)                  \n",
    "        \"\"\"\n",
    "        self._transform = transform\n",
    "        self._files = []\n",
    "\n",
    "        # Check input fractions makes sense                                                                                                             \n",
    "        assert start_fraction >= 0. and start_fraction < 1.\n",
    "        assert use_fraction > 0. and use_fraction <= 1.\n",
    "        assert (start_fraction + use_fraction) <= 1.\n",
    "\n",
    "        # Load files (up to 10) from each directory in data_dirs list                                                                                   \n",
    "        # for d in data_dirs:\n",
    "        #     file_list = [ os.path.join(d,f) for f in os.listdir(d) if flavour is None or flavour in f ]\n",
    "        #     if limit_num_files: file_list = file_list[0:limit_num_files]\n",
    "        #     self._files += file_list\n",
    "        self._files = files\n",
    "\n",
    "        self._file_handles = [None] * len(self._files)\n",
    "        self._event_to_file_index  = []\n",
    "        self._event_to_entry_index = []\n",
    "        import h5py\n",
    "        for file_index, file_name in enumerate(self._files):\n",
    "            f = h5py.File(file_name,mode='r')\n",
    "            data_size = f['event_data'].shape[0]\n",
    "            start_entry = int(start_fraction * data_size)\n",
    "            num_entries = int(use_fraction * data_size)\n",
    "            self._event_to_file_index += [file_index] * num_entries\n",
    "            self._event_to_entry_index += range(start_entry, start_entry+num_entries)\n",
    "            f.close()\n",
    "\n",
    "    def __len__(self):\n",
    "        return len(self._event_to_file_index)\n",
    "\n",
    "    def __getitem__(self,idx):\n",
    "        file_index = self._event_to_file_index[idx]\n",
    "        entry_index = self._event_to_entry_index[idx]\n",
    "        if self._file_handles[file_index] is None:\n",
    "            import h5py\n",
    "            self._file_handles[file_index] = h5py.File(self._files[file_index],mode='r')\n",
    "        fh = self._file_handles[file_index]\n",
    "        label = fh['labels'][entry_index]\n",
    "        #labelTranslation = [-1,0,1,-1,2] # make sure that labels 1,2,4 get values 0,1,2\n",
    "        if label == 1: # electron\n",
    "            label = 0\n",
    "        elif label == 2: # muon\n",
    "            label = 1\n",
    "        elif label == 0: # gamma\n",
    "            label = 2\n",
    "        else:\n",
    "            print('Unknown label', label, 'for entry_index', entry_index, 'treating as label=0')\n",
    "            label = 0\n",
    "        \n",
    "        # try:\n",
    "        #     label = labelTranslation[label]\n",
    "        # except IndexError:\n",
    "        #     print('IndexError at entry', entry_index, 'label in file was', fh['labels'][entry_index], 'translations are', labelTranslation)\n",
    "        #     raise\n",
    "        \n",
    "        event_data = fh['event_data'][entry_index]\n",
    "        # convert event data to complex rep\n",
    "        evQ = event_data[:,:,0]\n",
    "        evT = event_data[:,:,1]\n",
    "        evR = np.power(evQ,0.25);\n",
    "        evA = 2*np.pi*(evT-960.)/(1900.-600.)\n",
    "        evX = evR*np.cos(evA);\n",
    "        evY = evR*np.sin(evA);\n",
    "        return np.stack([evX,evY],2),label,idx,fh['positions'][entry_index,0],fh['directions'][entry_index,0],np.sum(fh['energies'][entry_index,:])\n",
    "        # the ,0 in positions and directions selects the pos/dir for the first track (in case of gamma)\n",
    "        # thus positions and directions are just np arrays with 3 elements\n",
    "\n",
    "def HKCollate(batch):\n",
    "    data  = np.stack([sample[0] for sample in batch])\n",
    "    label = [sample[1] for sample in batch]\n",
    "    idx   = [sample[2] for sample in batch]\n",
    "    pos   = np.stack([sample[3] for sample in batch])\n",
    "    direc = np.stack([sample[4] for sample in batch])\n",
    "    ene   = np.stack([sample[5] for sample in batch])\n",
    "    return data,label,idx,pos,direc,ene"
   ]
  },
  {
   "cell_type": "code",
   "execution_count": null,
   "metadata": {},
   "outputs": [],
   "source": [
    "mcdir = '/home/lukasb/watchmal/data/IWCDmPMT_4pi_full_tank/h5_topo'\n",
    "pnames = ('e-','mu-')\n",
    "files = ['%s/%s/IWCDmPMT_4pi_full_tank_%s_E0to1000MeV_unif-pos-R371-y521cm_4pi-dir_3000evts_%d.h5' % (mcdir,pname,pname,bch+100) for bch in range(60) for pname in pnames]\n",
    "\n",
    "train_ds = H5Dataset(files,start_fraction=0.0,use_fraction=0.9);\n",
    "test_ds  = H5Dataset(files,start_fraction=0.9,use_fraction=0.1);\n",
    "\n",
    "# for training\n",
    "train_loader=DataLoader(train_ds,batch_size=32,shuffle=True,num_workers=4,collate_fn=HKCollate)\n",
    "# for validation\n",
    "test_loader =DataLoader( test_ds,batch_size=64,shuffle=True,num_workers=2,collate_fn=HKCollate)"
   ]
  },
  {
   "cell_type": "code",
   "execution_count": null,
   "metadata": {},
   "outputs": [],
   "source": [
    "import torch.nn as nn\n",
    "import torch.nn.functional as F\n",
    "\n",
    "# based on https://github.com/kuangliu/pytorch-cifar/blob/master/models/resnet.py\n",
    "\n",
    "class BasicGeomBlock(nn.Module):\n",
    "    expansion = 1\n",
    "\n",
    "    def __init__(self, in_planes, planes, stride=1):\n",
    "        super(BasicGeomBlock, self).__init__()\n",
    "        \n",
    "        self.pad = 1\n",
    "        self.conv1 = nn.Conv2d(\n",
    "            in_planes, planes, kernel_size=2*self.pad+1, stride=stride, padding=0, bias=False)\n",
    "        self.bn1 = nn.BatchNorm2d(planes)\n",
    "        self.conv2 = nn.Conv2d(planes, planes, kernel_size=2*self.pad+1,\n",
    "                               stride=1, padding=0, bias=False)\n",
    "        self.bn2 = nn.BatchNorm2d(planes)\n",
    "\n",
    "        self.shortcut = nn.Sequential()\n",
    "        if stride != 1 or in_planes != self.expansion*planes:\n",
    "            self.shortcut = nn.Sequential(\n",
    "                nn.Conv2d(in_planes, self.expansion*planes,\n",
    "                          kernel_size=1, stride=stride, bias=False),\n",
    "                nn.BatchNorm2d(self.expansion*planes)\n",
    "            )\n",
    "\n",
    "    def forward(self, x):\n",
    "        out = F.relu(self.bn1(self.conv1(geometricPad(x,self.pad))))\n",
    "        out = self.bn2(self.conv2(geometricPad(out,self.pad)))\n",
    "        out += self.shortcut(x)\n",
    "        out = F.relu(out)\n",
    "        return out\n",
    "\n",
    "class ResNetGeom(nn.Module):\n",
    "    def __init__(self, block, num_blocks, num_classes=3):\n",
    "        super(ResNetGeom, self).__init__()\n",
    "        self.in_planes = 64\n",
    "        overall_in_planes = 2 ## this has been modified to include time\n",
    "        self.pad = 1\n",
    "        \n",
    "        # (1,126,126)\n",
    "        self.conv1 = nn.Conv2d(overall_in_planes, 32, kernel_size=2*self.pad+1,\n",
    "                               stride=2, padding=0, bias=False)\n",
    "        self.bn1 = nn.BatchNorm2d(32)\n",
    "        # outsize = floor[(126+2*self.pad-3)/stride + 1]\n",
    "        # so for stride=1 we have 126,\n",
    "        #              =2          63 = floor(63.5)\n",
    "        # the padding is done by geometricPad\n",
    "        # thus (16,63,63)\n",
    "        self.conv2 = nn.Conv2d(32, 64, kernel_size=2*self.pad+1,\n",
    "                               stride=2, padding=0, bias=False)\n",
    "        self.bn2 = nn.BatchNorm2d(64)\n",
    "        # outsize = floor[(63+2*self.pad-3)/stride + 1]\n",
    "        # so for stride=1 we have 63,\n",
    "        #              =2         32\n",
    "        # thus (64,32,32)\n",
    "        self.layer1 = self._make_layer(block,  64, num_blocks[0], stride=1)\n",
    "        #      (64,32,32)\n",
    "        self.layer2 = self._make_layer(block,  64, num_blocks[1], stride=2)\n",
    "        #      (64,16,16)\n",
    "        self.layer3 = self._make_layer(block,  64, num_blocks[2], stride=2)\n",
    "        #      (64, 8, 8)\n",
    "        self.layer4 = self._make_layer(block, 128, num_blocks[3], stride=2)\n",
    "        #      (128,4, 4)\n",
    "        self.convbn5 = nn.Sequential(\n",
    "            nn.Conv2d(128,128,kernel_size=4,stride=1,padding=0),\n",
    "            nn.BatchNorm2d(128)\n",
    "        )\n",
    "        #      (128,1, 1)\n",
    "        # transform to 128, then\n",
    "        self.linear1 = nn.Linear(int(128*block.expansion),   int(128*block.expansion/2))\n",
    "        self.linear2 = nn.Linear(int(128*block.expansion/2), int(128*block.expansion/4))\n",
    "        self.linear3 = nn.Linear(int(128*block.expansion/4), int(128*block.expansion/8))\n",
    "        self.linear4 = nn.Linear(int(128*block.expansion/8), num_classes)\n",
    "\n",
    "    def _make_layer(self, block, planes, num_blocks, stride):\n",
    "        strides = [stride] + [1]*(num_blocks-1)\n",
    "        layers = []\n",
    "        for stride in strides:\n",
    "            layers.append(block(self.in_planes, planes, stride))\n",
    "            self.in_planes = planes * block.expansion\n",
    "        return nn.Sequential(*layers)\n",
    "\n",
    "    def forward(self, x):\n",
    "        out = F.relu(self.bn1(self.conv1(geometricPad(x,self.pad))))\n",
    "        out = F.relu(self.bn2(self.conv2(geometricPad(out,self.pad))))\n",
    "        out = self.layer1(out)\n",
    "        out = self.layer2(out)\n",
    "        out = self.layer3(out)\n",
    "        out = self.layer4(out)\n",
    "        out = F.relu(self.convbn5(out))\n",
    "        #out = F.avg_pool2d(out, out.shape[2:4])\n",
    "        out = out.view(out.size(0), -1)\n",
    "        out = F.relu(self.linear1(out))\n",
    "        out = F.relu(self.linear2(out))\n",
    "        out = F.relu(self.linear3(out))\n",
    "        out = self.linear4(out)\n",
    "        return out\n",
    "\n",
    "#    # I'm not sure why I need to implement cpu/cuda myself, train works somehow\n",
    "#    \n",
    "#    def cpu(self):\n",
    "#        super(GeomCNN, self).cpu()\n",
    "#        for module in self._feature:\n",
    "#            module.cpu()\n",
    "#        for module in self._classifier:\n",
    "#            module.cpu()\n",
    "#        return self\n",
    "#    \n",
    "#    def cuda(self):\n",
    "#        super(GeomCNN, self).cuda()\n",
    "#        for module in self._feature:\n",
    "#            module.cuda()\n",
    "#        for module in self._classifier:\n",
    "#            module.cuda()\n",
    "#        return self\n",
    "\n",
    "def ResNetGeom18(num_classes):\n",
    "    return ResNetGeom(BasicGeomBlock, [2, 2, 2, 2], num_classes)"
   ]
  },
  {
   "cell_type": "code",
   "execution_count": null,
   "metadata": {},
   "outputs": [],
   "source": [
    "def forward(blob,train=True):\n",
    "    \"\"\"\n",
    "       Args: blob should have attributes, net, criterion, softmax, data, label\n",
    "       Returns: a dictionary of predicted labels, softmax, loss, and accuracy\n",
    "    \"\"\"\n",
    "    with torch.set_grad_enabled(train):\n",
    "        # Prediction\n",
    "        blob.formatted_data = torch.as_tensor(blob.data).cuda()#[torch.as_tensor(d).cuda() for d in blob.data]\n",
    "        blob.formatted_data = blob.formatted_data.permute(0,3,1,2)\n",
    "        prediction = blob.net(blob.formatted_data)\n",
    "        # Training\n",
    "        loss,acc=-1,-1\n",
    "        if blob.label is not None:\n",
    "            label = torch.as_tensor(blob.label).type(torch.LongTensor).cuda()#[torch.as_tensor(l).cuda() for l in blob.label]\n",
    "            #label = torch.as_tensor(blob.label).type(torch.FloatTensor).cuda()#[torch.as_tensor(l).cuda() for l in blob.label]\n",
    "            label.requires_grad = False\n",
    "            loss = blob.criterion(prediction,label)\n",
    "        blob.loss = loss\n",
    "        \n",
    "        softmax    = blob.softmax(prediction).cpu().detach().numpy()\n",
    "        prediction = torch.argmax(prediction,dim=-1)\n",
    "        accuracy   = (prediction == label).sum().item() / float(prediction.nelement())\n",
    "        # mse        = blob.mse(prediction,label).cpu().detach().numpy()\n",
    "        # accuracy   = np.sqrt(mse.mean()).item()\n",
    "        prediction = prediction.cpu().detach().numpy()\n",
    "        \n",
    "        return {'prediction' : prediction,\n",
    "                'softmax'    : softmax,\n",
    "                'loss'       : loss.cpu().detach().item(),\n",
    "                'accuracy'   : accuracy}\n",
    "\n",
    "def backward(blob):\n",
    "    blob.optimizer.zero_grad()  # Reset gradients accumulation\n",
    "    blob.loss.backward()\n",
    "    blob.optimizer.step()\n",
    "\n",
    "def save_state(blob):\n",
    "    # Output file name\n",
    "    filename = '%s-%d.ckpt' % (blob.prefix, blob.iteration)\n",
    "    # Save parameters\n",
    "    # 0+1) iteration counter + optimizer state => in case we want to \"continue training\" later\n",
    "    # 2) network weight\n",
    "    torch.save({\n",
    "        'global_epoch': blob.epoch,\n",
    "        'global_step': blob.iteration,\n",
    "        'optimizer': blob.optimizer.state_dict(),\n",
    "        'state_dict': blob.net.state_dict()\n",
    "        }, filename)\n",
    "    return filename\n",
    "\n",
    "def restore_state(blob, iteration):\n",
    "    # Open a file in read-binary mode\n",
    "    weight_file = '%s-%d.ckpt' % (blob.prefix, iteration)\n",
    "    with open(weight_file, 'rb') as f:\n",
    "        # torch interprets the file, then we can access using string keys\n",
    "        checkpoint = torch.load(f)\n",
    "        # load network weights\n",
    "        blob.net.load_state_dict(checkpoint['state_dict'], strict=False)\n",
    "        # if optimizer is provided, load the state of the optimizer\n",
    "        if blob.optimizer is not None:\n",
    "            blob.optimizer.load_state_dict(checkpoint['optimizer'])\n",
    "        # load iteration count\n",
    "        blob.epoch     = checkpoint['global_epoch']\n",
    "        blob.iteration = checkpoint['global_step']\n",
    "\n",
    "# weight_file = save_state(blob, '20190819-02-DeepTaylor-01-BatchNorm')\n",
    "# print('Saved to', weight_file)\n",
    "\n",
    "\n",
    "# # Recreate the network (i.e. initialize)\n",
    "# blob.net=LeNet().cuda()\n",
    "# # Get one batch of data to test\n",
    "# blob.data, blob.label = next(iter(train_loader))\n",
    "# # Run forward function\n",
    "# res = forward(blob,True)\n",
    "# # Report\n",
    "# print('Accuracy:',res['accuracy'])\n",
    "\n",
    "\n",
    "\n",
    "# # Restore the state\n",
    "# restore_state(weight_file,blob)\n",
    "# # Run the forward function\n",
    "# res = forward(blob,True)\n",
    "# # Report\n",
    "# print('Accuracy',res['accuracy'])"
   ]
  },
  {
   "cell_type": "code",
   "execution_count": null,
   "metadata": {},
   "outputs": [],
   "source": [
    "class BLOB:\n",
    "    pass\n",
    "blob=BLOB()\n",
    "blob.net       = ResNetGeom18(2).cuda() # construct ResNet for 2 class classification, use GPU\n",
    "# just the training weights is ~700MiB\n",
    "blob.criterion = torch.nn.CrossEntropyLoss() # use softmax loss to define an error\n",
    "blob.optimizer = torch.optim.Adam(blob.net.parameters()) # use Adam optimizer algorithm\n",
    "blob.softmax   = torch.nn.Softmax(dim=1) # not for training, but softmax score for each class\n",
    "blob.prefix    = '20200708-04-IWCD-SmallResNetGeom-timeCmplx-01-e-mu'\n",
    "blob.epoch     = 0.\n",
    "blob.iteration = 0\n",
    "blob.data      = None # data for training/analysis\n",
    "blob.label     = None # label for training/analysis"
   ]
  },
  {
   "cell_type": "code",
   "execution_count": null,
   "metadata": {},
   "outputs": [],
   "source": [
    "restore_state(blob, 40500)"
   ]
  },
  {
   "cell_type": "code",
   "execution_count": null,
   "metadata": {},
   "outputs": [],
   "source": [
    "Nplot = 6\n",
    "fig, axes = plt.subplots(1, Nplot, figsize=(16,3),facecolor='w')\n",
    "\n",
    "blob.net.eval()\n",
    "test_data = next(iter(test_loader))\n",
    "blob.data,blob.label = test_data[0:2]\n",
    "blob.data  = blob.data[0:Nplot,:,:,:]\n",
    "blob.label = blob.label[0:Nplot]\n",
    "res = forward(blob,True)\n",
    "\n",
    "for ev in range(int(Nplot/2)):\n",
    "    for qt in range(2):\n",
    "        #im = axes[2*ev+qt].imshow(blob.data[ev,:,:,qt])\n",
    "        imshowRdBu(axes[2*ev+qt], torch.as_tensor(blob.data[ev,:,:,qt]))\n",
    "        labelNames = ['e','μ']\n",
    "        correct = (blob.label[ev] == res['prediction'][ev])\n",
    "        if qt == 0:\n",
    "            axes[2*ev+qt].set_title('%s pred: %s, true: %s' % ('✔︎' if correct else '✖︎', labelNames[blob.label[ev]], labelNames[res['prediction'][ev]]))\n",
    "    #cbar = fig.colorbar(im, ax=axes[0])\n",
    "plt.show()\n",
    "\n",
    "#del test_data\n",
    "#del blob.data\n",
    "#del blob.label"
   ]
  },
  {
   "cell_type": "code",
   "execution_count": null,
   "metadata": {},
   "outputs": [],
   "source": [
    "blob.loss.backward()"
   ]
  },
  {
   "cell_type": "code",
   "execution_count": null,
   "metadata": {},
   "outputs": [],
   "source": [
    "print(blob.formatted_data.shape)\n",
    "print(blob.formatted_data.grad.shape)"
   ]
  },
  {
   "cell_type": "code",
   "execution_count": null,
   "metadata": {},
   "outputs": [],
   "source": [
    "blob.net.conv1.parameters"
   ]
  },
  {
   "cell_type": "code",
   "execution_count": null,
   "metadata": {},
   "outputs": [],
   "source": [
    "blob.formatted_data.requires_grad"
   ]
  },
  {
   "cell_type": "code",
   "execution_count": null,
   "metadata": {},
   "outputs": [],
   "source": [
    "def forward(blob,train=True,data_requires_grad=False):\n",
    "    \"\"\"\n",
    "       Args: blob should have attributes, net, criterion, softmax, data, label\n",
    "       Returns: a dictionary of predicted labels, softmax, loss, and accuracy\n",
    "    \"\"\"\n",
    "    with torch.set_grad_enabled(train):\n",
    "        # Prediction\n",
    "        blob.formatted_data = torch.as_tensor(blob.data).cuda()#[torch.as_tensor(d).cuda() for d in blob.data]\n",
    "        blob.formatted_data = blob.formatted_data.permute(0,3,1,2)\n",
    "        blob.formatted_data.requires_grad = data_requires_grad\n",
    "        prediction = blob.net(blob.formatted_data)\n",
    "        # Training\n",
    "        loss,acc=-1,-1\n",
    "        if blob.label is not None:\n",
    "            label = torch.as_tensor(blob.label).type(torch.LongTensor).cuda()#[torch.as_tensor(l).cuda() for l in blob.label]\n",
    "            #label = torch.as_tensor(blob.label).type(torch.FloatTensor).cuda()#[torch.as_tensor(l).cuda() for l in blob.label]\n",
    "            label.requires_grad = False\n",
    "            loss = blob.criterion(prediction,label)\n",
    "        blob.loss = loss\n",
    "        \n",
    "        softmax    = blob.softmax(prediction).cpu().detach().numpy()\n",
    "        prediction = torch.argmax(prediction,dim=-1)\n",
    "        accuracy   = (prediction == label).sum().item() / float(prediction.nelement())\n",
    "        # mse        = blob.mse(prediction,label).cpu().detach().numpy()\n",
    "        # accuracy   = np.sqrt(mse.mean()).item()\n",
    "        prediction = prediction.cpu().detach().numpy()\n",
    "        \n",
    "        return {'prediction' : prediction,\n",
    "                'softmax'    : softmax,\n",
    "                'loss'       : loss.cpu().detach().item(),\n",
    "                'accuracy'   : accuracy}\n"
   ]
  },
  {
   "cell_type": "code",
   "execution_count": null,
   "metadata": {},
   "outputs": [],
   "source": [
    "res = forward(blob,True,data_requires_grad=True)"
   ]
  },
  {
   "cell_type": "code",
   "execution_count": null,
   "metadata": {},
   "outputs": [],
   "source": [
    "blob.formatted_data.requires_grad"
   ]
  },
  {
   "cell_type": "code",
   "execution_count": null,
   "metadata": {},
   "outputs": [],
   "source": [
    "blob.loss.backward()"
   ]
  },
  {
   "cell_type": "code",
   "execution_count": null,
   "metadata": {},
   "outputs": [],
   "source": [
    "print(blob.formatted_data.shape)\n",
    "print(blob.formatted_data.grad.shape)"
   ]
  },
  {
   "cell_type": "code",
   "execution_count": null,
   "metadata": {},
   "outputs": [],
   "source": [
    "fig, axes = plt.subplots(1, Nplot, figsize=(16,3),facecolor='w')\n",
    "for ev in range(int(Nplot/2)):\n",
    "    for qt in range(2):\n",
    "        #im = axes[2*ev+qt].imshow(blob.data[ev,:,:,qt])\n",
    "        imshowRdBu(axes[2*ev+qt], blob.formatted_data.grad[ev,qt,:,:].cpu())\n",
    "        labelNames = ['e','μ']\n",
    "        correct = (blob.label[ev] == res['prediction'][ev])\n",
    "        if qt == 0:\n",
    "            axes[2*ev+qt].set_title('%s pred: %s, true: %s' % ('✔︎' if correct else '✖︎', labelNames[blob.label[ev]], labelNames[res['prediction'][ev]]))\n",
    "    #cbar = fig.colorbar(im, ax=axes[0])\n",
    "plt.show();"
   ]
  },
  {
   "cell_type": "code",
   "execution_count": null,
   "metadata": {},
   "outputs": [],
   "source": [
    "Nrows = 5\n",
    "for r in range(Nrows):\n",
    "    Nplot = 6\n",
    "    fig, axes = plt.subplots(1, Nplot, figsize=(16,3),facecolor='w')\n",
    "\n",
    "    blob.net.eval()\n",
    "    test_data = next(iter(test_loader))\n",
    "    blob.data,blob.label = test_data[0:2]\n",
    "    blob.data  = blob.data[0:Nplot,:,:,:]\n",
    "    blob.label = blob.label[0:Nplot]\n",
    "    res = forward(blob,True,data_requires_grad=True)\n",
    "    blob.loss.backward()\n",
    "\n",
    "    for ev in range(int(Nplot/2)):\n",
    "        for qt in range(2):\n",
    "            #im = axes[2*ev+qt].imshow(blob.data[ev,:,:,qt])\n",
    "            imshowRdBu(axes[2*ev+qt], blob.formatted_data.grad[ev,qt,:,:].cpu())\n",
    "            labelNames = ['e','μ']\n",
    "            correct = (blob.label[ev] == res['prediction'][ev])\n",
    "            if qt == 0:\n",
    "                axes[2*ev+qt].set_title('%s pred: %s, true: %s' % ('✔︎' if correct else '✖︎', labelNames[blob.label[ev]], labelNames[res['prediction'][ev]]))\n",
    "        #cbar = fig.colorbar(im, ax=axes[0])\n",
    "    plt.show()\n",
    "\n",
    "    del test_data\n",
    "    del blob.data\n",
    "    del blob.label"
   ]
  },
  {
   "cell_type": "markdown",
   "metadata": {},
   "source": [
    "I can probably run the NN layer by layer"
   ]
  },
  {
   "cell_type": "code",
   "execution_count": null,
   "metadata": {},
   "outputs": [],
   "source": [
    "convbn1 = F.relu(blob.net.bn1(blob.net.conv1(geometricPad(blob.formatted_data,blob.net.pad))))"
   ]
  },
  {
   "cell_type": "code",
   "execution_count": null,
   "metadata": {},
   "outputs": [],
   "source": [
    "convbn1.shape"
   ]
  },
  {
   "cell_type": "code",
   "execution_count": null,
   "metadata": {},
   "outputs": [],
   "source": [
    "activation = torch.zeros(convbn1.shape)\n",
    "activation[:,0,10,10] = 1.\n",
    "convbn1.backward(activation.cuda())"
   ]
  },
  {
   "cell_type": "code",
   "execution_count": null,
   "metadata": {},
   "outputs": [],
   "source": [
    "fig, axes = plt.subplots(1, Nplot, figsize=(16,3),facecolor='w')\n",
    "for ev in range(int(Nplot/2)):\n",
    "    for qt in range(2):\n",
    "        imshowRdBu(axes[2*ev+qt], blob.formatted_data.grad[ev,qt,:,:].cpu())\n",
    "plt.show();"
   ]
  },
  {
   "cell_type": "code",
   "execution_count": null,
   "metadata": {},
   "outputs": [],
   "source": [
    "blob.formatted_data.grad.zero_()\n",
    "convbn1 = F.relu(blob.net.bn1(blob.net.conv1(geometricPad(blob.formatted_data,blob.net.pad))))\n",
    "activation = torch.zeros(convbn1.shape)\n",
    "activation[:,0,:,:] = 1.\n",
    "convbn1.backward(activation.cuda())"
   ]
  },
  {
   "cell_type": "code",
   "execution_count": null,
   "metadata": {},
   "outputs": [],
   "source": [
    "fig, axes = plt.subplots(1, Nplot, figsize=(16,3),facecolor='w')\n",
    "for ev in range(int(Nplot/2)):\n",
    "    for qt in range(2):\n",
    "        imshowRdBu(axes[2*ev+qt], blob.formatted_data.grad[ev,qt,:,:].cpu())\n",
    "plt.show();"
   ]
  },
  {
   "cell_type": "code",
   "execution_count": null,
   "metadata": {},
   "outputs": [],
   "source": [
    "blob.formatted_data.grad.zero_()\n",
    "\n",
    "x = blob.formatted_data\n",
    "out = F.relu(blob.net.bn1(blob.net.conv1(geometricPad(x,blob.net.pad))))\n",
    "out = F.relu(blob.net.bn2(blob.net.conv2(geometricPad(out,blob.net.pad))))\n",
    "out = blob.net.layer1(out)\n",
    "\n",
    "activation = torch.zeros(out.shape)\n",
    "activation[:,3,10,10] = 1.\n",
    "out.backward(activation.cuda())"
   ]
  },
  {
   "cell_type": "code",
   "execution_count": null,
   "metadata": {},
   "outputs": [],
   "source": [
    "fig, axes = plt.subplots(1, Nplot, figsize=(16,3),facecolor='w')\n",
    "for ev in range(int(Nplot/2)):\n",
    "    for qt in range(2):\n",
    "        imshowRdBu(axes[2*ev+qt], blob.formatted_data.grad[ev,qt,:,:].cpu())\n",
    "plt.show();"
   ]
  },
  {
   "cell_type": "code",
   "execution_count": null,
   "metadata": {},
   "outputs": [],
   "source": [
    "blob.formatted_data.grad.zero_()\n",
    "\n",
    "x = blob.formatted_data\n",
    "out = F.relu(blob.net.bn1(blob.net.conv1(geometricPad(x,blob.net.pad))))\n",
    "out = F.relu(blob.net.bn2(blob.net.conv2(geometricPad(out,blob.net.pad))))\n",
    "out = blob.net.layer1(out)\n",
    "out = blob.net.layer2(out)\n",
    "out = blob.net.layer3(out)\n",
    "out = blob.net.layer4(out)\n",
    "out = F.relu(blob.net.convbn5(out))\n",
    "out = out.view(out.size(0), -1)\n",
    "\n",
    "activation = torch.zeros(out.shape)\n",
    "activation[:,4] = 1.\n",
    "out.backward(activation.cuda())"
   ]
  },
  {
   "cell_type": "code",
   "execution_count": null,
   "metadata": {},
   "outputs": [],
   "source": [
    "fig, axes = plt.subplots(1, Nplot, figsize=(16,3),facecolor='w')\n",
    "for ev in range(int(Nplot/2)):\n",
    "    for qt in range(2):\n",
    "        imshowRdBu(axes[2*ev+qt], blob.formatted_data.grad[ev,qt,:,:].cpu())\n",
    "plt.show();"
   ]
  },
  {
   "cell_type": "code",
   "execution_count": null,
   "metadata": {},
   "outputs": [],
   "source": [
    "pname = ['e','mu']\n",
    "for particle in [0,1]:\n",
    "    blob.formatted_data.grad.zero_()\n",
    "    prediction = blob.net(blob.formatted_data)\n",
    "\n",
    "    activation = torch.zeros(prediction.shape)\n",
    "    activation[:,particle] = 1.\n",
    "    prediction.backward(activation.cuda())\n",
    "\n",
    "    fig, axes = plt.subplots(1, Nplot, figsize=(16,3),facecolor='w')\n",
    "    for ev in range(int(Nplot/2)):\n",
    "        for qt in range(2):\n",
    "            imshowRdBu(axes[2*ev+qt], blob.formatted_data.grad[ev,qt,:,:].cpu())\n",
    "    axes[0].set_title('d/dx p(%s)' % pname[particle])\n",
    "    plt.show();"
   ]
  },
  {
   "cell_type": "markdown",
   "metadata": {},
   "source": [
    "maybe more insightful is the case with 3 PIDs: `20200708-03-IWCD-SmallerResNetGeom-emugamma`"
   ]
  },
  {
   "cell_type": "code",
   "execution_count": null,
   "metadata": {},
   "outputs": [],
   "source": [
    "from torch.utils.data import Dataset, DataLoader\n",
    "\n",
    "class H5Dataset(Dataset):\n",
    "\n",
    "    def __init__(self, files, transform=None, flavour=None, limit_num_files=0, start_fraction=0., use_fraction=1.0):\n",
    "        \"\"\"                                                                                                                                             \n",
    "        Args: data_dirs ... a list of data directories to find files (up to 10 files read from each dir)                                                \n",
    "              transform ... a function applied to pre-process data                                                                                      \n",
    "              flavour ..... a string that is required to be present in the filename                                                                     \n",
    "              limit_num_files ... an integer limiting number of files to be taken per data directory                                                    \n",
    "              start_fraction ... a floating point fraction (0.0=>1.0) to specify which entry to start reading (per file)                                \n",
    "              use_fraction ..... a floating point fraction (0.0=>1.0) to specify how much fraction of a file to be read out (per file)                  \n",
    "        \"\"\"\n",
    "        self._transform = transform\n",
    "        self._files = []\n",
    "\n",
    "        # Check input fractions makes sense                                                                                                             \n",
    "        assert start_fraction >= 0. and start_fraction < 1.\n",
    "        assert use_fraction > 0. and use_fraction <= 1.\n",
    "        assert (start_fraction + use_fraction) <= 1.\n",
    "\n",
    "        # Load files (up to 10) from each directory in data_dirs list                                                                                   \n",
    "        # for d in data_dirs:\n",
    "        #     file_list = [ os.path.join(d,f) for f in os.listdir(d) if flavour is None or flavour in f ]\n",
    "        #     if limit_num_files: file_list = file_list[0:limit_num_files]\n",
    "        #     self._files += file_list\n",
    "        self._files = files\n",
    "\n",
    "        self._file_handles = [None] * len(self._files)\n",
    "        self._event_to_file_index  = []\n",
    "        self._event_to_entry_index = []\n",
    "        import h5py\n",
    "        for file_index, file_name in enumerate(self._files):\n",
    "            f = h5py.File(file_name,mode='r')\n",
    "            data_size = f['event_data'].shape[0]\n",
    "            start_entry = int(start_fraction * data_size)\n",
    "            num_entries = int(use_fraction * data_size)\n",
    "            self._event_to_file_index += [file_index] * num_entries\n",
    "            self._event_to_entry_index += range(start_entry, start_entry+num_entries)\n",
    "            f.close()\n",
    "\n",
    "    def __len__(self):\n",
    "        return len(self._event_to_file_index)\n",
    "\n",
    "    def __getitem__(self,idx):\n",
    "        file_index = self._event_to_file_index[idx]\n",
    "        entry_index = self._event_to_entry_index[idx]\n",
    "        if self._file_handles[file_index] is None:\n",
    "            import h5py\n",
    "            self._file_handles[file_index] = h5py.File(self._files[file_index],mode='r')\n",
    "        fh = self._file_handles[file_index]\n",
    "        label = fh['labels'][entry_index]\n",
    "        #labelTranslation = [-1,0,1,-1,2] # make sure that labels 1,2,4 get values 0,1,2\n",
    "        if label == 1: # electron\n",
    "            label = 0\n",
    "        elif label == 2: # muon\n",
    "            label = 1\n",
    "        elif label == 0: # gamma\n",
    "            label = 2\n",
    "        else:\n",
    "            print('Unknown label', label, 'for entry_index', entry_index, 'treating as label=0')\n",
    "            label = 0\n",
    "        \n",
    "        # try:\n",
    "        #     label = labelTranslation[label]\n",
    "        # except IndexError:\n",
    "        #     print('IndexError at entry', entry_index, 'label in file was', fh['labels'][entry_index], 'translations are', labelTranslation)\n",
    "        #     raise\n",
    "        \n",
    "        event_data = fh['event_data'][entry_index]\n",
    "        return event_data[:,:,0:1],label,idx,fh['positions'][entry_index,0],fh['directions'][entry_index,0],np.sum(fh['energies'][entry_index,:])\n",
    "        # the ,0 in positions and directions selects the pos/dir for the first track (in case of gamma)\n",
    "        # thus positions and directions are just np arrays with 3 elements\n",
    "\n",
    "def HKCollate(batch):\n",
    "    data  = np.stack([sample[0] for sample in batch])\n",
    "    label = [sample[1] for sample in batch]\n",
    "    idx   = [sample[2] for sample in batch]\n",
    "    pos   = np.stack([sample[3] for sample in batch])\n",
    "    direc = np.stack([sample[4] for sample in batch])\n",
    "    ene   = np.stack([sample[5] for sample in batch])\n",
    "    return data,label,idx,pos,direc,ene"
   ]
  },
  {
   "cell_type": "code",
   "execution_count": null,
   "metadata": {},
   "outputs": [],
   "source": [
    "mcdir = '/home/lukasb/watchmal/data/IWCDmPMT_4pi_full_tank/h5_topo'\n",
    "pnames = ('e-','mu-','gamma')\n",
    "files = ['%s/%s/IWCDmPMT_4pi_full_tank_%s_E0to1000MeV_unif-pos-R371-y521cm_4pi-dir_3000evts_%d.h5' % (mcdir,pname,pname,bch+100) for bch in range(60) for pname in pnames]\n",
    "\n",
    "train_ds = H5Dataset(files,start_fraction=0.0,use_fraction=0.9);\n",
    "test_ds  = H5Dataset(files,start_fraction=0.9,use_fraction=0.1);\n",
    "\n",
    "# for training\n",
    "train_loader=DataLoader(train_ds,batch_size=32,shuffle=True,num_workers=4,collate_fn=HKCollate)\n",
    "# for validation\n",
    "test_loader =DataLoader( test_ds,batch_size=64,shuffle=True,num_workers=2,collate_fn=HKCollate)"
   ]
  },
  {
   "cell_type": "code",
   "execution_count": null,
   "metadata": {},
   "outputs": [],
   "source": [
    "import torch.nn as nn\n",
    "import torch.nn.functional as F\n",
    "\n",
    "# based on https://github.com/kuangliu/pytorch-cifar/blob/master/models/resnet.py\n",
    "\n",
    "class BasicGeomBlock(nn.Module):\n",
    "    expansion = 1\n",
    "\n",
    "    def __init__(self, in_planes, planes, stride=1):\n",
    "        super(BasicGeomBlock, self).__init__()\n",
    "        \n",
    "        self.pad = 1\n",
    "        self.conv1 = nn.Conv2d(\n",
    "            in_planes, planes, kernel_size=2*self.pad+1, stride=stride, padding=0, bias=False)\n",
    "        self.bn1 = nn.BatchNorm2d(planes)\n",
    "        self.conv2 = nn.Conv2d(planes, planes, kernel_size=2*self.pad+1,\n",
    "                               stride=1, padding=0, bias=False)\n",
    "        self.bn2 = nn.BatchNorm2d(planes)\n",
    "\n",
    "        self.shortcut = nn.Sequential()\n",
    "        if stride != 1 or in_planes != self.expansion*planes:\n",
    "            self.shortcut = nn.Sequential(\n",
    "                nn.Conv2d(in_planes, self.expansion*planes,\n",
    "                          kernel_size=1, stride=stride, bias=False),\n",
    "                nn.BatchNorm2d(self.expansion*planes)\n",
    "            )\n",
    "\n",
    "    def forward(self, x):\n",
    "        out = F.relu(self.bn1(self.conv1(geometricPad(x,self.pad))))\n",
    "        out = self.bn2(self.conv2(geometricPad(out,self.pad)))\n",
    "        out += self.shortcut(x)\n",
    "        out = F.relu(out)\n",
    "        return out\n",
    "\n",
    "class ResNetGeom(nn.Module):\n",
    "    def __init__(self, block, num_blocks, num_classes=3):\n",
    "        super(ResNetGeom, self).__init__()\n",
    "        self.in_planes = 64\n",
    "        overall_in_planes = 1\n",
    "        self.pad = 1\n",
    "        \n",
    "        # (1,126,126)\n",
    "        self.conv1 = nn.Conv2d(overall_in_planes, 32, kernel_size=2*self.pad+1,\n",
    "                               stride=2, padding=0, bias=False)\n",
    "        self.bn1 = nn.BatchNorm2d(32)\n",
    "        # outsize = floor[(126+2*self.pad-3)/stride + 1]\n",
    "        # so for stride=1 we have 126,\n",
    "        #              =2          63 = floor(63.5)\n",
    "        # the padding is done by geometricPad\n",
    "        # thus (16,63,63)\n",
    "        self.conv2 = nn.Conv2d(32, 64, kernel_size=2*self.pad+1,\n",
    "                               stride=2, padding=0, bias=False)\n",
    "        self.bn2 = nn.BatchNorm2d(64)\n",
    "        # outsize = floor[(63+2*self.pad-3)/stride + 1]\n",
    "        # so for stride=1 we have 63,\n",
    "        #              =2         32\n",
    "        # thus (64,32,32)\n",
    "        self.layer1 = self._make_layer(block,  64, num_blocks[0], stride=1)\n",
    "        #      (64,32,32)\n",
    "        self.layer2 = self._make_layer(block,  64, num_blocks[1], stride=2)\n",
    "        #      (64,16,16)\n",
    "        self.layer3 = self._make_layer(block,  64, num_blocks[2], stride=2)\n",
    "        #      (64, 8, 8)\n",
    "        self.layer4 = self._make_layer(block, 128, num_blocks[3], stride=2)\n",
    "        #      (128,4, 4)\n",
    "        self.convbn5 = nn.Sequential(\n",
    "            nn.Conv2d(128,128,kernel_size=4,stride=1,padding=0),\n",
    "            nn.BatchNorm2d(128)\n",
    "        )\n",
    "        #      (128,1, 1)\n",
    "        # transform to 128, then\n",
    "        self.linear1 = nn.Linear(int(128*block.expansion),   int(128*block.expansion/2))\n",
    "        self.linear2 = nn.Linear(int(128*block.expansion/2), int(128*block.expansion/4))\n",
    "        self.linear3 = nn.Linear(int(128*block.expansion/4), int(128*block.expansion/8))\n",
    "        self.linear4 = nn.Linear(int(128*block.expansion/8), num_classes)\n",
    "\n",
    "    def _make_layer(self, block, planes, num_blocks, stride):\n",
    "        strides = [stride] + [1]*(num_blocks-1)\n",
    "        layers = []\n",
    "        for stride in strides:\n",
    "            layers.append(block(self.in_planes, planes, stride))\n",
    "            self.in_planes = planes * block.expansion\n",
    "        return nn.Sequential(*layers)\n",
    "\n",
    "    def forward(self, x):\n",
    "        out = F.relu(self.bn1(self.conv1(geometricPad(x,self.pad))))\n",
    "        out = F.relu(self.bn2(self.conv2(geometricPad(out,self.pad))))\n",
    "        out = self.layer1(out)\n",
    "        out = self.layer2(out)\n",
    "        out = self.layer3(out)\n",
    "        out = self.layer4(out)\n",
    "        out = F.relu(self.convbn5(out))\n",
    "        #out = F.avg_pool2d(out, out.shape[2:4])\n",
    "        out = out.view(out.size(0), -1)\n",
    "        out = F.relu(self.linear1(out))\n",
    "        out = F.relu(self.linear2(out))\n",
    "        out = F.relu(self.linear3(out))\n",
    "        out = self.linear4(out)\n",
    "        return out\n",
    "\n",
    "#    # I'm not sure why I need to implement cpu/cuda myself, train works somehow\n",
    "#    \n",
    "#    def cpu(self):\n",
    "#        super(GeomCNN, self).cpu()\n",
    "#        for module in self._feature:\n",
    "#            module.cpu()\n",
    "#        for module in self._classifier:\n",
    "#            module.cpu()\n",
    "#        return self\n",
    "#    \n",
    "#    def cuda(self):\n",
    "#        super(GeomCNN, self).cuda()\n",
    "#        for module in self._feature:\n",
    "#            module.cuda()\n",
    "#        for module in self._classifier:\n",
    "#            module.cuda()\n",
    "#        return self\n",
    "\n",
    "def ResNetGeom18(num_classes):\n",
    "    return ResNetGeom(BasicGeomBlock, [2, 2, 2, 2], num_classes)"
   ]
  },
  {
   "cell_type": "code",
   "execution_count": null,
   "metadata": {},
   "outputs": [],
   "source": [
    "class BLOB:\n",
    "    pass\n",
    "blob=BLOB()\n",
    "blob.net       = ResNetGeom18(3).cuda() # construct ResNet for 2 class classification, use GPU\n",
    "# just the training weights is ~700MiB\n",
    "blob.criterion = torch.nn.CrossEntropyLoss() # use softmax loss to define an error\n",
    "blob.optimizer = torch.optim.Adam(blob.net.parameters()) # use Adam optimizer algorithm\n",
    "blob.softmax   = torch.nn.Softmax(dim=1) # not for training, but softmax score for each class\n",
    "blob.prefix    = '20200708-03-IWCD-ResNetGeom-02-e-mu-gamma'\n",
    "blob.epoch     = 0.\n",
    "blob.iteration = 0\n",
    "blob.data      = None # data for training/analysis\n",
    "blob.label     = None # label for training/analysis"
   ]
  },
  {
   "cell_type": "code",
   "execution_count": null,
   "metadata": {},
   "outputs": [],
   "source": [
    "restore_state(blob, 60752)"
   ]
  },
  {
   "cell_type": "code",
   "execution_count": null,
   "metadata": {},
   "outputs": [],
   "source": [
    "labelNames = ['e','μ','γ']\n",
    "Nrows = 5\n",
    "for r in range(Nrows):\n",
    "    Nplot = 6\n",
    "    fig, axes = plt.subplots(1, Nplot, figsize=(16,3),facecolor='w')\n",
    "\n",
    "    blob.net.eval()\n",
    "    test_data = next(iter(test_loader))\n",
    "    blob.data,blob.label = test_data[0:2]\n",
    "    blob.data  = blob.data[0:Nplot,:,:,:]\n",
    "    blob.label = blob.label[0:Nplot]\n",
    "    \n",
    "    blob.formatted_data = torch.as_tensor(blob.data).cuda()#[torch.as_tensor(d).cuda() for d in blob.data]\n",
    "    blob.formatted_data = blob.formatted_data.permute(0,3,1,2)\n",
    "    \n",
    "    out = blob.net(blob.formatted_data)\n",
    "    prediction = torch.argmax(out,dim=-1)\n",
    "    \n",
    "    for ev in range(Nplot):\n",
    "        im = axes[ev].imshow(np.log(blob.data[ev,:,:,0]+0.5))\n",
    "        #imshowRdBu(axes[2*ev+qt], blob.formatted_data.grad[ev,qt,:,:].cpu())\n",
    "        correct = (blob.label[ev] == prediction[ev])\n",
    "        axes[ev].set_title('%s pred: %s, true: %s' % ('✔︎' if correct else '✖︎', labelNames[blob.label[ev]], labelNames[prediction[ev]]))\n",
    "        #cbar = fig.colorbar(im, ax=axes[0])\n",
    "    plt.show()\n",
    "    \n",
    "    blob.formatted_data.requires_grad = True\n",
    "    for case in [0,1,2]:\n",
    "        if blob.formatted_data.grad is not None:\n",
    "            blob.formatted_data.grad.zero_()\n",
    "        out = torch.log(blob.softmax(blob.net(blob.formatted_data)))\n",
    "\n",
    "        activation = torch.zeros(out.shape)\n",
    "        activation[:,case] = +1.\n",
    "        out.backward(activation.cuda())\n",
    "\n",
    "        fig, axes = plt.subplots(1, Nplot, figsize=(16,3),facecolor='w')\n",
    "        for ev in range(Nplot):\n",
    "            imshowRdBu(axes[ev], blob.formatted_data.grad[ev,0,:,:].cpu())\n",
    "        axes[0].set_title('d/dx p(%s)' % (labelNames[case]))\n",
    "        plt.show();\n",
    "    \n",
    "    if blob.formatted_data.grad is not None:\n",
    "        blob.formatted_data.grad.zero_()\n",
    "    out = torch.log(blob.softmax(blob.net(blob.formatted_data)))\n",
    "\n",
    "    activation = torch.zeros(out.shape)\n",
    "    activation[:,0] = +1.\n",
    "    activation[:,2] = -1.\n",
    "    out.backward(activation.cuda())\n",
    "\n",
    "    fig, axes = plt.subplots(1, Nplot, figsize=(16,3),facecolor='w')\n",
    "    for ev in range(Nplot):\n",
    "        imshowRdBu(axes[ev], blob.formatted_data.grad[ev,0,:,:].cpu())\n",
    "    axes[0].set_title('d/dx [p(%s) - p(%s)]' % (labelNames[0],labelNames[2]))\n",
    "    plt.show();\n",
    "\n",
    "    \n",
    "    del test_data\n",
    "    del blob.data\n",
    "    del blob.label\n",
    "    del blob.formatted_data"
   ]
  },
  {
   "cell_type": "markdown",
   "metadata": {},
   "source": [
    "## just look at the output of each layer"
   ]
  },
  {
   "cell_type": "code",
   "execution_count": null,
   "metadata": {},
   "outputs": [],
   "source": [
    "# out = F.relu(self.bn1(self.conv1(geometricPad(x,self.pad))))\n",
    "# out = F.relu(self.bn2(self.conv2(geometricPad(out,self.pad))))\n",
    "# out = self.layer1(out)\n",
    "# out = self.layer2(out)\n",
    "# out = self.layer3(out)\n",
    "# out = self.layer4(out)\n",
    "# out = F.relu(self.convbn5(out))\n",
    "# out = out.view(out.size(0), -1)\n",
    "# out = F.relu(self.linear1(out))\n",
    "# out = F.relu(self.linear2(out))\n",
    "# out = F.relu(self.linear3(out))\n",
    "# out = self.linear4(out)\n",
    "\n",
    "\n",
    "\n",
    "Nplot = 6\n",
    "fig, axes = plt.subplots(1, Nplot, figsize=(16,3),facecolor='w')\n",
    "\n",
    "blob.net.eval()\n",
    "test_data = next(iter(test_loader))\n",
    "blob.data,blob.label = test_data[0:2]\n",
    "blob.data  = blob.data[0:Nplot,:,:,:]\n",
    "blob.label = blob.label[0:Nplot]\n",
    "\n",
    "blob.formatted_data = torch.as_tensor(blob.data).cuda()#[torch.as_tensor(d).cuda() for d in blob.data]\n",
    "blob.formatted_data = blob.formatted_data.permute(0,3,1,2)\n",
    "\n",
    "for ev in range(Nplot):\n",
    "    im = axes[ev].imshow(np.log(blob.data[ev,:,:,0]+0.5))\n",
    "plt.show()"
   ]
  },
  {
   "cell_type": "code",
   "execution_count": null,
   "metadata": {},
   "outputs": [],
   "source": [
    "convbn1 = F.relu(blob.net.bn1(blob.net.conv1(geometricPad(blob.formatted_data,blob.net.pad))))"
   ]
  },
  {
   "cell_type": "code",
   "execution_count": null,
   "metadata": {},
   "outputs": [],
   "source": [
    "convbn1.shape"
   ]
  },
  {
   "cell_type": "code",
   "execution_count": null,
   "metadata": {},
   "outputs": [],
   "source": [
    "for r in range(convbn1.shape[1]):\n",
    "    fig, axes = plt.subplots(1, Nplot, figsize=(16,3),facecolor='w')\n",
    "    for ev in range(Nplot):\n",
    "        imshowRdBu(axes[ev], convbn1[ev,r,:,:].cpu().detach())\n",
    "    plt.show()"
   ]
  },
  {
   "cell_type": "code",
   "execution_count": null,
   "metadata": {},
   "outputs": [],
   "source": [
    "convbn2 = F.relu(blob.net.bn2(blob.net.conv2(geometricPad(convbn1,blob.net.pad))))"
   ]
  },
  {
   "cell_type": "code",
   "execution_count": null,
   "metadata": {},
   "outputs": [],
   "source": [
    "for r in range(convbn2.shape[1]):\n",
    "    fig, axes = plt.subplots(1, Nplot, figsize=(16,3),facecolor='w')\n",
    "    for ev in range(Nplot):\n",
    "        imshowRdBu(axes[ev], convbn2[ev,r,:,:].cpu().detach())\n",
    "    plt.show()"
   ]
  },
  {
   "cell_type": "code",
   "execution_count": null,
   "metadata": {},
   "outputs": [],
   "source": [
    "layer1 = blob.net.layer1(convbn2)"
   ]
  },
  {
   "cell_type": "code",
   "execution_count": null,
   "metadata": {},
   "outputs": [],
   "source": [
    "for r in range(layer1.shape[1]):\n",
    "    fig, axes = plt.subplots(1, Nplot, figsize=(16,3),facecolor='w')\n",
    "    for ev in range(Nplot):\n",
    "        imshowRdBu(axes[ev], layer1[ev,r,:,:].cpu().detach())\n",
    "    plt.show()"
   ]
  },
  {
   "cell_type": "code",
   "execution_count": null,
   "metadata": {},
   "outputs": [],
   "source": []
  }
 ],
 "metadata": {
  "kernelspec": {
   "display_name": "Python 3",
   "language": "python",
   "name": "python3"
  },
  "language_info": {
   "codemirror_mode": {
    "name": "ipython",
    "version": 3
   },
   "file_extension": ".py",
   "mimetype": "text/x-python",
   "name": "python",
   "nbconvert_exporter": "python",
   "pygments_lexer": "ipython3",
   "version": "3.7.6"
  }
 },
 "nbformat": 4,
 "nbformat_minor": 4
}
