{
 "cells": [
  {
   "cell_type": "markdown",
   "metadata": {},
   "source": [
    "position reconstruction with taylor (PMT pos and dir). This 17c I combine the taylorizer with the convolution layer which should speed things up."
   ]
  },
  {
   "cell_type": "code",
   "execution_count": 1,
   "metadata": {},
   "outputs": [],
   "source": [
    "from __future__ import print_function\n",
    "import numpy as np\n",
    "import torch \n",
    "import h5py\n",
    "import matplotlib.pyplot as plt\n",
    "%matplotlib inline\n",
    "\n",
    "def geometricPad(grid, pad=1):\n",
    "  M = grid.shape[2]; # 0:batchsize, 1:channels, 2:width, 3:height\n",
    "  M_new = pad+M+pad;\n",
    "  new_shape = (grid.shape[0], grid.shape[1], M_new, M_new)\n",
    "  grid_new = grid.new_zeros(new_shape);\n",
    "  grid_new[:,:,pad:M+pad,pad:M+pad] = grid;\n",
    "  grid_new[:,:,0:pad,pad:(M+pad)] = grid[:,:,:,0:pad].flip(-1).transpose(-1,-2);\n",
    "  grid_new[:,:,pad:(M+pad),0:pad] = grid[:,:,0:pad,:].flip(-2).transpose(-1,-2);\n",
    "  grid_new[:,:,(M+pad):(M+pad+pad),(pad):(M+pad)] = grid[:,:,:,(M-pad):].flip(-1).transpose(-1,-2);\n",
    "  grid_new[:,:,pad:(M+pad),(M+pad):(M+pad+pad)] = grid[:,:,(M-pad):,:].flip(-2).transpose(-1,-2);\n",
    "  return(grid_new);"
   ]
  },
  {
   "cell_type": "code",
   "execution_count": 2,
   "metadata": {},
   "outputs": [],
   "source": [
    "SMALL_SIZE = 14\n",
    "MEDIUM_SIZE = 16\n",
    "BIGGER_SIZE = 18\n",
    "\n",
    "plt.rc('font', size=SMALL_SIZE)          # controls default text sizes\n",
    "plt.rc('axes', titlesize=SMALL_SIZE)     # fontsize of the axes title\n",
    "plt.rc('axes', labelsize=MEDIUM_SIZE)    # fontsize of the x and y labels\n",
    "plt.rc('xtick', labelsize=SMALL_SIZE)    # fontsize of the tick labels\n",
    "plt.rc('ytick', labelsize=SMALL_SIZE)    # fontsize of the tick labels\n",
    "plt.rc('legend', fontsize=SMALL_SIZE)    # legend fontsize\n",
    "plt.rc('figure', titlesize=BIGGER_SIZE)  # fontsize of the figure title"
   ]
  },
  {
   "cell_type": "code",
   "execution_count": 3,
   "metadata": {},
   "outputs": [],
   "source": [
    "f = h5py.File('/home/lukasb/watchmal/data_ssd/IWCDmPMT_4pi_full_tank/h5_topo/e-/IWCDmPMT_4pi_full_tank_e-_E0to1000MeV_unif-pos-R371-y521cm_4pi-dir_3000evts_1.h5','r')\n",
    "event_data = f['event_data'][:]"
   ]
  },
  {
   "cell_type": "code",
   "execution_count": 4,
   "metadata": {},
   "outputs": [
    {
     "data": {
      "text/plain": [
       "<KeysViewHDF5 ['directions', 'energies', 'event_data', 'event_ids', 'labels', 'mGridDirX', 'mGridDirY', 'mGridDirZ', 'mGridPmt', 'mGridX', 'mGridY', 'mGridZ', 'pids', 'positions']>"
      ]
     },
     "execution_count": 4,
     "metadata": {},
     "output_type": "execute_result"
    }
   ],
   "source": [
    "f.keys()"
   ]
  },
  {
   "cell_type": "code",
   "execution_count": 5,
   "metadata": {},
   "outputs": [
    {
     "data": {
      "text/plain": [
       "(3000, 126, 126, 2)"
      ]
     },
     "execution_count": 5,
     "metadata": {},
     "output_type": "execute_result"
    }
   ],
   "source": [
    "event_data.shape"
   ]
  },
  {
   "cell_type": "code",
   "execution_count": 6,
   "metadata": {},
   "outputs": [
    {
     "data": {
      "text/plain": [
       "<matplotlib.image.AxesImage at 0x7fa71fc20a10>"
      ]
     },
     "execution_count": 6,
     "metadata": {},
     "output_type": "execute_result"
    },
    {
     "data": {
      "image/png": "[encoded data removed]",
      "text/plain": [
       "<Figure size 432x288 with 1 Axes>"
      ]
     },
     "metadata": {
      "needs_background": "light"
     },
     "output_type": "display_data"
    }
   ],
   "source": [
    "plt.imshow(event_data[2,:,:,0])"
   ]
  },
  {
   "cell_type": "code",
   "execution_count": 7,
   "metadata": {},
   "outputs": [
    {
     "data": {
      "text/plain": [
       "(126, 126, 6)"
      ]
     },
     "execution_count": 7,
     "metadata": {},
     "output_type": "execute_result"
    }
   ],
   "source": [
    "mGridCoords = np.stack([\n",
    "    f['mGridX'][()]/1000.,\n",
    "    f['mGridY'][()]/1000.,\n",
    "    f['mGridZ'][()]/1000.,\n",
    "    f['mGridDirX'][()]*3.,\n",
    "    f['mGridDirY'][()]*3.,\n",
    "    f['mGridDirZ'][()]*3.\n",
    "],2).astype(np.float32)\n",
    "mGridCoords.shape"
   ]
  },
  {
   "cell_type": "code",
   "execution_count": 8,
   "metadata": {},
   "outputs": [
    {
     "data": {
      "text/plain": [
       "dtype('float32')"
      ]
     },
     "execution_count": 8,
     "metadata": {},
     "output_type": "execute_result"
    }
   ],
   "source": [
    "mGridCoords.dtype"
   ]
  },
  {
   "cell_type": "code",
   "execution_count": 9,
   "metadata": {},
   "outputs": [
    {
     "data": {
      "text/plain": [
       "(1, 126, 126, 6)"
      ]
     },
     "execution_count": 9,
     "metadata": {},
     "output_type": "execute_result"
    }
   ],
   "source": [
    "np.stack([mGridCoords]).shape"
   ]
  },
  {
   "cell_type": "code",
   "execution_count": 10,
   "metadata": {},
   "outputs": [
    {
     "data": {
      "text/plain": [
       "(3000, 126, 126, 6)"
      ]
     },
     "execution_count": 10,
     "metadata": {},
     "output_type": "execute_result"
    }
   ],
   "source": [
    "np.broadcast_to(mGridCoords, (3000,126,126,6)).shape"
   ]
  },
  {
   "cell_type": "code",
   "execution_count": 11,
   "metadata": {},
   "outputs": [
    {
     "data": {
      "text/plain": [
       "(3000, 126, 126, 6)"
      ]
     },
     "execution_count": 11,
     "metadata": {},
     "output_type": "execute_result"
    }
   ],
   "source": [
    "(event_data.shape[0],)+mGridCoords.shape"
   ]
  },
  {
   "cell_type": "code",
   "execution_count": 12,
   "metadata": {},
   "outputs": [
    {
     "data": {
      "text/plain": [
       "(3000, 126, 126, 6)"
      ]
     },
     "execution_count": 12,
     "metadata": {},
     "output_type": "execute_result"
    }
   ],
   "source": [
    "np.broadcast_to(mGridCoords, (event_data.shape[0],)+mGridCoords.shape).shape"
   ]
  },
  {
   "cell_type": "code",
   "execution_count": 13,
   "metadata": {},
   "outputs": [
    {
     "data": {
      "text/plain": [
       "<matplotlib.image.AxesImage at 0x7fa71fb39ed0>"
      ]
     },
     "execution_count": 13,
     "metadata": {},
     "output_type": "execute_result"
    },
    {
     "data": {
      "image/png": "[encoded data removed]",
      "text/plain": [
       "<Figure size 432x288 with 1 Axes>"
      ]
     },
     "metadata": {
      "needs_background": "light"
     },
     "output_type": "display_data"
    }
   ],
   "source": [
    "plt.imshow(np.broadcast_to(mGridCoords, (event_data.shape[0],)+mGridCoords.shape)[2,:,:,0])"
   ]
  },
  {
   "cell_type": "code",
   "execution_count": 14,
   "metadata": {},
   "outputs": [
    {
     "data": {
      "text/plain": [
       "(3000, 126, 126, 8)"
      ]
     },
     "execution_count": 14,
     "metadata": {},
     "output_type": "execute_result"
    }
   ],
   "source": [
    "np.concatenate([event_data, np.broadcast_to(mGridCoords, (event_data.shape[0],)+mGridCoords.shape)],3).shape"
   ]
  },
  {
   "cell_type": "code",
   "execution_count": 15,
   "metadata": {},
   "outputs": [],
   "source": [
    "def imshowRdBu(ax,img):\n",
    "    minmax = max(torch.max(img),-torch.min(img))\n",
    "    return ax.imshow(-img,cmap='RdBu',vmin=-minmax,vmax=minmax)"
   ]
  },
  {
   "cell_type": "markdown",
   "metadata": {},
   "source": [
    "## Taylor prep"
   ]
  },
  {
   "cell_type": "code",
   "execution_count": 28,
   "metadata": {},
   "outputs": [],
   "source": [
    "class Taylorizer:\n",
    "    \"\"\"Perform taylor expansion of tensor using pre-computed expansion weights\"\"\"\n",
    "    def __init__(self, mGridPmt, mGridCoord, vectorStartIndices, pad=1, Lambda=0.5):\n",
    "        \"\"\"\n",
    "        mGridPmt:   numpy array with (Height,Width) only significance is\n",
    "                    1. value should be unique for each grid site\n",
    "                    2. if no PMT exists, set to -1\n",
    "        mGridCoord: numpy array with (Ncoords,Height,Width)\n",
    "        vectorStartIndices: array with the start indices of xyz vectors in Ncoords, e.g.\n",
    "                            for [x,y,z,dirx,diry,dirz] pass [0,3] which treats (x,y,z) and (dirx,diry,dirz)\n",
    "                            as a vector\n",
    "        pad:        the taylor expansion will be performed on a grid with sides 2*pad+1\n",
    "        Lambda:     the regularization strength. should be something of order the differences in mGridCoord\n",
    "        \"\"\"\n",
    "        \n",
    "        self.mGridPmt   = mGridPmt\n",
    "        self.mGridCoord = mGridCoord\n",
    "        self.vectorStartIndices = vectorStartIndices\n",
    "        self.pad = pad\n",
    "        self.Lambda = Lambda\n",
    "        self.rotPhi = 0.\n",
    "        self.AA = self.computeTaylorWeights()\n",
    "    \n",
    "    def cuda(self):\n",
    "        self.AA = self.AA.cuda()\n",
    "    \n",
    "    def cpu(self):\n",
    "        self.AA = self.AA.cpu()\n",
    "        \n",
    "    def __call__(self, inputs):\n",
    "        return self.taylorize(inputs)\n",
    "\n",
    "    def computeTaylorWeights(self):\n",
    "        pad = self.pad\n",
    "        mGridPmt = self.mGridPmt\n",
    "        mGridCoord = self.mGridCoord\n",
    "\n",
    "        Ncoords = mGridCoord.shape[0]\n",
    "        Ntaylor = 1 + Ncoords + (Ncoords*(Ncoords+1))//2 # // is interger division\n",
    "        self.Ntaylor = Ntaylor\n",
    "\n",
    "        M = mGridPmt.shape[0]\n",
    "        mGridI = np.reshape(np.repeat(np.arange(M),M), (M,M))\n",
    "        mGridJ = mGridI.transpose()\n",
    "\n",
    "        Nshift = 2*pad+1\n",
    "        dij = np.reshape(np.repeat(np.arange(-pad,pad+1),Nshift), (Nshift,Nshift));\n",
    "        dis = dij.flatten()\n",
    "        djs = dij.transpose().flatten();\n",
    "        Nsites = dis.size;\n",
    "        \n",
    "        self.dis = dis\n",
    "        self.djs = djs\n",
    "        self.Nsites = Nsites\n",
    "\n",
    "        mGridPmtpad = geometricPad(torch.tensor(mGridPmt).unsqueeze(0).unsqueeze(0), pad).squeeze(0).squeeze(0).numpy();\n",
    "        mGridIpad = geometricPad(torch.tensor(mGridI).unsqueeze(0).unsqueeze(0), pad).squeeze(0).squeeze(0).numpy();\n",
    "        mGridJpad = geometricPad(torch.tensor(mGridJ).unsqueeze(0).unsqueeze(0), pad).squeeze(0).squeeze(0).numpy();\n",
    "\n",
    "        mGridCoordPad = geometricPad(torch.tensor(mGridCoord).unsqueeze(0), pad).squeeze(0).numpy();\n",
    "\n",
    "\n",
    "        mGridAA2 = np.zeros((M,M,Nshift,Nshift,Ntaylor))\n",
    "\n",
    "        pmtI1 = mGridPmt[:,:]; # index in tank.pmt\n",
    "\n",
    "        x      = np.zeros((Ncoords,M,M,Nsites));     # coordinates for each direction\n",
    "        skip   = np.zeros((M,M,Nsites), dtype=bool); # for each direction whether we should skip or not\n",
    "        processedPmtI2s = np.zeros((M,M,Nsites), dtype=int) - 1;\n",
    "\n",
    "        for diji in range(Nsites):\n",
    "            di = dis[diji]\n",
    "            dj = djs[diji]\n",
    "            # i2 = mGridIpad[pad+di:pad+M+di,pad+dj:pad+M+dj];\n",
    "            # j2 = mGridJpad[pad+di:pad+M+di,pad+dj:pad+M+dj];\n",
    "            pmtI2 = mGridPmtpad[(pad+di):(pad+M+di),(pad+dj):(pad+M+dj)];\n",
    "            processedPmtI2s[:,:,diji] = pmtI2;\n",
    "\n",
    "            skip[:,:,diji] = np.logical_or(np.equal(pmtI1,-1), np.equal(pmtI2,-1));\n",
    "            for prev_diji in range(diji):\n",
    "                skip[:,:,diji] = np.logical_or(skip[:,:,diji], np.equal(processedPmtI2s[:,:,prev_diji],pmtI2));\n",
    "\n",
    "            x[:,:,:,diji] = mGridCoordPad[:,(pad+di):(pad+M+di),(pad+dj):(pad+M+dj)] - mGridCoord; # \n",
    "\n",
    "        # x: (Ncoords,M,M,Nsites)\n",
    "        # print('x.shape:', x.shape)\n",
    "        # X: (Ntaylor,M,M,Nsites)\n",
    "        Xlist = [np.expand_dims(np.ones(x.shape[1:]),0),x]\n",
    "        for i in range(Ncoords):\n",
    "            Xlist.append(np.stack([x[i,:,:,:] for j in range(Ncoords-i)]) * x[i:,:,:,:])\n",
    "        X = np.concatenate(Xlist)\n",
    "        # print('X.shape:', X.shape)\n",
    "        X = np.where(np.expand_dims(skip, 0), 0., X);\n",
    "\n",
    "        # regularization strength\n",
    "        Lambda = self.Lambda; # this should be somewhat smaller than typical values of x\n",
    "\n",
    "        MA = np.zeros((M,M,Nsites,Nsites));\n",
    "        for k in range(Nsites):\n",
    "            for j in range(Nsites):\n",
    "                MA[:,:,k,j] = np.add(np.sum(X[:,:,:,k]*X[:,:,:,j], axis=0), Lambda**2 * (k==j));\n",
    "            # clear skip entries\n",
    "            MA[:,:,k,:] = np.where(np.expand_dims(skip[:,:,k],-1), 0., MA[:,:,k,:]);\n",
    "            MA[:,:,:,j] = np.where(np.expand_dims(skip[:,:,j],-1), 0., MA[:,:,:,j]);\n",
    "            # set diagonal:\n",
    "            MA[:,:,k,k] = np.where(skip[:,:,k], 1., MA[:,:,k,k]);\n",
    "\n",
    "        #print('MA.shape:',MA.shape)\n",
    "        #print(MA[0,1,:,:])\n",
    "        #print(np.linalg.inv(MA[0,1,:,:]))\n",
    "        print(\"starting inversion... (may take a few seconds)\")\n",
    "        AA = np.einsum('hwsi,thwi->thws', np.linalg.inv(MA), X)\n",
    "        print(\"done\")\n",
    "        # print('AA.shape:', AA.shape)\n",
    "        return torch.tensor(AA, dtype=torch.float)\n",
    "    \n",
    "    def getRotMatrix(self, inputs):\n",
    "        # we use new_zeros and set diagonal to 1, because there is no new_eye method\n",
    "        rotMatrix = inputs.new_zeros(self.Ntaylor, self.Ntaylor)\n",
    "        for d in range(self.Ntaylor):\n",
    "            rotMatrix[d,d] = 1.\n",
    "        \n",
    "        for startIndex in self.vectorStartIndices:\n",
    "            startIndex = 1 + startIndex # the 1 is offset due to scalar\n",
    "            d_x = 0\n",
    "            d_y = 1\n",
    "            rotMatrix[startIndex+d_x,startIndex+d_x] =  np.cos(self.rotPhi);\n",
    "            rotMatrix[startIndex+d_x,startIndex+d_y] =  np.sin(self.rotPhi); # this is an inverse rotation because w is covariant\n",
    "            rotMatrix[startIndex+d_y,startIndex+d_x] = -np.sin(self.rotPhi);\n",
    "            rotMatrix[startIndex+d_y,startIndex+d_y] =  np.cos(self.rotPhi);\n",
    "        \n",
    "        return rotMatrix\n",
    "    \n",
    "    def taylorize(self, inputs):\n",
    "        Batches = inputs.shape[0]\n",
    "        ChIn    = inputs.shape[1]\n",
    "        Height  = inputs.shape[2]\n",
    "        Width   = inputs.shape[3]\n",
    "        tGridAA = self.AA\n",
    "\n",
    "        inputsPad = geometricPad(inputs, self.pad); # (B,C,W,H)\n",
    "        # tayloredInput = inputs.new_zeros((Batches, self.Ntaylor, ChIn, Height, Width))\n",
    "        \n",
    "        rotMatrix = self.getRotMatrix(inputs)\n",
    "        \n",
    "        #print('tGridAA.shape:', tGridAA.shape)\n",
    "        #print('tayloredInput.shape:', tayloredInput.shape)\n",
    "        #print('inputsPad.shape:', inputsPad.shape)\n",
    "        \n",
    "        # <method0> -- using for loop and narrow. quite slow\n",
    "        # for k in range(self.Nsites):\n",
    "        #     # shift grid according to position (without copying the data)\n",
    "        #     inputsPadD1 = torch.narrow(inputsPad,   2, self.pad+int(self.dis[k]), Height)\n",
    "        #     inputsPadD2 = torch.narrow(inputsPadD1, 3, self.pad+int(self.djs[k]), Width )\n",
    "        #     #print('inputsPadD2.shape:', inputsPadD2.shape)\n",
    "        #     # fill\n",
    "        #     # d,e: directional index (Ntaylor)\n",
    "        #     # i,j: grid indices\n",
    "        #     # b: event in batch\n",
    "        #     # c: channel\n",
    "        #     \n",
    "        #     # out = torch.add(tayloredInput, torch.einsum('dij,bcij->bdcij', tGridAA[:,:,:,k], inputsPadD2))\n",
    "        #     # tayloredInput = out\n",
    "        #     \n",
    "        #     # dij,bcij->bdcij\n",
    "        #     tayloredInput += tGridAA[:,:,:,k].view(1, self.Ntaylor, 1, Height, Width) * inputsPadD2.view(Batches, 1, ChIn, Height, Width)\n",
    "        # </method0>\n",
    "        \n",
    "        # inputsPad      = (B, ChIn, Height+1, Width+1)\n",
    "        #print('inputsPad', inputsPad.shape, inputsPad.stride())\n",
    "        inputsUnfolded = torch.nn.functional.unfold(inputsPad, kernel_size=(2*self.pad+1,2*self.pad+1))\n",
    "        #print('inputsUnfolded', inputsUnfolded.shape, inputsUnfolded.stride())\n",
    "        #print('tGridAA', tGridAA.shape, tGridAA.stride())\n",
    "        # inputsUnfolded = (B, C*Nsites, Height*Width)\n",
    "        \n",
    "        # tGridAA = (Ntaylor, Height, Width, Nsites)\n",
    "        if self.rotPhi != 0.:\n",
    "            org = tGridAA\n",
    "            tGridAA = torch.einsum('ed,dijs->eijs', rotMatrix, org).contiguous()\n",
    "        \n",
    "        # <method1> using einsum -- requires contiguous at end of function\n",
    "        inputsUnfolded = inputsUnfolded.view(Batches, ChIn, self.Nsites, Height, Width)\n",
    "        tayloredInput = torch.einsum('dijs,bcsij->bdcij', tGridAA, inputsUnfolded)\n",
    "        # </method1>\n",
    "        \n",
    "        # # <method2> using matmul -- seems to blow up GPU memory\n",
    "        # inputsUnfolded = inputsUnfolded.view(Batches, 1, ChIn, self.Nsites, 1, Height, Width) # bdcs1ij\n",
    "        # inputsUnfolded = inputsUnfolded.permute(0, 1, 2, 5, 6, 3, 4) # bdcijs1\n",
    "        # #print('inputsUnfolded after view', inputsUnfolded.shape, inputsUnfolded.stride())\n",
    "        # tayloredInput = torch.matmul(\n",
    "        #     tGridAA.view(1, self.Ntaylor, 1, Height, Width, 1, self.Nsites),\n",
    "        #     inputsUnfolded\n",
    "        # ) # bdcij1\n",
    "        # tayloredInput = tayloredInput.view(Batches, self.Ntaylor, ChIn, Height, Width) # bdcij\n",
    "        # # </method2>\n",
    "        \n",
    "        #print('tayloredInput', tayloredInput.shape, tayloredInput.stride())\n",
    "        #print('target', Batches, self.Ntaylor*ChIn, Height, Width)\n",
    "        \n",
    "        #print('tayloredInput.shape', tayloredInput.shape, 'to', (Batches, self.Ntaylor*ChIn, Height, Width))\n",
    "        \n",
    "        # # <method2> using matmul -- seems to blow up GPU memory\n",
    "        # return tayloredInput.view(Batches, self.Ntaylor*ChIn, Height, Width)\n",
    "        # # </method2>\n",
    "        \n",
    "        # <method1> using einsum -- requires contiguous at end of function\n",
    "        # this contiguous() step is only needed when using unfold (problem is what exactly einsum does)\n",
    "        return tayloredInput.contiguous().view(Batches, self.Ntaylor*ChIn, Height, Width)\n",
    "        # </method1>\n",
    "    \n",
    "    def taylorizeAndConv(self, inputs, conv1x1):\n",
    "        Batches = inputs.shape[0]\n",
    "        ChIn    = inputs.shape[1]\n",
    "        Height  = inputs.shape[2]\n",
    "        Width   = inputs.shape[3]\n",
    "        tGridAA = self.AA\n",
    "\n",
    "        inputsPad = geometricPad(inputs, self.pad); # (B,C,W,H)\n",
    "        rotMatrix = self.getRotMatrix(inputs)\n",
    "        \n",
    "        #print('tGridAA.shape:', tGridAA.shape)\n",
    "        #print('tayloredInput.shape:', tayloredInput.shape)\n",
    "        #print('inputsPad.shape:', inputsPad.shape)\n",
    "        \n",
    "        # inputsPad      = (B, ChIn, Height+1, Width+1)\n",
    "        inputsUnfolded = torch.nn.functional.unfold(inputsPad, kernel_size=(2*self.pad+1,2*self.pad+1))\n",
    "        # inputsUnfolded = (B, C*Nsites, Height*Width)\n",
    "        \n",
    "        # tGridAA = (Ntaylor, Height, Width, Nsites)\n",
    "        if self.rotPhi != 0.:\n",
    "            org = tGridAA\n",
    "            tGridAA = torch.einsum('ed,dijs->eijs', rotMatrix, org).contiguous()\n",
    "        # now convolve\n",
    "        # conv1x1 = (ChOut, Ntaylor*ChIn)\n",
    "        # conv1x1.weights = (ChOut, Ntaylor*ChIn, 1, 1)\n",
    "        # conv1x1.bias    = (ChOut)\n",
    "        ChOut = conv1x1.weight.shape[0]\n",
    "        conv1x1_weight = conv1x1.weight.view(ChOut, self.Ntaylor, ChIn) # separate out Ntaylor*ChIn\n",
    "        # let's denote ChOut as g\n",
    "        tGridAA = torch.einsum('gdc,dijs->gcsij', conv1x1_weight, tGridAA) # i.e. sum over d=Ntaylor\n",
    "        if conv1x1.bias is not None:\n",
    "            tGridAA = torch.einsum('gcsij,g->gcsij', tGridAA, conv1x1.bias)\n",
    "        # tGridAA = (ChOut, ChIn, Nsites, Height, Width)\n",
    "        # let's denote ChOut as g\n",
    "        \n",
    "        # <method1> using einsum -- requires contiguous at end of function\n",
    "        inputsUnfolded = inputsUnfolded.view(Batches, ChIn, self.Nsites, Height, Width)\n",
    "        tayloredInput = torch.einsum('gcsij,bcsij->bgij', tGridAA, inputsUnfolded) # sum over c,s\n",
    "        # </method1>\n",
    "        \n",
    "        #print('tayloredInput', tayloredInput.shape, tayloredInput.stride())\n",
    "        #print('target', Batches, self.Ntaylor*ChIn, Height, Width)\n",
    "        \n",
    "        #print('tayloredInput.shape', tayloredInput.shape, 'to', (Batches, self.Ntaylor*ChIn, Height, Width))\n",
    "        \n",
    "        # # <method2> using matmul -- seems to blow up GPU memory\n",
    "        # return tayloredInput.view(Batches, self.Ntaylor*ChIn, Height, Width)\n",
    "        # # </method2>\n",
    "        \n",
    "        # <method1> using einsum -- requires contiguous at end of function\n",
    "        # this contiguous() step is only needed when using unfold (problem is what exactly einsum does)\n",
    "        return tayloredInput\n",
    "        # return tayloredInput.contiguous()\n",
    "        # </method1>\n",
    "    \n",
    "    def pool2d(self, kernel_size, stride=None, padding=0, pad=-1, Lambda=-1.):\n",
    "        \"\"\"\n",
    "        Return new Taylorizer that can be used for the result of a 2d pool operation with given kernel size.\n",
    "        kernel_size: e.g. for 2x2 max-pooling use (2,2)\n",
    "        stride: defaults to kernel_size\n",
    "        padding: the padding for the pool2d operation (not passed to child taylor). default: 0\n",
    "        pad:    passed to child. if unset (-1)  use same as current\n",
    "        Lambda: passed to child. if unset (-1.) use same as current\n",
    "        \"\"\"\n",
    "        if stride is None:\n",
    "            stride = kernel_size\n",
    "        mGridPmt1    = torch.nn.functional.max_pool2d(torch.tensor(self.mGridPmt  )   .to(torch.float).unsqueeze(0), kernel_size=kernel_size, stride=stride, padding=padding).squeeze(0).to(torch.long).numpy()\n",
    "        mGridFilled1 = torch.nn.functional.avg_pool2d(torch.tensor((self.mGridPmt >= 0).astype(float)).unsqueeze(0), kernel_size=kernel_size, stride=stride, padding=padding).squeeze(0).numpy()\n",
    "        \n",
    "        mGridCoord1 = torch.nn.functional.avg_pool2d(torch.tensor(self.mGridCoord), kernel_size=kernel_size, stride=stride, padding=padding).numpy()\n",
    "        mGridCoord1 /= mGridFilled1 + 1e-6 # correct average for missing positions. the 1e-6 is to prevent division by zero\n",
    "        \n",
    "        if (pad < 0):\n",
    "            pad = self.pad\n",
    "        if (Lambda < 0.):\n",
    "            Lambda = self.Lambda\n",
    "        \n",
    "        return Taylorizer(mGridPmt1, mGridCoord1, self.vectorStartIndices, pad=pad, Lambda=Lambda)"
   ]
  },
  {
   "cell_type": "code",
   "execution_count": 29,
   "metadata": {},
   "outputs": [
    {
     "name": "stdout",
     "output_type": "stream",
     "text": [
      "starting inversion... (may take a few seconds)\n",
      "done\n"
     ]
    }
   ],
   "source": [
    "mGridPmt = f['mGridPmt'][()]\n",
    "# we rotate xyz -> zxy because in IWCD tank, the y axis points along the tank axis\n",
    "mGridCoord = np.stack([\n",
    "    f['mGridZ'][()]/20.,\n",
    "    f['mGridX'][()]/20.,\n",
    "    f['mGridY'][()]/20.,\n",
    "    f['mGridDirZ'][()],\n",
    "    f['mGridDirX'][()],\n",
    "    f['mGridDirY'][()]\n",
    "])\n",
    "#mGridVectorStartIndices = [0]\n",
    "mGridVectorStartIndices = [0,3]\n",
    "\n",
    "taylor0 = Taylorizer(mGridPmt, mGridCoord, mGridVectorStartIndices, pad=1, Lambda=1.)"
   ]
  },
  {
   "cell_type": "code",
   "execution_count": 30,
   "metadata": {},
   "outputs": [
    {
     "name": "stdout",
     "output_type": "stream",
     "text": [
      "0\n",
      "['1', '1', 'x', 'y', 'z', 'dir_x', 'dir_y', 'dir_z', '(1,1)', '(1,x)', '(1,y)', '(1,z)', '(1,dir_x)', '(1,dir_y)', '(1,dir_z)', '(x,x)', '(x,y)', '(x,z)', '(x,dir_x)', '(x,dir_y)', '(x,dir_z)', '(y,y)', '(y,z)', '(y,dir_x)', '(y,dir_y)', '(y,dir_z)', '(z,z)', '(z,dir_x)', '(z,dir_y)', '(z,dir_z)', '(dir_x,dir_x)', '(dir_x,dir_y)', '(dir_x,dir_z)', '(dir_y,dir_y)', '(dir_y,dir_z)', '(dir_z,dir_z)']\n"
     ]
    },
    {
     "data": {
      "image/png": "[encoded data removed]",
      "text/plain": [
       "<Figure size 1152x576 with 28 Axes>"
      ]
     },
     "metadata": {},
     "output_type": "display_data"
    },
    {
     "name": "stdout",
     "output_type": "stream",
     "text": [
      "1\n",
      "['1', '1', 'x', 'y', 'z', 'dir_x', 'dir_y', 'dir_z', '(1,1)', '(1,x)', '(1,y)', '(1,z)', '(1,dir_x)', '(1,dir_y)', '(1,dir_z)', '(x,x)', '(x,y)', '(x,z)', '(x,dir_x)', '(x,dir_y)', '(x,dir_z)', '(y,y)', '(y,z)', '(y,dir_x)', '(y,dir_y)', '(y,dir_z)', '(z,z)', '(z,dir_x)', '(z,dir_y)', '(z,dir_z)', '(dir_x,dir_x)', '(dir_x,dir_y)', '(dir_x,dir_z)', '(dir_y,dir_y)', '(dir_y,dir_z)', '(dir_z,dir_z)']\n"
     ]
    },
    {
     "data": {
      "image/png": "[encoded data removed]",
      "text/plain": [
       "<Figure size 1152x576 with 28 Axes>"
      ]
     },
     "metadata": {},
     "output_type": "display_data"
    },
    {
     "name": "stdout",
     "output_type": "stream",
     "text": [
      "2\n",
      "['1', '1', 'x', 'y', 'z', 'dir_x', 'dir_y', 'dir_z', '(1,1)', '(1,x)', '(1,y)', '(1,z)', '(1,dir_x)', '(1,dir_y)', '(1,dir_z)', '(x,x)', '(x,y)', '(x,z)', '(x,dir_x)', '(x,dir_y)', '(x,dir_z)', '(y,y)', '(y,z)', '(y,dir_x)', '(y,dir_y)', '(y,dir_z)', '(z,z)', '(z,dir_x)', '(z,dir_y)', '(z,dir_z)', '(dir_x,dir_x)', '(dir_x,dir_y)', '(dir_x,dir_z)', '(dir_y,dir_y)', '(dir_y,dir_z)', '(dir_z,dir_z)']\n"
     ]
    },
    {
     "data": {
      "image/png": "[encoded data removed]",
      "text/plain": [
       "<Figure size 1152x576 with 28 Axes>"
      ]
     },
     "metadata": {},
     "output_type": "display_data"
    },
    {
     "name": "stdout",
     "output_type": "stream",
     "text": [
      "3\n",
      "['1', '1', 'x', 'y', 'z', 'dir_x', 'dir_y', 'dir_z', '(1,1)', '(1,x)', '(1,y)', '(1,z)', '(1,dir_x)', '(1,dir_y)', '(1,dir_z)', '(x,x)', '(x,y)', '(x,z)', '(x,dir_x)', '(x,dir_y)', '(x,dir_z)', '(y,y)', '(y,z)', '(y,dir_x)', '(y,dir_y)', '(y,dir_z)', '(z,z)', '(z,dir_x)', '(z,dir_y)', '(z,dir_z)', '(dir_x,dir_x)', '(dir_x,dir_y)', '(dir_x,dir_z)', '(dir_y,dir_y)', '(dir_y,dir_z)', '(dir_z,dir_z)']\n"
     ]
    },
    {
     "data": {
      "image/png": "[encoded data removed]",
      "text/plain": [
       "<Figure size 1152x576 with 28 Axes>"
      ]
     },
     "metadata": {},
     "output_type": "display_data"
    },
    {
     "name": "stdout",
     "output_type": "stream",
     "text": [
      "4\n",
      "['1', '1', 'x', 'y', 'z', 'dir_x', 'dir_y', 'dir_z', '(1,1)', '(1,x)', '(1,y)', '(1,z)', '(1,dir_x)', '(1,dir_y)', '(1,dir_z)', '(x,x)', '(x,y)', '(x,z)', '(x,dir_x)', '(x,dir_y)', '(x,dir_z)', '(y,y)', '(y,z)', '(y,dir_x)', '(y,dir_y)', '(y,dir_z)', '(z,z)', '(z,dir_x)', '(z,dir_y)', '(z,dir_z)', '(dir_x,dir_x)', '(dir_x,dir_y)', '(dir_x,dir_z)', '(dir_y,dir_y)', '(dir_y,dir_z)', '(dir_z,dir_z)']\n"
     ]
    },
    {
     "data": {
      "image/png": "[encoded data removed]",
      "text/plain": [
       "<Figure size 1152x576 with 28 Axes>"
      ]
     },
     "metadata": {},
     "output_type": "display_data"
    }
   ],
   "source": [
    "# filters = torch.randn(Cout,Cin,Hflt,Wflt);\n",
    "inputs = torch.tensor(event_data[0:5,:,:,0]).unsqueeze(1);\n",
    "tayloredInput = taylor0(inputs)\n",
    "\n",
    "for ev in range(tayloredInput.shape[0]):\n",
    "    print(ev)\n",
    "    dimNames = ['1','x','y','z','dir_x','dir_y','dir_z']\n",
    "    taylorTitles = ['1'] + dimNames\n",
    "    for i,name1 in enumerate(dimNames):\n",
    "        for j,name2 in enumerate(dimNames[i:]):\n",
    "            taylorTitles.append('(%s,%s)' % (name1,name2))\n",
    "    print(taylorTitles)\n",
    "    fig, axes = plt.subplots(1, taylor0.Ntaylor, figsize=(16,8),facecolor='w')\n",
    "    for itaylor in range(taylor0.Ntaylor):\n",
    "        rms = torch.std(tayloredInput[ev,itaylor,:,:])\n",
    "        ext = torch.max(torch.abs(tayloredInput[ev,itaylor,:,:]))\n",
    "        imshowRdBu(axes[itaylor], tayloredInput[ev,itaylor,:,:]); axes[itaylor].set_title('%s\\nstd=%.2f\\nmax=%.2f' % (taylorTitles[itaylor],rms,ext))\n",
    "    plt.show()"
   ]
  },
  {
   "cell_type": "markdown",
   "metadata": {},
   "source": [
    "## Train network"
   ]
  },
  {
   "cell_type": "code",
   "execution_count": 31,
   "metadata": {},
   "outputs": [],
   "source": [
    "from torch.utils.data import Dataset, DataLoader\n",
    "\n",
    "class H5Dataset(Dataset):\n",
    "\n",
    "    def __init__(self, files, transform=None, flavour=None, limit_num_files=0, start_fraction=0., use_fraction=1.0):\n",
    "        \"\"\"                                                                                                                                             \n",
    "        Args: data_dirs ... a list of data directories to find files (up to 10 files read from each dir)                                                \n",
    "              transform ... a function applied to pre-process data                                                                                      \n",
    "              flavour ..... a string that is required to be present in the filename                                                                     \n",
    "              limit_num_files ... an integer limiting number of files to be taken per data directory                                                    \n",
    "              start_fraction ... a floating point fraction (0.0=>1.0) to specify which entry to start reading (per file)                                \n",
    "              use_fraction ..... a floating point fraction (0.0=>1.0) to specify how much fraction of a file to be read out (per file)                  \n",
    "        \"\"\"\n",
    "        self._transform = transform\n",
    "        self._files = []\n",
    "\n",
    "        # Check input fractions makes sense                                                                                                             \n",
    "        assert start_fraction >= 0. and start_fraction < 1.\n",
    "        assert use_fraction > 0. and use_fraction <= 1.\n",
    "        assert (start_fraction + use_fraction) <= 1.\n",
    "\n",
    "        # Load files (up to 10) from each directory in data_dirs list                                                                                   \n",
    "        # for d in data_dirs:\n",
    "        #     file_list = [ os.path.join(d,f) for f in os.listdir(d) if flavour is None or flavour in f ]\n",
    "        #     if limit_num_files: file_list = file_list[0:limit_num_files]\n",
    "        #     self._files += file_list\n",
    "        self._files = files\n",
    "\n",
    "        self._file_handles = [None] * len(self._files)\n",
    "        self._event_to_file_index  = []\n",
    "        self._event_to_entry_index = []\n",
    "        import h5py\n",
    "        for file_index, file_name in enumerate(self._files):\n",
    "            f = h5py.File(file_name,mode='r')\n",
    "            data_size = f['event_data'].shape[0]\n",
    "            start_entry = int(start_fraction * data_size)\n",
    "            num_entries = int(use_fraction * data_size)\n",
    "            self._event_to_file_index += [file_index] * num_entries\n",
    "            self._event_to_entry_index += range(start_entry, start_entry+num_entries)\n",
    "            f.close()\n",
    "\n",
    "    def __len__(self):\n",
    "        return len(self._event_to_file_index)\n",
    "\n",
    "    def __getitem__(self,idx):\n",
    "        file_index = self._event_to_file_index[idx]\n",
    "        entry_index = self._event_to_entry_index[idx]\n",
    "        if self._file_handles[file_index] is None:\n",
    "            import h5py\n",
    "            self._file_handles[file_index] = h5py.File(self._files[file_index],mode='r')\n",
    "        fh = self._file_handles[file_index]\n",
    "        label = fh['labels'][entry_index]\n",
    "        #labelTranslation = [-1,0,1,-1,2] # make sure that labels 1,2,4 get values 0,1,2\n",
    "        if label == 1: # electron\n",
    "            label = 0\n",
    "        elif label == 2: # muon\n",
    "            label = 1\n",
    "        elif label == 0: # gamma\n",
    "            label = 2\n",
    "        else:\n",
    "            print('Unknown label', label, 'for entry_index', entry_index, 'treating as label=0')\n",
    "            label = 0\n",
    "        \n",
    "        # try:\n",
    "        #     label = labelTranslation[label]\n",
    "        # except IndexError:\n",
    "        #     print('IndexError at entry', entry_index, 'label in file was', fh['labels'][entry_index], 'translations are', labelTranslation)\n",
    "        #     raise\n",
    "        \n",
    "        event_data = fh['event_data'][entry_index]\n",
    "        # convert event data to complex rep\n",
    "        evQ = event_data[:,:,0]\n",
    "        evT = event_data[:,:,1]\n",
    "        evR = np.power(evQ,0.25);\n",
    "        evA = 2*np.pi*(evT-960.)/(1900.-600.)\n",
    "        evX = evR*np.cos(evA);\n",
    "        evY = evR*np.sin(evA);\n",
    "        totalQ = np.sum(evQ)\n",
    "        return np.stack([evX,evY],2),label,idx,fh['positions'][entry_index,0],fh['directions'][entry_index,0],np.sum(fh['energies'][entry_index,:]),totalQ\n",
    "        # the ,0 in positions and directions selects the pos/dir for the first track (in case of gamma)\n",
    "        # thus positions and directions are just np arrays with 3 elements\n",
    "\n",
    "def HKCollate(batch):\n",
    "    data  = np.stack([sample[0] for sample in batch])\n",
    "    label = [sample[1] for sample in batch]\n",
    "    idx   = [sample[2] for sample in batch]\n",
    "    pos   = np.stack([sample[3] for sample in batch])\n",
    "    direc = np.stack([sample[4] for sample in batch])\n",
    "    ene   = np.stack([sample[5] for sample in batch])\n",
    "    totQ  = np.stack([sample[6] for sample in batch])\n",
    "    return data,label,idx,pos,direc,ene,totQ"
   ]
  },
  {
   "cell_type": "code",
   "execution_count": 32,
   "metadata": {},
   "outputs": [],
   "source": [
    "mcdir = '/home/lukasb/watchmal/data_ssd/IWCDmPMT_4pi_full_tank/h5_topo'\n",
    "pnames = ('e-','mu-','gamma')\n",
    "files = ['%s/%s/IWCDmPMT_4pi_full_tank_%s_E0to1000MeV_unif-pos-R371-y521cm_4pi-dir_3000evts_%d.h5' % (mcdir,pname,pname,bch+100) for bch in range(60) for pname in pnames]\n",
    "\n",
    "train_ds = H5Dataset(files,start_fraction=0.0,use_fraction=0.9);\n",
    "test_ds  = H5Dataset(files,start_fraction=0.9,use_fraction=0.1);\n",
    "\n",
    "# for training\n",
    "train_loader=DataLoader(train_ds,batch_size=32,shuffle=True,num_workers=4,collate_fn=HKCollate)\n",
    "# for validation\n",
    "test_loader =DataLoader( test_ds,batch_size=64,shuffle=True,num_workers=2,collate_fn=HKCollate)"
   ]
  },
  {
   "cell_type": "code",
   "execution_count": 33,
   "metadata": {},
   "outputs": [],
   "source": [
    "label,positions,directions,energies,totQs=[],[],[],[],[]\n",
    "for i,data in enumerate(test_loader):\n",
    "    position  = data[3]\n",
    "    direction = data[4]\n",
    "    energy    = data[5]\n",
    "    totQ      = data[6]\n",
    "    label.append(data[1])\n",
    "    positions.append(position)\n",
    "    directions.append(direction)\n",
    "    energies.append(energy)\n",
    "    totQs.append(totQ)\n",
    "    if i > 50:\n",
    "        break\n",
    "label      = np.hstack(label)\n",
    "positions  = np.vstack(positions)\n",
    "directions = np.vstack(directions)\n",
    "energies   = np.concatenate(energies)\n",
    "totQs      = np.concatenate(totQs)"
   ]
  },
  {
   "cell_type": "code",
   "execution_count": 34,
   "metadata": {},
   "outputs": [
    {
     "data": {
      "text/plain": [
       "(3328,)"
      ]
     },
     "execution_count": 34,
     "metadata": {},
     "output_type": "execute_result"
    }
   ],
   "source": [
    "label.shape"
   ]
  },
  {
   "cell_type": "code",
   "execution_count": 35,
   "metadata": {},
   "outputs": [
    {
     "data": {
      "text/plain": [
       "<matplotlib.collections.PathCollection at 0x7fa6b48bb7d0>"
      ]
     },
     "execution_count": 35,
     "metadata": {},
     "output_type": "execute_result"
    },
    {
     "data": {
      "image/png": "[encoded data removed]",
      "text/plain": [
       "<Figure size 432x288 with 1 Axes>"
      ]
     },
     "metadata": {
      "needs_background": "light"
     },
     "output_type": "display_data"
    }
   ],
   "source": [
    "masses = np.array([0.511, 105.7, 0.511*2])\n",
    "pthres = np.array([0.57,  118.,  0.57 *2])\n",
    "Ethres = np.sqrt(np.power(masses,2) + np.power(pthres,2))\n",
    "\n",
    "plt.scatter(totQs[label==0]*0.085, energies[label==0] - Ethres[0], s=0.1)\n",
    "plt.scatter(totQs[label==1]*0.085, energies[label==1] - Ethres[1], s=0.1)\n",
    "plt.scatter(totQs[label==2]*0.085, energies[label==2] - Ethres[2], s=0.1)"
   ]
  },
  {
   "cell_type": "code",
   "execution_count": 36,
   "metadata": {},
   "outputs": [],
   "source": [
    "import torch.nn as nn\n",
    "import torch.nn.functional as F\n",
    "\n",
    "# based on https://github.com/kuangliu/pytorch-cifar/blob/master/models/resnet.py\n",
    "\n",
    "class TaylorBNConv2d(torch.nn.Module):\n",
    "    def __init__(self, Cin, Cout, taylor, stride=1, bias=True):\n",
    "        super(TaylorBNConv2d, self).__init__()\n",
    "        self.stride = stride\n",
    "        self.Cin = Cin\n",
    "        self.Cout = Cout\n",
    "        self.taylor = taylor\n",
    "        #self.taylor_substitue = torch.nn.Conv2d(Cin, Cin*taylor.Ntaylor, kernel_size=3, stride=1, padding=0, bias=False)\n",
    "        self.strider = torch.nn.MaxPool2d(kernel_size=1, stride=stride, padding=0)\n",
    "        #self.scales = torch.nn.Parameter(torch.ones(taylor.Ntaylor))\n",
    "        self.conv2d = torch.nn.Conv2d(Cin*taylor.Ntaylor,Cout, kernel_size=1, stride=1, padding=0, bias=bias)\n",
    "        self.batchNorm2d = torch.nn.BatchNorm2d(Cout)\n",
    " \n",
    "    def forward(self, x):\n",
    "        #x = self.taylor_substitue(geometricPad(x,1))\n",
    "        x = self.taylor.taylorizeAndConv(x, self.conv2d)\n",
    "        if self.stride > 1:\n",
    "            x = self.strider(x)\n",
    "        #x = self.taylor(x)\n",
    "        #x = self.bn1(x)\n",
    "        #if self.stride > 1:\n",
    "        #    orgshape = x.shape\n",
    "        #    newshape = (\n",
    "        #        x.shape[0],\n",
    "        #        x.shape[1],\n",
    "        #        int(np.ceil(x.shape[2]/self.stride)),\n",
    "        #        int(np.ceil(x.shape[3]/self.stride))\n",
    "        #    )\n",
    "        #    newstride = (1,1,self.stride,self.stride)\n",
    "        #    x = torch.as_strided(x, newshape, newstride)\n",
    "        #    #print('TaylorBNConv2d::forward: stride operation changed size from', orgshape, 'to', x.shape)\n",
    "        \n",
    "        # # scale the taylored dimensions\n",
    "        # orgshape = x.shape\n",
    "        # x = x.view(x.shape[0], self.taylor.Ntaylor, self.Cin, x.shape[2], x.shape[3])\n",
    "        # scales = self.scales.view(1, self.taylor.Ntaylor, 1, 1, 1).expand(x.shape)\n",
    "        # x *= scales\n",
    "        # x = x.view(orgshape)\n",
    "        \n",
    "        x = self.batchNorm2d(x)\n",
    "        return x\n",
    "    \n",
    "    # the default implementation of cpu() and cuda() only passes this along to nn.Module instances\n",
    "    # since self.AA is a tensor, we need to take care of it ourselves\n",
    "    \n",
    "    def cpu(self):\n",
    "        super(TaylorBNConv2d, self).cpu()\n",
    "        self.taylor.cpu()\n",
    "        return self\n",
    "    \n",
    "    def cuda(self):\n",
    "        super(TaylorBNConv2d, self).cuda()\n",
    "        self.taylor.cuda()\n",
    "        return self\n",
    "\n",
    "# second order derivative (by stacking two first order derviatives)\n",
    "class SecTaylorBNConv2d(torch.nn.Module):\n",
    "    def __init__(self, Cin, Cout, taylor, stride=1, bias=True):\n",
    "        super(SecTaylorBNConv2d, self).__init__()\n",
    "        \n",
    "        self.tbc1 = TaylorBNConv2d(Cin,  Cout, taylor, stride=1,     bias=bias)\n",
    "        self.tbc2 = TaylorBNConv2d(Cout, Cout, taylor, stride=stride, bias=bias)\n",
    " \n",
    "    def forward(self, x):\n",
    "        x = self.tbc1(x)\n",
    "        x = self.tbc2(x)\n",
    "        return x\n",
    "    \n",
    "    # the default implementation of cpu() and cuda() only passes this along to nn.Module instances\n",
    "    # since self.AA is a tensor, we need to take care of it ourselves\n",
    "    \n",
    "    def cpu(self):\n",
    "        super(SecTaylorBNConv2d, self).cpu()\n",
    "        self.tbc1.cpu()\n",
    "        self.tbc2.cpu()\n",
    "        return self\n",
    "    \n",
    "    def cuda(self):\n",
    "        super(SecTaylorBNConv2d, self).cuda()\n",
    "        self.tbc1.cuda()\n",
    "        self.tbc2.cuda()\n",
    "        return self\n",
    "\n",
    "\n",
    "class BasicTaylorBlock(nn.Module):\n",
    "    expansion = 1\n",
    "\n",
    "    def __init__(self, in_planes, planes, taylor1, taylor2, stride=1):\n",
    "        super(BasicTaylorBlock, self).__init__()\n",
    "        \n",
    "        self.tbc1 = TaylorBNConv2d(in_planes, planes, taylor1, stride=stride, bias=False)\n",
    "        self.tbc2 = TaylorBNConv2d(   planes, planes, taylor2, stride=1,      bias=False)\n",
    "\n",
    "        self.shortcut = nn.Sequential()\n",
    "        if stride != 1 or in_planes != self.expansion*planes:\n",
    "            self.shortcut = nn.Sequential(\n",
    "                nn.Conv2d(in_planes, self.expansion*planes,\n",
    "                          kernel_size=1, stride=stride, bias=False),\n",
    "                nn.BatchNorm2d(self.expansion*planes)\n",
    "            )\n",
    "\n",
    "    def forward(self, x):\n",
    "        out = F.relu(self.tbc1(x))\n",
    "        out = F.relu(self.tbc2(out) + self.shortcut(x))\n",
    "        return out\n",
    "    \n",
    "    # standard implementation only calles cpu/gpu on the model's [parameters]\n",
    "    # since we want it on the model itself, redefine\n",
    "    \n",
    "    def cpu(self):\n",
    "        super(BasicTaylorBlock, self).cpu()\n",
    "        self.tbc1.cpu()\n",
    "        self.tbc2.cpu()\n",
    "        return self\n",
    "    \n",
    "    def cuda(self):\n",
    "        super(BasicTaylorBlock, self).cuda()\n",
    "        self.tbc1.cuda()\n",
    "        self.tbc2.cuda()\n",
    "        return self\n",
    "\n",
    "\n",
    "class ResNetTaylor(nn.Module):\n",
    "    def __init__(self, block, num_blocks, taylor, num_classes=3):\n",
    "        super(ResNetTaylor, self).__init__()\n",
    "        self.in_planes = 64\n",
    "        overall_in_planes = 2 ## this has been modified to include time\n",
    "        self.pad = 1\n",
    "        \n",
    "        # (1,126,126)\n",
    "        taylor1 = taylor\n",
    "        taylor2 = taylor1.pool2d(3, stride=2, padding=1)\n",
    "        taylor3 = taylor2.pool2d(3, stride=2, padding=1)\n",
    "        taylor4 = taylor3.pool2d(3, stride=2, padding=1)\n",
    "        taylor5 = taylor4.pool2d(3, stride=2, padding=1)\n",
    "        taylor6 = taylor5.pool2d(3, stride=2, padding=1)\n",
    "        \n",
    "        #print('ResNetTaylor: taylor1.AA', taylor1.AA.shape)\n",
    "        #print('ResNetTaylor: taylor2.AA', taylor2.AA.shape)\n",
    "        #print('ResNetTaylor: taylor3.AA', taylor3.AA.shape)\n",
    "        #print('ResNetTaylor: taylor4.AA', taylor4.AA.shape)\n",
    "        #print('ResNetTaylor: taylor5.AA', taylor5.AA.shape)\n",
    "        \n",
    "        self.down1 = TaylorBNConv2d(overall_in_planes, 32, taylor1, stride=2, bias=False)\n",
    "        \n",
    "        # outsize = floor[(126+2*(pad=1)-(kernel_size=3))/stride + 1]\n",
    "        # so for stride=1 we have 126,\n",
    "        #              =2          63 = floor(63.5)\n",
    "        # the padding is done by geometricPad\n",
    "        # thus (16,63,63)\n",
    "        \n",
    "        self.down2 = TaylorBNConv2d(32, 64, taylor2, stride=2, bias=False)\n",
    "        # outsize = floor[(63+2*(pad=1)-(kernel_size=3))/stride + 1]\n",
    "        # so for stride=1 we have 63,\n",
    "        #              =2         32\n",
    "        # thus (64,32,32)\n",
    "        \n",
    "        self.layer1 = self._make_layer(block,  64, num_blocks[0], taylor3, taylor3, stride=1)\n",
    "        #      (64,32,32)\n",
    "        self.layer2 = self._make_layer(block,  64, num_blocks[1], taylor3, taylor4, stride=2)\n",
    "        #      (64,16,16)\n",
    "        self.layer3 = self._make_layer(block,  64, num_blocks[2], taylor4, taylor5, stride=2)\n",
    "        #      (64, 8, 8)\n",
    "        self.layer4 = self._make_layer(block, 128, num_blocks[3], taylor5, taylor6, stride=2)\n",
    "        #      (128,4, 4)\n",
    "        self.convbn5 = nn.Sequential(\n",
    "            nn.Conv2d(128,128,kernel_size=4,stride=1,padding=0,bias=False),\n",
    "            nn.BatchNorm2d(128)\n",
    "        )\n",
    "        #      (128,1, 1)\n",
    "        # transform to 128, then\n",
    "        self.linear1 = nn.Linear(int(128*block.expansion),   int(128*block.expansion/2))\n",
    "        self.linear2 = nn.Linear(int(128*block.expansion/2), int(128*block.expansion/4))\n",
    "        self.linear3 = nn.Linear(int(128*block.expansion/4), int(128*block.expansion/8))\n",
    "        self.linear4 = nn.Linear(int(128*block.expansion/8), num_classes)\n",
    "\n",
    "    def _make_layer(self, block, planes, num_blocks, taylor, taylor_substride, stride):\n",
    "        strides = [(stride,taylor,taylor_substride)] + [(1,taylor_substride,taylor_substride)]*(num_blocks-1)\n",
    "        layers = []\n",
    "        for stride,pretaylor,posttaylor in strides:\n",
    "            layers.append(block(self.in_planes, planes, pretaylor, posttaylor, stride))\n",
    "            self.in_planes = planes * block.expansion\n",
    "        return nn.Sequential(*layers)\n",
    "\n",
    "    def forward(self, x):\n",
    "        #print('x', x.shape)\n",
    "        out = F.relu(self.down1(x))\n",
    "        #print('self.down1', out.shape)\n",
    "        out = F.relu(self.down2(out))\n",
    "        #print('self.down2', out.shape)\n",
    "        out = self.layer1(out)\n",
    "        #print('self.layer1', out.shape)\n",
    "        out = self.layer2(out)\n",
    "        #print('self.layer2', out.shape)\n",
    "        out = self.layer3(out)\n",
    "        #print('self.layer3', out.shape)\n",
    "        out = self.layer4(out)\n",
    "        out = F.relu(self.convbn5(out))\n",
    "        #out = F.avg_pool2d(out, out.shape[2:4])\n",
    "        out = out.view(out.size(0), -1)\n",
    "        out = F.relu(self.linear1(out))\n",
    "        out = F.relu(self.linear2(out))\n",
    "        out = F.relu(self.linear3(out))\n",
    "        out = self.linear4(out)\n",
    "        return out\n",
    "    \n",
    "    # standard implementation only calles cpu/gpu on the model's [parameters]\n",
    "    # since we want it on the model itself, redefine\n",
    "    \n",
    "    def cpu(self):\n",
    "        super(ResNetTaylor, self).cpu()\n",
    "        self.down1.cpu()\n",
    "        self.down2.cpu()\n",
    "        self.layer1.apply(lambda m: m.cpu())\n",
    "        self.layer2.apply(lambda m: m.cpu())\n",
    "        self.layer3.apply(lambda m: m.cpu())\n",
    "        self.layer4.apply(lambda m: m.cpu())\n",
    "        return self\n",
    "    \n",
    "    def cuda(self):\n",
    "        super(ResNetTaylor, self).cuda()\n",
    "        self.down1.cuda()\n",
    "        self.down2.cuda()\n",
    "        self.layer1.apply(lambda m: m.cuda())\n",
    "        self.layer2.apply(lambda m: m.cuda())\n",
    "        self.layer3.apply(lambda m: m.cuda())\n",
    "        self.layer4.apply(lambda m: m.cuda())\n",
    "        return self\n",
    "\n",
    "def ResNetTaylor18(taylor, num_classes):\n",
    "    return ResNetTaylor(BasicTaylorBlock, [2, 2, 2, 2], taylor, num_classes)"
   ]
  },
  {
   "cell_type": "code",
   "execution_count": 37,
   "metadata": {},
   "outputs": [],
   "source": [
    "masses = np.array([0.511, 105.7, 0.511*2])\n",
    "pthres = np.array([0.57,  118.,  0.57 *2])\n",
    "Ethres = np.sqrt(np.power(masses,2) + np.power(pthres,2))\n",
    "\n",
    "def getEnergyPrediction(out):\n",
    "    out_Eabovethres  = out[:,0:1]\n",
    "    out_logSigmaESqr = out[:,1:2]\n",
    "    #print('pred energy', torch.mean(out_Eabovethres), torch.std(out_Eabovethres))\n",
    "    return out_Eabovethres, out_logSigmaESqr\n",
    "\n",
    "def getPositionPrediction(out):\n",
    "    out_pos            = out[:,2:5]\n",
    "    out_logSigmaPosSqr = out[:,5:6]\n",
    "    return out_pos, out_logSigmaPosSqr\n",
    "\n",
    "def getTrueEnergyAboveThreshold(blob):\n",
    "    Evis = 0.085*blob.totQ\n",
    "    out = (blob.energy-Ethres[blob.label] - Evis) / (np.sqrt(500.)*np.sqrt(Evis+0.5))\n",
    "    #print('true energy', np.mean(out), np.std(out))\n",
    "    return out\n",
    "\n",
    "def getNllEnergy(out_Eabovethres, out_logSigmaESqr, true_Eabovethres):\n",
    "    return 0.5*torch.sum(torch.pow(out_Eabovethres - true_Eabovethres, 2)*torch.exp(-out_logSigmaESqr),1) + 0.5*torch.sum(out_logSigmaESqr,1)\n",
    "\n",
    "def getNllPosition(out_pos, out_logSigmaPosSqr, true_pos):\n",
    "    return 0.5*torch.sum(torch.pow(out_pos - true_pos, 2)*torch.exp(-out_logSigmaPosSqr),1) + 0.5*3.*torch.sum(out_logSigmaPosSqr,1)\n",
    "\n",
    "def forward(blob,train=True):\n",
    "    \"\"\"\n",
    "       Args: blob should have attributes, net, criterion, softmax, data, label\n",
    "       Returns: a dictionary of predicted labels, softmax, loss, and accuracy\n",
    "    \"\"\"\n",
    "    with torch.set_grad_enabled(train):\n",
    "        # Prediction\n",
    "        data = torch.as_tensor(blob.data).cuda()#[torch.as_tensor(d).cuda() for d in blob.data]\n",
    "        data = data.permute(0,3,1,2)\n",
    "        out = blob.net(data)\n",
    "        out_Eabovethres,out_Eres = getEnergyPrediction(out)\n",
    "        out_pos,out_posres       = getPositionPrediction(out)\n",
    "        \n",
    "        # Training\n",
    "        nll_energy = getNllEnergy(\n",
    "            out_Eabovethres,\n",
    "            out_Eres,\n",
    "            torch.as_tensor(getTrueEnergyAboveThreshold(blob)).type(torch.FloatTensor).unsqueeze(1).cuda()\n",
    "        )\n",
    "        nll_position = getNllPosition(\n",
    "            out_pos,\n",
    "            out_posres,\n",
    "            torch.as_tensor(blob.position/1000.).type(torch.FloatTensor).cuda()\n",
    "        )\n",
    "        #print('nll_energy.shape', nll_energy.shape, torch.mean(nll_energy), torch.std(nll_energy))\n",
    "        #print('nll_position.shape', nll_position.shape, torch.mean(nll_position), torch.std(nll_position))\n",
    "        loss_energy = torch.sum(nll_energy)\n",
    "        loss_position = torch.sum(nll_position)\n",
    "        loss = loss_energy + loss_position\n",
    "        blob.loss = loss\n",
    "        \n",
    "        batchSize = float(out.shape[0])\n",
    "        mean_chi2_E   = 2.*loss_energy  .cpu().detach().item() / batchSize\n",
    "        mean_chi2_pos = 2.*loss_position.cpu().detach().item() / 3*batchSize\n",
    "        mean_Eres   = torch.exp(torch.mean(out_Eres  )).cpu().detach().item()\n",
    "        mean_posres = torch.exp(torch.mean(out_posres)).cpu().detach().item()\n",
    "        \n",
    "        return {'pred_Eabovethres' : out_Eabovethres.cpu().detach().numpy(),\n",
    "                'pred_Eres'        : out_Eres       .cpu().detach().numpy(),\n",
    "                'pred_position'    : out_pos        .cpu().detach().numpy(),\n",
    "                'pred_positionres' : out_posres     .cpu().detach().numpy(),\n",
    "                'loss_energy'  : loss_energy  .cpu().detach().item(),\n",
    "                'loss_position': loss_position.cpu().detach().item(),\n",
    "                'loss'         : loss         .cpu().detach().item(),\n",
    "                'mean_chi2_E'   : mean_chi2_E,\n",
    "                'mean_chi2_pos' : mean_chi2_pos,\n",
    "                'mean_Eres'     : mean_Eres,\n",
    "                'mean_posres'   : mean_posres,\n",
    "               }\n",
    "\n",
    "resKeysToLog = ['loss_energy','loss_position','loss','mean_chi2_E','mean_chi2_pos','mean_Eres','mean_posres']\n",
    "    \n",
    "def backward(blob):\n",
    "    blob.optimizer.zero_grad()  # Reset gradients accumulation\n",
    "    blob.loss.backward()\n",
    "    blob.optimizer.step()\n",
    "\n",
    "def save_state(blob):\n",
    "    # Output file name\n",
    "    filename = '%s-%d.ckpt' % (blob.prefix, blob.iteration)\n",
    "    # Save parameters\n",
    "    # 0+1) iteration counter + optimizer state => in case we want to \"continue training\" later\n",
    "    # 2) network weight\n",
    "    torch.save({\n",
    "        'global_epoch': blob.epoch,\n",
    "        'global_step': blob.iteration,\n",
    "        'optimizer': blob.optimizer.state_dict(),\n",
    "        'state_dict': blob.net.state_dict()\n",
    "        }, filename)\n",
    "    return filename\n",
    "\n",
    "def restore_state(blob, iteration):\n",
    "    # Open a file in read-binary mode\n",
    "    weight_file = '%s-%d.ckpt' % (blob.prefix, iteration)\n",
    "    with open(weight_file, 'rb') as f:\n",
    "        # torch interprets the file, then we can access using string keys\n",
    "        checkpoint = torch.load(f)\n",
    "        # load network weights\n",
    "        blob.net.load_state_dict(checkpoint['state_dict'], strict=False)\n",
    "        # if optimizer is provided, load the state of the optimizer\n",
    "        if blob.optimizer is not None:\n",
    "            blob.optimizer.load_state_dict(checkpoint['optimizer'])\n",
    "        # load iteration count\n",
    "        blob.epoch     = checkpoint['global_epoch']\n",
    "        blob.iteration = checkpoint['global_step']\n",
    "\n",
    "# weight_file = save_state(blob, '20190819-02-DeepTaylor-01-BatchNorm')\n",
    "# print('Saved to', weight_file)\n",
    "\n",
    "\n",
    "# # Recreate the network (i.e. initialize)\n",
    "# blob.net=LeNet().cuda()\n",
    "# # Get one batch of data to test\n",
    "# blob.data, blob.label = next(iter(train_loader))\n",
    "# # Run forward function\n",
    "# res = forward(blob,True)\n",
    "# # Report\n",
    "# print('Accuracy:',res['accuracy'])\n",
    "\n",
    "\n",
    "\n",
    "# # Restore the state\n",
    "# restore_state(weight_file,blob)\n",
    "# # Run the forward function\n",
    "# res = forward(blob,True)\n",
    "# # Report\n",
    "# print('Accuracy',res['accuracy'])"
   ]
  },
  {
   "cell_type": "code",
   "execution_count": 38,
   "metadata": {},
   "outputs": [
    {
     "name": "stdout",
     "output_type": "stream",
     "text": [
      "starting inversion... (may take a few seconds)\n",
      "done\n",
      "starting inversion... (may take a few seconds)\n",
      "done\n",
      "starting inversion... (may take a few seconds)\n",
      "done\n",
      "starting inversion... (may take a few seconds)\n",
      "done\n",
      "starting inversion... (may take a few seconds)\n",
      "done\n"
     ]
    }
   ],
   "source": [
    "class BLOB:\n",
    "    pass\n",
    "blob=BLOB()\n",
    "blob.net       = ResNetTaylor18(taylor0, 6).cuda() # E,Eres,pos[3],posres\n",
    "# just the training weights is ~700MiB\n",
    "blob.optimizer = torch.optim.Adam(blob.net.parameters()) # use Adam optimizer algorithm\n",
    "blob.prefix    = '20200708-17c-IWCD-SmallerResNetNativeSecTaylorEff-timeCmplx-relEpos-03-relEpos'\n",
    "blob.epoch     = 0.\n",
    "blob.iteration = 0\n",
    "blob.data      = None # data for training/analysis\n",
    "blob.label     = None # label for training/analysis"
   ]
  },
  {
   "cell_type": "code",
   "execution_count": null,
   "metadata": {},
   "outputs": [
    {
     "name": "stdout",
     "output_type": "stream",
     "text": [
      "Epoch 0 Starting @ 2020-07-16 20:12:00\n"
     ]
    },
    {
     "data": {
      "text/html": [
       "\n",
       "        <progress \n",
       "            value='530'\n",
       "            max='15188',\n",
       "            style='width: 30%'\n",
       "        >\n",
       "            530\n",
       "        </progress> 3% ... Iteration 530 ... Epoch 0.03 ... Loss -180.775 = -15.985 (energy) + -164.790 (pos)\n",
       "    "
      ],
      "text/plain": [
       "<IPython.core.display.HTML object>"
      ]
     },
     "metadata": {},
     "output_type": "display_data"
    }
   ],
   "source": [
    "import time\n",
    "from utils.utils import progress_bar, CSVData\n",
    "\n",
    "blob.train_log, blob.test_log = CSVData('%s-log_train.csv' % blob.prefix), CSVData('%s-log_test.csv' % blob.prefix)\n",
    "\n",
    "# Define train period. \"epoch\" = N image consumption where N is the total number of train samples.\n",
    "TRAIN_EPOCH=4.0\n",
    "# Set the network to training mode\n",
    "blob.net.train()\n",
    "\n",
    "# Start training\n",
    "while int(blob.epoch+0.5) < TRAIN_EPOCH:\n",
    "    print('Epoch',int(blob.epoch+0.5),'Starting @',time.strftime(\"%Y-%m-%d %H:%M:%S\", time.localtime()))\n",
    "    # Create a progress bar for this epoch\n",
    "    progress = display(progress_bar(0,len(train_loader)),display_id=True)\n",
    "    # Loop over data samples and into the network forward function\n",
    "    for i,data in enumerate(train_loader):\n",
    "        # Data and label\n",
    "        # data,label,idx,pos,direc,ene\n",
    "        blob.data,blob.label = data[0:2]\n",
    "        blob.position = data[3]\n",
    "        blob.energy   = data[5]\n",
    "        blob.totQ     = data[6]\n",
    "        # Call forward: make a prediction & measure the average error\n",
    "        res = forward(blob,True)\n",
    "        # Call backward: backpropagate error and update weights\n",
    "        backward(blob)\n",
    "        # Epoch update\n",
    "        blob.epoch += 1./len(train_loader)\n",
    "        blob.iteration += 1\n",
    "        \n",
    "        #\n",
    "        # Log/Report\n",
    "        #\n",
    "        # Record the current performance on train set\n",
    "        blob.train_log.record(['iteration','epoch']+resKeysToLog,[blob.iteration,blob.epoch]+[res[key] for key in resKeysToLog])\n",
    "        blob.train_log.write()\n",
    "        # once in a while, report\n",
    "        if i==0 or (i+1)%10 == 0:\n",
    "            message = '... Iteration %d ... Epoch %1.2f ... Loss %1.3f = %1.3f (energy) + %1.3f (pos)' % (blob.iteration,blob.epoch,res['loss'],res['loss_energy'],res['loss_position'])\n",
    "            progress.update(progress_bar((i+1),len(train_loader),message))\n",
    "        # more rarely, run validation\n",
    "        if (i+1)%40 == 0:\n",
    "            with torch.no_grad():\n",
    "                blob.net.eval()\n",
    "                test_data = next(iter(test_loader))\n",
    "                blob.data,blob.label = test_data[0:2]\n",
    "                blob.position = test_data[3]\n",
    "                blob.energy   = test_data[5]\n",
    "                blob.totQ     = test_data[6]\n",
    "                res = forward(blob,False)\n",
    "                blob.test_log.record(['iteration','epoch']+resKeysToLog,[blob.iteration,blob.epoch]+[res[key] for key in resKeysToLog])\n",
    "                blob.test_log.write()\n",
    "            blob.net.train()\n",
    "        # even more rarely, save state\n",
    "        if (i+1)%400 == 0:\n",
    "            with torch.no_grad():\n",
    "                blob.net.eval()\n",
    "                save_state(blob)\n",
    "            blob.net.train()\n",
    "        if blob.epoch >= TRAIN_EPOCH:\n",
    "            break\n",
    "    message = '... Iteration %d ... Epoch %1.2f ... Loss %1.3f = %1.3f (energy) + %1.3f (pos)' % (blob.iteration,blob.epoch,res['loss'],res['loss_energy'],res['loss_position'])\n",
    "    #print(message)\n",
    "    progress.update(progress_bar((i+1),len(train_loader),message))\n",
    "\n",
    "blob.test_log.close()\n",
    "blob.train_log.close()"
   ]
  },
  {
   "cell_type": "markdown",
   "metadata": {},
   "source": [
    "about 5100 MiB memory footprint and very slow... it seems doing the convolution together with the taylorizing is _not_ faster"
   ]
  },
  {
   "cell_type": "code",
   "execution_count": null,
   "metadata": {},
   "outputs": [],
   "source": [
    "save_state(blob)"
   ]
  },
  {
   "cell_type": "code",
   "execution_count": null,
   "metadata": {},
   "outputs": [],
   "source": [
    "# to follow status in R\n",
    "\n",
    "def Rcode:\n",
    "    prefix='20200708-17b-IWCD-SmallerResNetTaylor-timeCmplx-relEpos-02-relEpos'\n",
    "\n",
    "    ma <- function(x, n = 5){filter(x, rep(1 / n, n), sides = 2)}\n",
    "\n",
    "    maxepochs = 4.\n",
    "    dfTrain = rbind(\n",
    "      read.csv(sprintf(\"/home/lukasb/watchmal/DataTools/root_utils/notebooks/%s-log_train.csv\", prefix))\n",
    "    )\n",
    "    dfTest = rbind(\n",
    "      read.csv(sprintf(\"/home/lukasb/watchmal/DataTools/root_utils/notebooks/%s-log_test.csv\", prefix))\n",
    "    )\n",
    "    \n",
    "    batchSizeFactor = 0.5\n",
    "    smoothingFactor = 1./20.\n",
    "\n",
    "    par(mfrow=c(1,2))\n",
    "    w=100\n",
    "    plot(c(ma(loss_energy,w)) ~ c(ma(epoch,w)), dfTrain, 'l', col='green', xlab='Epoch', ylab='Energy Loss', xaxs='i', xlim=c(0.,maxepochs))\n",
    "    lines(c(ma(batchSizeFactor*loss_energy,w*smoothingFactor)) ~ c(ma(epoch,w*smoothingFactor)), dfTest, col='blue')\n",
    "\n",
    "    plot(c(ma(loss_position,w)) ~ c(ma(epoch,w)), dfTrain, 'l', col='orange', xlab='Epoch', ylab='Position Loss', xaxs='i', xlim=c(0.,maxepochs))\n",
    "    lines(c(ma(batchSizeFactor*loss_position,w*smoothingFactor)) ~ c(ma(epoch,w*smoothingFactor)), dfTest, col='red')"
   ]
  },
  {
   "cell_type": "code",
   "execution_count": null,
   "metadata": {},
   "outputs": [],
   "source": [
    "# or compare with standard ResNet\n",
    "\n",
    "def Rcode:\n",
    "    prefix='20200708-17b-IWCD-SmallerResNetTaylor-timeCmplx-relEpos-02-relEpos'\n",
    "    prefixRef='20200708-10-IWCD-SmallResNetGeom-timeCmplxNCoord-relEpos-01-relEpos'\n",
    "\n",
    "    ma <- function(x, n = 5){filter(x, rep(1 / n, n), sides = 2)}\n",
    "\n",
    "    maxepochs = 4.\n",
    "    dfTrain = rbind(\n",
    "      read.csv(sprintf(\"/home/lukasb/watchmal/DataTools/root_utils/notebooks/%s-log_train.csv\", prefix))\n",
    "    )\n",
    "    dfTest = rbind(\n",
    "      read.csv(sprintf(\"/home/lukasb/watchmal/DataTools/root_utils/notebooks/%s-log_test.csv\", prefix))\n",
    "    )\n",
    "\n",
    "    dfTrainRef = rbind(\n",
    "      read.csv(sprintf(\"/home/lukasb/watchmal/DataTools/root_utils/notebooks/%s-log_train.csv\", prefixRef))\n",
    "    )\n",
    "    dfTestRef = rbind(\n",
    "      read.csv(sprintf(\"/home/lukasb/watchmal/DataTools/root_utils/notebooks/%s-log_test.csv\", prefixRef))\n",
    "    )\n",
    "\n",
    "    batchSizeFactor = 1.\n",
    "    smoothingFactor = 1.\n",
    "    \n",
    "    dfPlot    = dfTrain\n",
    "    dfPlotRef = dfTrainRef\n",
    "\n",
    "    par(mfrow=c(1,2))\n",
    "    w=100\n",
    "    ylim = range(c(with(dfPlot, range(ma(loss_energy,w),na.rm=TRUE)), with(dfPlotRef, range(ma(loss_energy,w),na.rm=TRUE))))\n",
    "    plot(c(ma(loss_energy,w)) ~ c(ma(epoch,w)), dfPlot, 'l', col='green', xlab='Epoch', ylab='Energy Loss', xaxs='i', xlim=c(0.,maxepochs), ylim=ylim)\n",
    "    lines(c(ma(batchSizeFactor*loss_energy,w*smoothingFactor)) ~ c(ma(epoch,w*smoothingFactor)), dfPlotRef, col='blue')\n",
    "\n",
    "    ylim = range(c(with(dfPlot, range(ma(loss_position,w),na.rm=TRUE)), with(dfPlotRef, range(ma(loss_position,w),na.rm=TRUE))))\n",
    "    plot(c(ma(loss_position,w)) ~ c(ma(epoch,w)), dfPlot, 'l', col='orange', xlab='Epoch', ylab='Position Loss', xaxs='i', xlim=c(0.,maxepochs), ylim=ylim)\n",
    "    lines(c(ma(batchSizeFactor*loss_position,w*smoothingFactor)) ~ c(ma(epoch,w*smoothingFactor)), dfPlotRef, col='red')"
   ]
  },
  {
   "cell_type": "code",
   "execution_count": null,
   "metadata": {},
   "outputs": [],
   "source": [
    "# restore_state(blob, 10128)"
   ]
  },
  {
   "cell_type": "code",
   "execution_count": null,
   "metadata": {},
   "outputs": [],
   "source": [
    "import pandas as pd\n",
    "import matplotlib.pyplot as plt\n",
    "%matplotlib inline\n",
    "\n",
    "train_log = pd.read_csv(blob.train_log.name)\n",
    "test_log  = pd.read_csv(blob.test_log.name)\n",
    "\n",
    "fig, ax1 = plt.subplots(figsize=(12,8),facecolor='w')\n",
    "line11 = ax1.plot(train_log.epoch, train_log.loss, linewidth=2, label='Train loss', color='b', alpha=0.3)\n",
    "line12 = ax1.plot(test_log.epoch, test_log.loss, marker='o', markersize=12, linestyle='', label='Test loss', color='blue')\n",
    "ax1.set_xlabel('Epoch',fontweight='bold',fontsize=24,color='black')\n",
    "ax1.tick_params('x',colors='black',labelsize=18)\n",
    "ax1.set_ylabel('Loss', fontsize=24, fontweight='bold',color='b')\n",
    "ax1.tick_params('y',colors='b',labelsize=18)\n",
    "ax1.set_ylim(-800.,300.)\n",
    "\n",
    "ax2 = ax1.twinx()\n",
    "line21 = ax2.plot(train_log.epoch, train_log.mean_chi2_E, linewidth=2, label='Train E <chi2>', color='r', alpha=0.3)\n",
    "line22 = ax2.plot(test_log.epoch, test_log.mean_chi2_E, marker='o', markersize=12, linestyle='', label='Test E <chi2>', color='red')\n",
    "\n",
    "ax2.set_ylabel('E <chi2>', fontsize=24, fontweight='bold',color='r')\n",
    "ax2.tick_params('y',colors='r',labelsize=18)\n",
    "ax2.set_ylim(-5.,10.)\n",
    "\n",
    "# added these four lines\n",
    "lines  = line11 + line12 + line21 + line22\n",
    "labels = [l.get_label() for l in lines]\n",
    "leg    = ax1.legend(lines, labels, fontsize=16, loc=5)\n",
    "leg_frame = leg.get_frame()\n",
    "leg_frame.set_facecolor('white')\n",
    "\n",
    "plt.grid()\n",
    "plt.show()"
   ]
  },
  {
   "cell_type": "code",
   "execution_count": null,
   "metadata": {},
   "outputs": [],
   "source": [
    "import pandas as pd\n",
    "import matplotlib.pyplot as plt\n",
    "%matplotlib inline\n",
    "\n",
    "train_log = pd.read_csv(blob.train_log.name)\n",
    "test_log  = pd.read_csv(blob.test_log.name)\n",
    "\n",
    "fig, ax1 = plt.subplots(figsize=(12,8),facecolor='w')\n",
    "line11 = ax1.plot(train_log.epoch, train_log.loss, linewidth=2, label='Train loss', color='b', alpha=0.3)\n",
    "line12 = ax1.plot(test_log.epoch, test_log.loss, marker='o', markersize=12, linestyle='', label='Test loss', color='blue')\n",
    "ax1.set_xlabel('Epoch',fontweight='bold',fontsize=24,color='black')\n",
    "ax1.tick_params('x',colors='black',labelsize=18)\n",
    "ax1.set_ylabel('Loss', fontsize=24, fontweight='bold',color='b')\n",
    "ax1.tick_params('y',colors='b',labelsize=18)\n",
    "ax1.set_ylim(-800.,300.)\n",
    "\n",
    "ax2 = ax1.twinx()\n",
    "line21 = ax2.plot(train_log.epoch, train_log.mean_Eres, linewidth=2, label='Train <σ> energy', color='r', alpha=0.3)\n",
    "line22 = ax2.plot(test_log.epoch, test_log.mean_Eres, marker='o', markersize=12, linestyle='', label='Test <σ> energy', color='red')\n",
    "\n",
    "ax2.set_ylabel('<σ> energy', fontsize=24, fontweight='bold',color='r')\n",
    "ax2.tick_params('y',colors='r',labelsize=18)\n",
    "ax2.set_ylim(0.,10.)\n",
    "\n",
    "# added these four lines\n",
    "lines  = line11 + line12 + line21 + line22\n",
    "labels = [l.get_label() for l in lines]\n",
    "leg    = ax1.legend(lines, labels, fontsize=16, loc=5)\n",
    "leg_frame = leg.get_frame()\n",
    "leg_frame.set_facecolor('white')\n",
    "\n",
    "plt.grid()\n",
    "plt.show()"
   ]
  },
  {
   "cell_type": "code",
   "execution_count": null,
   "metadata": {},
   "outputs": [],
   "source": [
    "def inferenceWithSoftmax(blob,data_loader):\n",
    "    label,pred_Eabovethres,pred_logSigmaESqr,pred_position,pred_logSigmaPosSqr,positions,directions,energies=[],[],[],[],[],[],[],[]\n",
    "    # set the network to test (non-train) mode\n",
    "    blob.net.eval()\n",
    "    # create the result holder\n",
    "    index,label,prediction = [],[],[]\n",
    "    for i,data in enumerate(data_loader):\n",
    "        blob.data, blob.label = data[0:2]\n",
    "        blob.position = data[3]\n",
    "        direction = data[4]\n",
    "        blob.energy   = data[5]\n",
    "        blob.totQ     = data[6]\n",
    "        totQ      = data[6]\n",
    "        res = forward(blob,train=False)\n",
    "        \n",
    "        Evis = np.expand_dims(0.085*blob.totQ, -1)\n",
    "        pred_Eabovethres.append(res['pred_Eabovethres']*(np.sqrt(500.)*np.sqrt(Evis+0.5)) + Evis)\n",
    "        pred_logSigmaESqr.append(res['pred_Eres'])\n",
    "        pred_position.append(res['pred_position'])\n",
    "        pred_logSigmaPosSqr.append(res['pred_positionres'])\n",
    "        \n",
    "        label.append(blob.label)\n",
    "        positions.append(blob.position)\n",
    "        directions.append(direction)\n",
    "        energies.append(blob.energy)\n",
    "        #if i==2: break\n",
    "    # report accuracy\n",
    "    pred_Eabovethres      = np.vstack(pred_Eabovethres)\n",
    "    pred_logSigmaESqr     = np.vstack(pred_logSigmaESqr)\n",
    "    pred_position         = np.vstack(pred_position)\n",
    "    pred_logSigmaPosSqr   = np.vstack(pred_logSigmaPosSqr)\n",
    "    label      = np.hstack(label)\n",
    "    positions  = np.vstack(positions)\n",
    "    directions = np.vstack(directions)\n",
    "    energies   = np.concatenate(energies)\n",
    "    \n",
    "    return pred_Eabovethres, pred_logSigmaESqr, pred_position, pred_logSigmaPosSqr, label, positions, directions, energies"
   ]
  },
  {
   "cell_type": "code",
   "execution_count": null,
   "metadata": {},
   "outputs": [],
   "source": [
    "pred_Eabovethres, pred_logSigmaESqr, pred_position, pred_logSigmaPosSqr, label, positions, directions, energies = inferenceWithSoftmax(blob,test_loader)"
   ]
  },
  {
   "cell_type": "code",
   "execution_count": null,
   "metadata": {},
   "outputs": [],
   "source": [
    "dwall_caps = 520. - np.abs(positions[:,1]);\n",
    "dwall_barrel = 370. - np.sqrt(positions[:,0]**2 + positions[:,2]**2);\n",
    "dwall = np.amin(np.stack([dwall_caps,dwall_barrel]),0);"
   ]
  },
  {
   "cell_type": "code",
   "execution_count": null,
   "metadata": {},
   "outputs": [],
   "source": [
    "print(pred_Eabovethres.shape)\n",
    "print(energies.shape)\n",
    "print(np.expand_dims(blob.totQ, -1).shape)\n",
    "print(pred_logSigmaESqr.shape)"
   ]
  },
  {
   "cell_type": "code",
   "execution_count": null,
   "metadata": {},
   "outputs": [],
   "source": [
    "fig = plt.figure(figsize=[10,6])\n",
    "plt.scatter((energies - Ethres[label])[label==0], (pred_Eabovethres)[label == 0], s=0.4, alpha=0.5, label='true e');\n",
    "plt.scatter((energies - Ethres[label])[label==1], (pred_Eabovethres)[label == 1], s=0.4, alpha=0.5, label='true mu');\n",
    "plt.legend(loc='upper right');\n",
    "plt.xlabel('True energy above thres');\n",
    "plt.ylabel('Pred energy above thres');\n",
    "plt.show();"
   ]
  },
  {
   "cell_type": "code",
   "execution_count": null,
   "metadata": {},
   "outputs": [],
   "source": [
    "fig = plt.figure(figsize=[10,6])\n",
    "plt.scatter((energies - Ethres[label])[label==0], (np.exp(0.5*pred_logSigmaESqr))[label == 0], s=0.4, alpha=0.5, label='true e');\n",
    "plt.scatter((energies - Ethres[label])[label==1], (np.exp(0.5*pred_logSigmaESqr))[label == 1], s=0.4, alpha=0.5, label='true mu');\n",
    "plt.legend(loc='upper right');\n",
    "plt.xlabel('True energy above thres');\n",
    "plt.ylabel('Pred energy resolution [a.u.]')\n",
    "plt.yscale('log')\n",
    "plt.show();"
   ]
  },
  {
   "cell_type": "code",
   "execution_count": null,
   "metadata": {},
   "outputs": [],
   "source": [
    "fig = plt.figure(figsize=[10,6])\n",
    "plt.scatter((pred_Eabovethres - np.expand_dims(energies - Ethres[label], -1))[label==0], (np.exp(0.5*pred_logSigmaESqr))[label == 0], s=0.4, alpha=0.5, label='true e');\n",
    "plt.scatter((pred_Eabovethres - np.expand_dims(energies - Ethres[label], -1))[label==1], (np.exp(0.5*pred_logSigmaESqr))[label == 1], s=0.4, alpha=0.5, label='true mu');\n",
    "plt.legend(loc='upper right');\n",
    "plt.xlabel('Pred - true energy above thres [MeV]');\n",
    "plt.ylabel('Pred energy resolution [a.u.]')\n",
    "plt.yscale('log')\n",
    "plt.show();"
   ]
  },
  {
   "cell_type": "code",
   "execution_count": null,
   "metadata": {},
   "outputs": [],
   "source": [
    "fig = plt.figure(figsize=[10,6])\n",
    "plt.scatter(np.abs(pred_Eabovethres - np.expand_dims(energies - Ethres[label], -1))[label==0], (np.exp(0.5*pred_logSigmaESqr))[label == 0], s=0.4, alpha=0.5, label='true e');\n",
    "plt.scatter(np.abs(pred_Eabovethres - np.expand_dims(energies - Ethres[label], -1))[label==1], (np.exp(0.5*pred_logSigmaESqr))[label == 1], s=0.4, alpha=0.5, label='true mu');\n",
    "plt.legend(loc='upper right');\n",
    "plt.xlabel('|Pred - true| energy above thres [MeV]');\n",
    "plt.ylabel('Pred energy resolution [a.u.]')\n",
    "plt.xscale('log')\n",
    "plt.yscale('log')\n",
    "plt.show();"
   ]
  },
  {
   "cell_type": "code",
   "execution_count": null,
   "metadata": {},
   "outputs": [],
   "source": [
    "print((energies - Ethres[label]).shape)\n",
    "print(pred_Eabovethres.shape)"
   ]
  },
  {
   "cell_type": "code",
   "execution_count": null,
   "metadata": {},
   "outputs": [],
   "source": [
    "sigE = np.exp(0.5*pred_logSigmaESqr[:,0])\n",
    "cut = sigE < 2e-1\n",
    "\n",
    "fig = plt.figure(figsize=[10,6])\n",
    "plt.scatter(np.expand_dims(energies - Ethres[label], -1)[np.logical_and(cut,label==0)], (pred_Eabovethres)[np.logical_and(cut,label == 0)], s=0.4, alpha=0.5, label='true e');\n",
    "plt.scatter(np.expand_dims(energies - Ethres[label], -1)[np.logical_and(cut,label==1)], (pred_Eabovethres)[np.logical_and(cut,label == 1)], s=0.4, alpha=0.5, label='true mu');\n",
    "plt.legend(loc='upper right');\n",
    "plt.xlabel('True energy above thres');\n",
    "plt.ylabel('Pred energy above thres');\n",
    "plt.show();"
   ]
  },
  {
   "cell_type": "code",
   "execution_count": null,
   "metadata": {},
   "outputs": [],
   "source": [
    "sigE = np.exp(0.5*pred_logSigmaESqr[:,0])\n",
    "cut = sigE < 2e-1\n",
    "\n",
    "fig = plt.figure(figsize=[10,6])\n",
    "plt.scatter(np.expand_dims(energies - Ethres[label], -1)[np.logical_and(cut,label==0)], ((pred_Eabovethres - np.expand_dims(energies - Ethres[label], -1))/np.expand_dims(energies - Ethres[label], -1))[np.logical_and(cut,label == 0)], s=0.4, alpha=0.5, label='true e');\n",
    "plt.scatter(np.expand_dims(energies - Ethres[label], -1)[np.logical_and(cut,label==1)], ((pred_Eabovethres - np.expand_dims(energies - Ethres[label], -1))/np.expand_dims(energies - Ethres[label], -1))[np.logical_and(cut,label == 1)], s=0.4, alpha=0.5, label='true mu');\n",
    "plt.legend(loc='upper right');\n",
    "plt.xlabel('True energy above thres');\n",
    "plt.ylabel('Relative energy misprediction');\n",
    "plt.ylim(-0.30,0.30)\n",
    "plt.plot([0.,1e3],[0.,0.],'--')\n",
    "plt.show();"
   ]
  },
  {
   "cell_type": "code",
   "execution_count": null,
   "metadata": {},
   "outputs": [],
   "source": [
    "sigE = np.exp(0.5*pred_logSigmaESqr[:,0])\n",
    "cut = sigE > 2e-1\n",
    "\n",
    "fig = plt.figure(figsize=[10,6])\n",
    "plt.scatter(np.expand_dims(energies - Ethres[label], -1)[np.logical_and(cut,label==0)], ((pred_Eabovethres - np.expand_dims(energies - Ethres[label], -1))/np.expand_dims(energies - Ethres[label], -1))[np.logical_and(cut,label == 0)], s=0.4, alpha=0.5, label='true e');\n",
    "plt.scatter(np.expand_dims(energies - Ethres[label], -1)[np.logical_and(cut,label==1)], ((pred_Eabovethres - np.expand_dims(energies - Ethres[label], -1))/np.expand_dims(energies - Ethres[label], -1))[np.logical_and(cut,label == 1)], s=0.4, alpha=0.5, label='true mu');\n",
    "plt.legend(loc='upper right');\n",
    "plt.xlabel('True energy above thres');\n",
    "plt.ylabel('Relative energy misprediction');\n",
    "plt.ylim(-2.,2.)\n",
    "plt.plot([0.,1e3],[0.,0.],'--')\n",
    "plt.show();"
   ]
  },
  {
   "cell_type": "code",
   "execution_count": null,
   "metadata": {},
   "outputs": [],
   "source": [
    "plt.hist(sigE[sigE<1.],bins=50);"
   ]
  },
  {
   "cell_type": "code",
   "execution_count": null,
   "metadata": {},
   "outputs": [],
   "source": [
    "print(pred_position.shape)\n",
    "print(positions.shape)"
   ]
  },
  {
   "cell_type": "code",
   "execution_count": null,
   "metadata": {},
   "outputs": [],
   "source": [
    "plt.hist(pred_position[:,0])"
   ]
  },
  {
   "cell_type": "code",
   "execution_count": null,
   "metadata": {},
   "outputs": [],
   "source": [
    "plt.hist(positions[:,0])"
   ]
  },
  {
   "cell_type": "code",
   "execution_count": null,
   "metadata": {},
   "outputs": [],
   "source": [
    "fig = plt.figure(figsize=[10,6])\n",
    "plt.scatter((energies - Ethres[label])[label==0], np.sqrt(np.sum(np.power(pred_position*1000. - positions,2),1))[label == 0], s=0.4, alpha=0.5, label='true e');\n",
    "plt.scatter((energies - Ethres[label])[label==1], np.sqrt(np.sum(np.power(pred_position*1000. - positions,2),1))[label == 1], s=0.4, alpha=0.5, label='true mu');\n",
    "plt.legend(loc='upper right');\n",
    "plt.xlabel('True energy above thres');\n",
    "plt.ylabel('Distance between true and pred position [cm]');\n",
    "plt.yscale('log')\n",
    "plt.show();"
   ]
  },
  {
   "cell_type": "code",
   "execution_count": null,
   "metadata": {},
   "outputs": [],
   "source": [
    "fig = plt.figure(figsize=[10,6])\n",
    "plt.scatter((energies - Ethres[label])[label==0], (np.exp(0.5*pred_logSigmaPosSqr)*1000.)[label == 0], s=0.4, alpha=0.5, label='true e');\n",
    "plt.scatter((energies - Ethres[label])[label==1], (np.exp(0.5*pred_logSigmaPosSqr)*1000.)[label == 1], s=0.4, alpha=0.5, label='true mu');\n",
    "plt.legend(loc='upper right');\n",
    "plt.xlabel('True energy above thres');\n",
    "plt.ylabel('Pred pos resolution [cm]')\n",
    "plt.yscale('log')\n",
    "plt.show();"
   ]
  },
  {
   "cell_type": "code",
   "execution_count": null,
   "metadata": {},
   "outputs": [],
   "source": [
    "fig = plt.figure(figsize=[10,6])\n",
    "plt.scatter((np.exp(0.5*pred_logSigmaPosSqr)*1000.)[label == 0], np.sqrt(np.sum(np.power(pred_position*1000. - positions,2),1))[label == 0], s=0.4, alpha=0.5, label='true e');\n",
    "plt.scatter((np.exp(0.5*pred_logSigmaPosSqr)*1000.)[label == 1], np.sqrt(np.sum(np.power(pred_position*1000. - positions,2),1))[label == 1], s=0.4, alpha=0.5, label='true mu');\n",
    "plt.plot([1e1,3e2], [1e1,3e2], '--')\n",
    "plt.legend(loc='upper right');\n",
    "plt.xlabel('Pred pos resolution [cm]')\n",
    "plt.ylabel('Distance between true and pred position [cm]')\n",
    "plt.xscale('log')\n",
    "plt.yscale('log')\n",
    "plt.show();"
   ]
  },
  {
   "cell_type": "code",
   "execution_count": null,
   "metadata": {},
   "outputs": [],
   "source": [
    "dPos = np.sqrt(np.sum(np.power(pred_position*1000. - positions,2),1));\n",
    "plt.hist(dPos,bins=50);\n",
    "plt.xlabel('Distance between true and pred position [cm]');\n",
    "plt.yscale('log');"
   ]
  },
  {
   "cell_type": "code",
   "execution_count": null,
   "metadata": {},
   "outputs": [],
   "source": [
    "sigPos = np.exp(0.5*pred_logSigmaPosSqr)*1000.;\n",
    "plt.hist(sigPos,bins=50);\n",
    "plt.xlabel('Pred pos resolution [cm]')\n",
    "plt.yscale('log');"
   ]
  },
  {
   "cell_type": "code",
   "execution_count": null,
   "metadata": {},
   "outputs": [],
   "source": [
    "sigE = np.exp(0.5*pred_logSigmaESqr[:,0])\n",
    "cut = (sigE > 0) # should be all events\n",
    "\n",
    "fig = plt.figure(figsize=[10,6])\n",
    "plt.scatter(dwall[np.logical_and(cut,label==0)], ((pred_Eabovethres - np.expand_dims(energies - Ethres[label], -1))/np.expand_dims(energies - Ethres[label], -1))[np.logical_and(cut,label == 0)], s=0.4, alpha=0.5, label='true e');\n",
    "plt.scatter(dwall[np.logical_and(cut,label==1)], ((pred_Eabovethres - np.expand_dims(energies - Ethres[label], -1))/np.expand_dims(energies - Ethres[label], -1))[np.logical_and(cut,label == 1)], s=0.4, alpha=0.5, label='true mu');\n",
    "plt.legend(loc='upper right');\n",
    "plt.xlabel('Distance to nearest wall [cm]');\n",
    "plt.ylabel('Relative energy misprediction');\n",
    "plt.ylim(-1.,1.)\n",
    "plt.plot([0.,300.],[0.,0.],'--')\n",
    "plt.show();"
   ]
  },
  {
   "cell_type": "code",
   "execution_count": null,
   "metadata": {},
   "outputs": [],
   "source": [
    "tankZ = 520. + 1.\n",
    "tankR = 370. + 1.\n",
    "# [x,y,z] = pos + t*dir\n",
    "# x^2 + y^2 = R^2\n",
    "# = (x0 + t*dx)^2 + (y0 + t*dy)^2\n",
    "# = x0^2 + 2t * x0*dx + t^2 * dx^2\n",
    "# 0 = t^2 + 2(x0.dx) t + (x0^2 - R^2)\n",
    "# t = - (x0.dx) + sqrt[(x0.dx)^2 - (x0^2 - R^2)]\n",
    "exitpoint_barrel_x0dx = positions[:,0]*directions[:,0] + positions[:,2]*directions[:,2]\n",
    "exitpoint_barrel_x0x0 = positions[:,0]**2 + positions[:,2]**2\n",
    "exitpoint_barrel_insqrt = exitpoint_barrel_x0dx**2 + tankR**2 - exitpoint_barrel_x0x0\n",
    "exitpoint_barrel_t = np.where(exitpoint_barrel_insqrt>0., -exitpoint_barrel_x0dx + np.sqrt(np.where(exitpoint_barrel_insqrt>0.,exitpoint_barrel_insqrt,0.)), np.nan)\n",
    "exitpoint_barrel = positions + np.expand_dims(exitpoint_barrel_t,-1) * directions\n",
    "\n",
    "# tankZ = z = pos + t*dir\n",
    "# t = (tankZ - pos_z)/dir_z\n",
    "exitpoint_cap_t = (np.where(directions[:,1]>0., tankZ, -tankZ) - positions[:,1]) / directions[:,1]\n",
    "exitpoint_cap = positions + np.expand_dims(exitpoint_cap_t,-1) * directions\n",
    "\n",
    "towall = np.where(np.logical_or(np.isnan(exitpoint_barrel_t),np.abs(np.where(np.isnan(exitpoint_barrel_t),0.,exitpoint_barrel[:,1])) > tankZ), exitpoint_cap_t, exitpoint_barrel_t)"
   ]
  },
  {
   "cell_type": "code",
   "execution_count": null,
   "metadata": {},
   "outputs": [],
   "source": [
    "plt.hist(towall)"
   ]
  },
  {
   "cell_type": "code",
   "execution_count": null,
   "metadata": {},
   "outputs": [],
   "source": [
    "sigE = np.exp(0.5*pred_logSigmaESqr[:,0])\n",
    "cut = (sigE > 0) # should be all events\n",
    "\n",
    "fig = plt.figure(figsize=[10,6])\n",
    "plt.scatter(towall[np.logical_and(cut,label==0)], ((pred_Eabovethres - np.expand_dims(energies - Ethres[label], -1))/np.expand_dims(energies - Ethres[label], -1))[np.logical_and(cut,label == 0)], s=0.4, alpha=0.5, label='true e');\n",
    "plt.scatter(towall[np.logical_and(cut,label==1)], ((pred_Eabovethres - np.expand_dims(energies - Ethres[label], -1))/np.expand_dims(energies - Ethres[label], -1))[np.logical_and(cut,label == 1)], s=0.4, alpha=0.5, label='true mu');\n",
    "plt.legend(loc='upper right');\n",
    "plt.xlabel('Distance to wall along particle track [cm]');\n",
    "plt.ylabel('Relative energy misprediction');\n",
    "plt.ylim(-1.,1.)\n",
    "plt.plot([0.,750.],[0.,0.],'--')\n",
    "plt.show();"
   ]
  },
  {
   "cell_type": "code",
   "execution_count": null,
   "metadata": {},
   "outputs": [],
   "source": [
    "sigE = np.exp(0.5*pred_logSigmaESqr[:,0])\n",
    "cut = (sigE > 0) # should be all events\n",
    "\n",
    "fig = plt.figure(figsize=[10,6])\n",
    "plt.scatter(towall[np.logical_and(cut,label==0)], sigE[np.logical_and(cut,label == 0)], s=0.4, alpha=0.5, label='true e');\n",
    "plt.scatter(towall[np.logical_and(cut,label==1)], sigE[np.logical_and(cut,label == 1)], s=0.4, alpha=0.5, label='true mu');\n",
    "plt.legend(loc='upper right');\n",
    "plt.xlabel('Distance to wall along particle track [cm]');\n",
    "plt.ylabel('Predicted relative energy uncertainty');\n",
    "plt.ylim(0.,2.)\n",
    "plt.show();"
   ]
  },
  {
   "cell_type": "code",
   "execution_count": null,
   "metadata": {},
   "outputs": [],
   "source": [
    "sigE = np.exp(0.5*pred_logSigmaESqr[:,0])\n",
    "cut = (sigE < 0.2) # only good events\n",
    "\n",
    "fig = plt.figure(figsize=[10,6])\n",
    "plt.hist(towall[np.logical_and(cut,label==0)], alpha=0.5, label='true e')\n",
    "plt.hist(towall[np.logical_and(cut,label==1)], alpha=0.5, label='true μ')\n",
    "plt.hist(towall[np.logical_and(cut,label==2)], alpha=0.5, label='true γ')\n",
    "plt.legend(loc='upper right');\n",
    "plt.xlabel('Distance to wall along particle track [cm]');\n",
    "plt.show();"
   ]
  },
  {
   "cell_type": "code",
   "execution_count": null,
   "metadata": {},
   "outputs": [],
   "source": [
    "sigPos = np.exp(0.5*pred_logSigmaPosSqr[:,0])*1000.\n",
    "cut = (sigPos > 0) # should be all events\n",
    "\n",
    "fig = plt.figure(figsize=[10,6])\n",
    "plt.scatter(towall[np.logical_and(cut,label==0)], np.sqrt(np.sum(np.power(pred_position*1000. - positions,2),1))[np.logical_and(cut,label == 0)], s=0.4, alpha=0.5, label='true e');\n",
    "plt.scatter(towall[np.logical_and(cut,label==1)], np.sqrt(np.sum(np.power(pred_position*1000. - positions,2),1))[np.logical_and(cut,label == 1)], s=0.4, alpha=0.5, label='true μ');\n",
    "plt.scatter(towall[np.logical_and(cut,label==2)], np.sqrt(np.sum(np.power(pred_position*1000. - positions,2),1))[np.logical_and(cut,label == 2)], s=0.4, alpha=0.5, label='true γ');\n",
    "plt.legend(loc='upper right');\n",
    "plt.xlabel('Distance to wall along particle track [cm]');\n",
    "plt.ylabel('Distance between true and pred position [cm]');\n",
    "plt.yscale('log')\n",
    "#plt.ylim(-1.,1.)\n",
    "#plt.plot([0.,750.],[0.,0.],'--')\n",
    "plt.show();"
   ]
  },
  {
   "cell_type": "code",
   "execution_count": null,
   "metadata": {},
   "outputs": [],
   "source": [
    "sigPos = np.exp(0.5*pred_logSigmaPosSqr[:,0])*1000.\n",
    "cut = (sigPos > 0) # should be all events\n",
    "\n",
    "fig = plt.figure(figsize=[10,6])\n",
    "plt.scatter(towall[np.logical_and(cut,label==0)], sigPos[np.logical_and(cut,label == 0)], s=0.4, alpha=0.5, label='true e');\n",
    "plt.scatter(towall[np.logical_and(cut,label==1)], sigPos[np.logical_and(cut,label == 1)], s=0.4, alpha=0.5, label='true μ');\n",
    "plt.scatter(towall[np.logical_and(cut,label==2)], sigPos[np.logical_and(cut,label == 2)], s=0.4, alpha=0.5, label='true γ');\n",
    "plt.legend(loc='upper right');\n",
    "plt.xlabel('Distance to wall along particle track [cm]');\n",
    "plt.ylabel('Predicted position resolution [cm]');\n",
    "plt.yscale('log')\n",
    "#plt.ylim(-1.,1.)\n",
    "#plt.plot([0.,750.],[0.,0.],'--')\n",
    "plt.show();"
   ]
  },
  {
   "cell_type": "code",
   "execution_count": null,
   "metadata": {},
   "outputs": [],
   "source": [
    "sigPos = np.exp(0.5*pred_logSigmaPosSqr[:,0])*1000.\n",
    "cut = (sigPos < 30.) # better than 30 cm\n",
    "\n",
    "fig = plt.figure(figsize=[10,6])\n",
    "plt.scatter(towall[np.logical_and(cut,label==0)], np.sqrt(np.sum(np.power(pred_position*1000. - positions,2),1))[np.logical_and(cut,label == 0)], s=0.4, alpha=0.5, label='true e');\n",
    "plt.scatter(towall[np.logical_and(cut,label==1)], np.sqrt(np.sum(np.power(pred_position*1000. - positions,2),1))[np.logical_and(cut,label == 1)], s=0.4, alpha=0.5, label='true μ');\n",
    "plt.scatter(towall[np.logical_and(cut,label==2)], np.sqrt(np.sum(np.power(pred_position*1000. - positions,2),1))[np.logical_and(cut,label == 2)], s=0.4, alpha=0.5, label='true γ');\n",
    "plt.legend(loc='upper right');\n",
    "plt.xlabel('Distance to wall along particle track [cm]');\n",
    "plt.ylabel('Distance between true and pred position [cm]');\n",
    "plt.yscale('log')\n",
    "#plt.ylim(-1.,1.)\n",
    "#plt.plot([0.,750.],[0.,0.],'--')\n",
    "plt.show();"
   ]
  },
  {
   "cell_type": "code",
   "execution_count": null,
   "metadata": {},
   "outputs": [],
   "source": [
    "sigPos = np.exp(0.5*pred_logSigmaPosSqr[:,0])*1000.\n",
    "cut = (sigPos < 30.) # better than 30 cm\n",
    "\n",
    "bins = np.linspace(0., 200., 100)\n",
    "\n",
    "fig = plt.figure(figsize=[10,6])\n",
    "plt.hist(np.sqrt(np.sum(np.power(pred_position*1000. - positions,2),1))[np.logical_and(cut,label==0)], bins=bins, alpha=0.5, label='true e')\n",
    "plt.hist(np.sqrt(np.sum(np.power(pred_position*1000. - positions,2),1))[np.logical_and(cut,label==1)], bins=bins, alpha=0.5, label='true μ')\n",
    "plt.hist(np.sqrt(np.sum(np.power(pred_position*1000. - positions,2),1))[np.logical_and(cut,label==2)], bins=bins, alpha=0.5, label='true γ')\n",
    "plt.legend(loc='upper right');\n",
    "plt.xlabel('Distance between true and pred position [cm]');\n",
    "plt.show();"
   ]
  },
  {
   "cell_type": "code",
   "execution_count": null,
   "metadata": {},
   "outputs": [],
   "source": [
    "sigPos = np.exp(0.5*pred_logSigmaPosSqr[:,0])*1000.\n",
    "cut = (sigPos > 0.) # all events\n",
    "\n",
    "bins = np.linspace(0., 700., 100)\n",
    "\n",
    "fig = plt.figure(figsize=[10,6])\n",
    "plt.hist(np.sqrt(np.sum(np.power(pred_position*1000. - positions,2),1))[np.logical_and(cut,label==0)], alpha=0.5, label='true e', bins=bins)\n",
    "plt.hist(np.sqrt(np.sum(np.power(pred_position*1000. - positions,2),1))[np.logical_and(cut,label==1)], alpha=0.5, label='true μ', bins=bins)\n",
    "plt.hist(np.sqrt(np.sum(np.power(pred_position*1000. - positions,2),1))[np.logical_and(cut,label==2)], alpha=0.5, label='true γ', bins=bins)\n",
    "plt.legend(loc='upper right');\n",
    "plt.xlabel('Distance between true and pred position [cm]');\n",
    "plt.yscale('log')\n",
    "plt.show();"
   ]
  },
  {
   "cell_type": "code",
   "execution_count": null,
   "metadata": {},
   "outputs": [],
   "source": [
    "sigPos = np.exp(0.5*pred_logSigmaPosSqr[:,0])*1000.\n",
    "cut = (sigPos > 0.) # all events\n",
    "\n",
    "bins = np.linspace(0., 350., 100)\n",
    "\n",
    "fig = plt.figure(figsize=[10,6])\n",
    "plt.hist(sigPos[np.logical_and(cut,label==0)], alpha=0.5, label='true e', bins=bins)\n",
    "plt.hist(sigPos[np.logical_and(cut,label==1)], alpha=0.5, label='true μ', bins=bins)\n",
    "plt.hist(sigPos[np.logical_and(cut,label==2)], alpha=0.5, label='true γ', bins=bins)\n",
    "plt.legend(loc='upper right');\n",
    "plt.xlabel('Predicted position resolution [cm]');\n",
    "plt.yscale('log')\n",
    "plt.show();"
   ]
  },
  {
   "cell_type": "code",
   "execution_count": null,
   "metadata": {},
   "outputs": [],
   "source": [
    "with torch.no_grad():\n",
    "    Nrows = 5\n",
    "    for r in range(Nrows):\n",
    "        Nplot = 6\n",
    "        fig, axes = plt.subplots(1, Nplot, figsize=(16,3),facecolor='w')\n",
    "\n",
    "        with torch.no_grad():\n",
    "            blob.net.eval()\n",
    "            test_data = next(iter(test_loader))\n",
    "            blob.data,blob.label = test_data[0:2]\n",
    "            blob.position = test_data[3]\n",
    "            direction     = test_data[4]\n",
    "            blob.energy   = test_data[5]\n",
    "            blob.totQ     = test_data[6]\n",
    "            # limit the number of events to run the network on\n",
    "            # blob.data  = blob.data[0:Nplot,:,:,:]\n",
    "            # blob.label = blob.label[0:Nplot]\n",
    "            # blob.position = blob.position[0:Nplot,:]\n",
    "            # blob.energy = blob.energy[0:Nplot,:]\n",
    "            # blob.totQ = blob.totQ[0:Nplot,:]\n",
    "            res = forward(blob,train=False)\n",
    "            \n",
    "            plotted = 0\n",
    "            for ev in range(blob.data.shape[0]):\n",
    "                if plotted >= int(Nplot/2):\n",
    "                    break\n",
    "                sigPos = np.exp(0.5*res['pred_positionres'][ev,0])*1000.\n",
    "                if sigPos < 30.:\n",
    "                    continue # we only want events with predicted resolution worse than 30 cm\n",
    "                for qt in range(2):\n",
    "                    #im = axes[2*ev+qt].imshow(blob.data[ev,:,:,qt])\n",
    "                    imshowRdBu(axes[2*plotted+qt], torch.as_tensor(blob.data[ev,:,:,qt]))\n",
    "                    labelNames = ['e','μ','γ']\n",
    "                    if qt == 0:\n",
    "                        axes[2*plotted+qt].set_title('true: %s' % (labelNames[blob.label[ev]]))\n",
    "                plotted += 1\n",
    "                #cbar = fig.colorbar(im, ax=axes[0])\n",
    "            plt.show()\n",
    "            \n",
    "            del test_data\n",
    "            del blob.data\n",
    "            del blob.label"
   ]
  },
  {
   "cell_type": "code",
   "execution_count": null,
   "metadata": {},
   "outputs": [],
   "source": [
    "for a in [pred_Eabovethres, pred_logSigmaESqr, pred_position, pred_logSigmaPosSqr, label, positions, directions, energies]:\n",
    "    print(a.shape)"
   ]
  },
  {
   "cell_type": "code",
   "execution_count": null,
   "metadata": {},
   "outputs": [],
   "source": [
    "#label,prediction,softmax,positions,directions\n",
    "np.savetxt('%s-inferenceEpos.csv' % blob.prefix,\n",
    "           np.hstack([pred_Eabovethres, pred_logSigmaESqr, pred_position, pred_logSigmaPosSqr, np.expand_dims(label,1), positions, directions, np.expand_dims(energies,1)]),\n",
    "           delimiter=','\n",
    "          )"
   ]
  },
  {
   "cell_type": "markdown",
   "metadata": {},
   "source": [
    "## Train for 4 more epochs with more data"
   ]
  },
  {
   "cell_type": "code",
   "execution_count": null,
   "metadata": {},
   "outputs": [],
   "source": [
    "mcdir = '/home/lukasb/watchmal/data_ssd/IWCDmPMT_4pi_full_tank/h5_topo'\n",
    "pnames = ('e-','mu-','gamma')\n",
    "files = ['%s/%s/IWCDmPMT_4pi_full_tank_%s_E0to1000MeV_unif-pos-R371-y521cm_4pi-dir_3000evts_%d.h5' % (mcdir,pname,pname,bch+100) for bch in range(300) for pname in pnames]\n",
    "\n",
    "train_ds = H5Dataset(files,start_fraction=0.0,use_fraction=0.9);\n",
    "test_ds  = H5Dataset(files,start_fraction=0.9,use_fraction=0.1);\n",
    "\n",
    "# for training\n",
    "train_loader=DataLoader(train_ds,batch_size=32,shuffle=True,num_workers=4,collate_fn=HKCollate)\n",
    "# for validation\n",
    "test_loader =DataLoader( test_ds,batch_size=64,shuffle=True,num_workers=2,collate_fn=HKCollate)"
   ]
  },
  {
   "cell_type": "code",
   "execution_count": null,
   "metadata": {},
   "outputs": [],
   "source": [
    "import time\n",
    "from utils.utils import progress_bar, CSVData\n",
    "\n",
    "blob.train_log, blob.test_log = CSVData('%s-log_train_epoch4to8.csv' % blob.prefix), CSVData('%s-log_test_epoch4to8.csv' % blob.prefix)\n",
    "\n",
    "# Define train period. \"epoch\" = N image consumption where N is the total number of train samples.\n",
    "TRAIN_EPOCH=8.0\n",
    "# Set the network to training mode\n",
    "blob.net.train()\n",
    "\n",
    "# Start training\n",
    "while int(blob.epoch+0.5) < TRAIN_EPOCH:\n",
    "    print('Epoch',int(blob.epoch+0.5),'Starting @',time.strftime(\"%Y-%m-%d %H:%M:%S\", time.localtime()))\n",
    "    # Create a progress bar for this epoch\n",
    "    progress = display(progress_bar(0,len(train_loader)),display_id=True)\n",
    "    # Loop over data samples and into the network forward function\n",
    "    for i,data in enumerate(train_loader):\n",
    "        # Data and label\n",
    "        # data,label,idx,pos,direc,ene\n",
    "        blob.data,blob.label = data[0:2]\n",
    "        blob.position = data[3]\n",
    "        blob.energy   = data[5]\n",
    "        blob.totQ     = data[6]\n",
    "        # Call forward: make a prediction & measure the average error\n",
    "        res = forward(blob,True)\n",
    "        # Call backward: backpropagate error and update weights\n",
    "        backward(blob)\n",
    "        # Epoch update\n",
    "        blob.epoch += 1./len(train_loader)\n",
    "        blob.iteration += 1\n",
    "        \n",
    "        #\n",
    "        # Log/Report\n",
    "        #\n",
    "        # Record the current performance on train set\n",
    "        blob.train_log.record(['iteration','epoch']+resKeysToLog,[blob.iteration,blob.epoch]+[res[key] for key in resKeysToLog])\n",
    "        blob.train_log.write()\n",
    "        # once in a while, report\n",
    "        if i==0 or (i+1)%10 == 0:\n",
    "            message = '... Iteration %d ... Epoch %1.2f ... Loss %1.3f = %1.3f (energy) + %1.3f (pos)' % (blob.iteration,blob.epoch,res['loss'],res['loss_energy'],res['loss_position'])\n",
    "            progress.update(progress_bar((i+1),len(train_loader),message))\n",
    "        # more rarely, run validation\n",
    "        if (i+1)%40 == 0:\n",
    "            with torch.no_grad():\n",
    "                blob.net.eval()\n",
    "                test_data = next(iter(test_loader))\n",
    "                blob.data,blob.label = test_data[0:2]\n",
    "                blob.position = test_data[3]\n",
    "                blob.energy   = test_data[5]\n",
    "                blob.totQ     = test_data[6]\n",
    "                res = forward(blob,False)\n",
    "                blob.test_log.record(['iteration','epoch']+resKeysToLog,[blob.iteration,blob.epoch]+[res[key] for key in resKeysToLog])\n",
    "                blob.test_log.write()\n",
    "            blob.net.train()\n",
    "        # even more rarely, save state\n",
    "        if (i+1)%400 == 0:\n",
    "            with torch.no_grad():\n",
    "                blob.net.eval()\n",
    "                save_state(blob)\n",
    "            blob.net.train()\n",
    "        if blob.epoch >= TRAIN_EPOCH:\n",
    "            break\n",
    "    message = '... Iteration %d ... Epoch %1.2f ... Loss %1.3f = %1.3f (energy) + %1.3f (pos)' % (blob.iteration,blob.epoch,res['loss'],res['loss_energy'],res['loss_position'])\n",
    "    #print(message)\n",
    "    progress.update(progress_bar((i+1),len(train_loader),message))\n",
    "\n",
    "blob.test_log.close()\n",
    "blob.train_log.close()"
   ]
  },
  {
   "cell_type": "code",
   "execution_count": null,
   "metadata": {},
   "outputs": [],
   "source": [
    "# or compare with standard ResNet\n",
    "\n",
    "def Rcode:\n",
    "    prefix='20200708-17b-IWCD-SmallerResNetTaylor-timeCmplx-relEpos-02-relEpos'\n",
    "    prefixRef='20200708-10-IWCD-SmallResNetGeom-timeCmplxNCoord-relEpos-01-relEpos'\n",
    "\n",
    "    ma <- function(x, n = 5){filter(x, rep(1 / n, n), sides = 2)}\n",
    "\n",
    "    maxepochs = 8.\n",
    "    dfTrain = rbind(\n",
    "      read.csv(sprintf(\"/home/lukasb/watchmal/DataTools/root_utils/notebooks/%s-log_train.csv\", prefix)),\n",
    "      read.csv(sprintf(\"/home/lukasb/watchmal/DataTools/root_utils/notebooks/%s-log_train_epoch4to8.csv\", prefix))\n",
    "    )\n",
    "    dfTest = rbind(\n",
    "      read.csv(sprintf(\"/home/lukasb/watchmal/DataTools/root_utils/notebooks/%s-log_test.csv\", prefix)),\n",
    "      read.csv(sprintf(\"/home/lukasb/watchmal/DataTools/root_utils/notebooks/%s-log_test_epoch4to8.csv\", prefix))\n",
    "    )\n",
    "\n",
    "    dfTrainRef = rbind(\n",
    "      read.csv(sprintf(\"/home/lukasb/watchmal/DataTools/root_utils/notebooks/%s-log_train.csv\", prefixRef)),\n",
    "      read.csv(sprintf(\"/home/lukasb/watchmal/DataTools/root_utils/notebooks/%s-log_train_epoch4to8.csv\", prefixRef))\n",
    "    )\n",
    "    dfTestRef = rbind(\n",
    "      read.csv(sprintf(\"/home/lukasb/watchmal/DataTools/root_utils/notebooks/%s-log_test.csv\", prefixRef)),\n",
    "      read.csv(sprintf(\"/home/lukasb/watchmal/DataTools/root_utils/notebooks/%s-log_test_epoch4to8.csv\", prefixRef))\n",
    "    )\n",
    "\n",
    "    batchSizeFactor = 1.\n",
    "    smoothingFactor = 1.\n",
    "    \n",
    "    dfPlot    = dfTrain\n",
    "    dfPlotRef = dfTrainRef\n",
    "\n",
    "    par(mfrow=c(1,2))\n",
    "    w=100\n",
    "    ylim = range(c(with(dfPlot, range(ma(loss_energy,w),na.rm=TRUE)), with(dfPlotRef, range(ma(loss_energy,w),na.rm=TRUE))))\n",
    "    plot(c(ma(loss_energy,w)) ~ c(ma(epoch,w)), dfPlot, 'l', col='green', xlab='Epoch', ylab='Energy Loss', xaxs='i', xlim=c(0.,maxepochs), ylim=ylim)\n",
    "    lines(c(ma(batchSizeFactor*loss_energy,w*smoothingFactor)) ~ c(ma(epoch,w*smoothingFactor)), dfPlotRef, col='blue')\n",
    "\n",
    "    ylim = range(c(with(dfPlot, range(ma(loss_position,w),na.rm=TRUE)), with(dfPlotRef, range(ma(loss_position,w),na.rm=TRUE))))\n",
    "    plot(c(ma(loss_position,w)) ~ c(ma(epoch,w)), dfPlot, 'l', col='orange', xlab='Epoch', ylab='Position Loss', xaxs='i', xlim=c(0.,maxepochs), ylim=ylim)\n",
    "    lines(c(ma(batchSizeFactor*loss_position,w*smoothingFactor)) ~ c(ma(epoch,w*smoothingFactor)), dfPlotRef, col='red')"
   ]
  },
  {
   "cell_type": "code",
   "execution_count": null,
   "metadata": {},
   "outputs": [],
   "source": [
    "# same with test loss\n",
    "\n",
    "def Rcode:\n",
    "    prefix='20200708-17b-IWCD-SmallerResNetTaylor-timeCmplx-relEpos-02-relEpos'\n",
    "    prefixRef='20200708-10-IWCD-SmallResNetGeom-timeCmplxNCoord-relEpos-01-relEpos'\n",
    "\n",
    "    ma <- function(x, n = 5){filter(x, rep(1 / n, n), sides = 2)}\n",
    "\n",
    "    maxepochs = 8.\n",
    "    dfTrain = rbind(\n",
    "      read.csv(sprintf(\"/home/lukasb/watchmal/DataTools/root_utils/notebooks/%s-log_train.csv\", prefix)),\n",
    "      read.csv(sprintf(\"/home/lukasb/watchmal/DataTools/root_utils/notebooks/%s-log_train_epoch4to8.csv\", prefix))\n",
    "    )\n",
    "    dfTest = rbind(\n",
    "      read.csv(sprintf(\"/home/lukasb/watchmal/DataTools/root_utils/notebooks/%s-log_test.csv\", prefix)),\n",
    "      read.csv(sprintf(\"/home/lukasb/watchmal/DataTools/root_utils/notebooks/%s-log_test_epoch4to8.csv\", prefix))\n",
    "    )\n",
    "\n",
    "    dfTrainRef = rbind(\n",
    "      read.csv(sprintf(\"/home/lukasb/watchmal/DataTools/root_utils/notebooks/%s-log_train.csv\", prefixRef)),\n",
    "      read.csv(sprintf(\"/home/lukasb/watchmal/DataTools/root_utils/notebooks/%s-log_train_epoch4to8.csv\", prefixRef))\n",
    "    )\n",
    "    dfTestRef = rbind(\n",
    "      read.csv(sprintf(\"/home/lukasb/watchmal/DataTools/root_utils/notebooks/%s-log_test.csv\", prefixRef)),\n",
    "      read.csv(sprintf(\"/home/lukasb/watchmal/DataTools/root_utils/notebooks/%s-log_test_epoch4to8.csv\", prefixRef))\n",
    "    )\n",
    "\n",
    "    batchSizeFactor = 1.\n",
    "    smoothingFactor = 1.\n",
    "    \n",
    "    dfPlot    = dfTest\n",
    "    dfPlotRef = dfTestRef\n",
    "\n",
    "    par(mfrow=c(1,2))\n",
    "    w=100\n",
    "    ylim = range(c(with(dfPlot, range(ma(loss_energy,w),na.rm=TRUE)), with(dfPlotRef, range(ma(loss_energy,w),na.rm=TRUE))))\n",
    "    plot(c(ma(loss_energy,w)) ~ c(ma(epoch,w)), dfPlot, 'l', col='green', xlab='Epoch', ylab='Energy Loss', xaxs='i', xlim=c(0.,maxepochs), ylim=ylim)\n",
    "    lines(c(ma(batchSizeFactor*loss_energy,w*smoothingFactor)) ~ c(ma(epoch,w*smoothingFactor)), dfPlotRef, col='blue')\n",
    "\n",
    "    ylim = range(c(with(dfPlot, range(ma(loss_position[is.finite(loss_position)],w),na.rm=TRUE)), with(dfPlotRef, range(ma(loss_position[is.finite(loss_position)],w),na.rm=TRUE))))\n",
    "    ylim[2] = 20\n",
    "    plot(c(ma(loss_position,w)) ~ c(ma(epoch,w)), dfPlot, 'l', col='orange', xlab='Epoch', ylab='Position Loss', xaxs='i', xlim=c(0.,maxepochs), ylim=ylim)\n",
    "    lines(c(ma(batchSizeFactor*loss_position,w*smoothingFactor)) ~ c(ma(epoch,w*smoothingFactor)), dfPlotRef, col='red')"
   ]
  },
  {
   "cell_type": "code",
   "execution_count": null,
   "metadata": {},
   "outputs": [],
   "source": [
    "save_state(blob)"
   ]
  },
  {
   "cell_type": "code",
   "execution_count": null,
   "metadata": {},
   "outputs": [],
   "source": [
    "pred_Eabovethres, pred_logSigmaESqr, pred_position, pred_logSigmaPosSqr, label, positions, directions, energies = inferenceWithSoftmax(blob,test_loader)"
   ]
  },
  {
   "cell_type": "code",
   "execution_count": null,
   "metadata": {},
   "outputs": [],
   "source": [
    "#label,prediction,softmax,positions,directions\n",
    "np.savetxt('%s-inferenceEpos_epoch8.csv' % blob.prefix,\n",
    "           np.hstack([pred_Eabovethres, pred_logSigmaESqr, pred_position, pred_logSigmaPosSqr, np.expand_dims(label,1), positions, directions, np.expand_dims(energies,1)]),\n",
    "           delimiter=','\n",
    "          )"
   ]
  },
  {
   "cell_type": "code",
   "execution_count": null,
   "metadata": {},
   "outputs": [],
   "source": [
    "tankZ = 520. + 1.\n",
    "tankR = 370. + 1.\n",
    "# [x,y,z] = pos + t*dir\n",
    "# x^2 + y^2 = R^2\n",
    "# = (x0 + t*dx)^2 + (y0 + t*dy)^2\n",
    "# = x0^2 + 2t * x0*dx + t^2 * dx^2\n",
    "# 0 = t^2 + 2(x0.dx) t + (x0^2 - R^2)\n",
    "# t = - (x0.dx) + sqrt[(x0.dx)^2 - (x0^2 - R^2)]\n",
    "exitpoint_barrel_x0dx = positions[:,0]*directions[:,0] + positions[:,2]*directions[:,2]\n",
    "exitpoint_barrel_x0x0 = positions[:,0]**2 + positions[:,2]**2\n",
    "exitpoint_barrel_insqrt = exitpoint_barrel_x0dx**2 + tankR**2 - exitpoint_barrel_x0x0\n",
    "exitpoint_barrel_t = np.where(exitpoint_barrel_insqrt>0., -exitpoint_barrel_x0dx + np.sqrt(np.where(exitpoint_barrel_insqrt>0.,exitpoint_barrel_insqrt,0.)), np.nan)\n",
    "exitpoint_barrel = positions + np.expand_dims(exitpoint_barrel_t,-1) * directions\n",
    "\n",
    "# tankZ = z = pos + t*dir\n",
    "# t = (tankZ - pos_z)/dir_z\n",
    "exitpoint_cap_t = (np.where(directions[:,1]>0., tankZ, -tankZ) - positions[:,1]) / directions[:,1]\n",
    "exitpoint_cap = positions + np.expand_dims(exitpoint_cap_t,-1) * directions\n",
    "\n",
    "towall = np.where(np.logical_or(np.isnan(exitpoint_barrel_t),np.abs(np.where(np.isnan(exitpoint_barrel_t),0.,exitpoint_barrel[:,1])) > tankZ), exitpoint_cap_t, exitpoint_barrel_t)"
   ]
  },
  {
   "cell_type": "code",
   "execution_count": null,
   "metadata": {},
   "outputs": [],
   "source": [
    "sigE = np.exp(0.5*pred_logSigmaESqr[:,0])\n",
    "cut = (sigE > 0) # should be all events\n",
    "\n",
    "fig = plt.figure(figsize=[10,6])\n",
    "plt.scatter(np.expand_dims(energies - Ethres[label], -1)[np.logical_and(cut,label==0)], ((pred_Eabovethres - np.expand_dims(energies - Ethres[label], -1))/np.expand_dims(energies - Ethres[label], -1))[np.logical_and(cut,label == 0)], s=0.4, alpha=0.5, label='true e');\n",
    "plt.scatter(np.expand_dims(energies - Ethres[label], -1)[np.logical_and(cut,label==1)], ((pred_Eabovethres - np.expand_dims(energies - Ethres[label], -1))/np.expand_dims(energies - Ethres[label], -1))[np.logical_and(cut,label == 1)], s=0.4, alpha=0.5, label='true μ');\n",
    "plt.scatter(np.expand_dims(energies - Ethres[label], -1)[np.logical_and(cut,label==2)], ((pred_Eabovethres - np.expand_dims(energies - Ethres[label], -1))/np.expand_dims(energies - Ethres[label], -1))[np.logical_and(cut,label == 2)], s=0.4, alpha=0.5, label='true γ');\n",
    "plt.legend(loc='upper right');\n",
    "plt.xlabel('True energy above threshold [MeV]');\n",
    "plt.ylabel('Relative energy misprediction');\n",
    "plt.xlim(0., 1000.)\n",
    "plt.ylim(-1.,1.)\n",
    "plt.plot([0.,750.],[0.,0.],'--')\n",
    "plt.show();"
   ]
  },
  {
   "cell_type": "code",
   "execution_count": null,
   "metadata": {},
   "outputs": [],
   "source": [
    "sigE = np.exp(0.5*pred_logSigmaESqr[:,0])\n",
    "cut = (sigE < 0.2) # only good events\n",
    "\n",
    "fig = plt.figure(figsize=[10,6])\n",
    "plt.scatter(np.expand_dims(energies - Ethres[label], -1)[np.logical_and(cut,label==0)], ((pred_Eabovethres - np.expand_dims(energies - Ethres[label], -1))/np.expand_dims(energies - Ethres[label], -1))[np.logical_and(cut,label == 0)], s=0.1, alpha=0.5, label='true e');\n",
    "plt.scatter(np.expand_dims(energies - Ethres[label], -1)[np.logical_and(cut,label==1)], ((pred_Eabovethres - np.expand_dims(energies - Ethres[label], -1))/np.expand_dims(energies - Ethres[label], -1))[np.logical_and(cut,label == 1)], s=0.1, alpha=0.5, label='true μ');\n",
    "plt.scatter(np.expand_dims(energies - Ethres[label], -1)[np.logical_and(cut,label==2)], ((pred_Eabovethres - np.expand_dims(energies - Ethres[label], -1))/np.expand_dims(energies - Ethres[label], -1))[np.logical_and(cut,label == 2)], s=0.1, alpha=0.5, label='true γ');\n",
    "plt.legend(loc='upper right');\n",
    "plt.xlabel('True energy above threshold [MeV]');\n",
    "plt.ylabel('Relative energy misprediction');\n",
    "plt.xlim(0., 1000.)\n",
    "plt.ylim(-1.,1.)\n",
    "plt.plot([0.,1000.],[0.,0.],'--')\n",
    "plt.show();"
   ]
  },
  {
   "cell_type": "code",
   "execution_count": null,
   "metadata": {},
   "outputs": [],
   "source": [
    "sigE = np.exp(0.5*pred_logSigmaESqr[:,0])\n",
    "cut = (sigE < 0.2) # only good events\n",
    "\n",
    "fig = plt.figure(figsize=[10,6])\n",
    "plt.scatter(np.expand_dims(energies - Ethres[label], -1)[np.logical_and(cut,label==1)], ((pred_Eabovethres - np.expand_dims(energies - Ethres[label], -1))/np.expand_dims(energies - Ethres[label], -1))[np.logical_and(cut,label == 1)], s=0.1, alpha=0.5, label='true μ');\n",
    "plt.legend(loc='upper right');\n",
    "plt.xlabel('True energy above threshold [MeV]');\n",
    "plt.ylabel('Relative energy misprediction');\n",
    "plt.xlim(0., 1000.)\n",
    "plt.ylim(-1.,1.)\n",
    "plt.plot([0.,1000.],[0.,0.],'--')\n",
    "plt.show();"
   ]
  },
  {
   "cell_type": "code",
   "execution_count": null,
   "metadata": {},
   "outputs": [],
   "source": [
    "sigE = np.exp(0.5*pred_logSigmaESqr[:,0])\n",
    "sigPos = np.exp(0.5*pred_logSigmaPosSqr[:,0])*1000.\n",
    "cut = (sigPos < 30.) # better than 30 cm\n",
    "\n",
    "fig = plt.figure(figsize=[10,6])\n",
    "plt.scatter(np.expand_dims(energies - Ethres[label], -1)[np.logical_and(cut,label==0)], ((pred_Eabovethres - np.expand_dims(energies - Ethres[label], -1))/np.expand_dims(energies - Ethres[label], -1))[np.logical_and(cut,label == 0)], s=0.4, alpha=0.5, label='true e');\n",
    "plt.scatter(np.expand_dims(energies - Ethres[label], -1)[np.logical_and(cut,label==1)], ((pred_Eabovethres - np.expand_dims(energies - Ethres[label], -1))/np.expand_dims(energies - Ethres[label], -1))[np.logical_and(cut,label == 1)], s=0.4, alpha=0.5, label='true μ');\n",
    "plt.scatter(np.expand_dims(energies - Ethres[label], -1)[np.logical_and(cut,label==2)], ((pred_Eabovethres - np.expand_dims(energies - Ethres[label], -1))/np.expand_dims(energies - Ethres[label], -1))[np.logical_and(cut,label == 2)], s=0.4, alpha=0.5, label='true γ');\n",
    "plt.legend(loc='upper right');\n",
    "plt.xlabel('True energy above threshold [MeV]');\n",
    "plt.ylabel('Relative energy misprediction');\n",
    "plt.xlim(0., 1000.)\n",
    "plt.ylim(-1.,1.)\n",
    "plt.plot([0.,750.],[0.,0.],'--')\n",
    "plt.show();"
   ]
  },
  {
   "cell_type": "code",
   "execution_count": null,
   "metadata": {},
   "outputs": [],
   "source": [
    "sigE = np.exp(0.5*pred_logSigmaESqr[:,0])\n",
    "cut = (sigE < 0.2) # only good events\n",
    "\n",
    "fig = plt.figure(figsize=[10,6])\n",
    "plt.scatter(np.expand_dims(energies - Ethres[label], -1)[np.logical_and(cut,label==0)], pred_Eabovethres[np.logical_and(cut,label == 0)], s=0.1, alpha=0.5, label='true e');\n",
    "plt.scatter(np.expand_dims(energies - Ethres[label], -1)[np.logical_and(cut,label==1)], pred_Eabovethres[np.logical_and(cut,label == 1)], s=0.1, alpha=0.5, label='true μ');\n",
    "plt.scatter(np.expand_dims(energies - Ethres[label], -1)[np.logical_and(cut,label==2)], pred_Eabovethres[np.logical_and(cut,label == 2)], s=0.1, alpha=0.5, label='true γ');\n",
    "plt.legend(loc='upper left');\n",
    "plt.xlabel('True energy above threshold [MeV]');\n",
    "plt.ylabel('Predicted energy above threshold [MeV]');\n",
    "plt.xlim(0., 1000.)\n",
    "plt.ylim(0., 1000.)\n",
    "plt.plot([0.,1000.],[0.,1000.],'--')\n",
    "plt.show();"
   ]
  },
  {
   "cell_type": "code",
   "execution_count": null,
   "metadata": {},
   "outputs": [],
   "source": [
    "sigE = np.exp(0.5*pred_logSigmaESqr[:,0])\n",
    "cut = (sigE > 0.) # all events\n",
    "\n",
    "fig = plt.figure(figsize=[10,6])\n",
    "plt.scatter(np.expand_dims(energies - Ethres[label], -1)[np.logical_and(cut,label==0)], pred_Eabovethres[np.logical_and(cut,label == 0)], s=0.1, alpha=0.5, label='true e');\n",
    "plt.scatter(np.expand_dims(energies - Ethres[label], -1)[np.logical_and(cut,label==1)], pred_Eabovethres[np.logical_and(cut,label == 1)], s=0.1, alpha=0.5, label='true μ');\n",
    "plt.scatter(np.expand_dims(energies - Ethres[label], -1)[np.logical_and(cut,label==2)], pred_Eabovethres[np.logical_and(cut,label == 2)], s=0.1, alpha=0.5, label='true γ');\n",
    "plt.legend(loc='upper left');\n",
    "plt.xlabel('True energy above threshold [MeV]');\n",
    "plt.ylabel('Predicted energy above threshold [MeV]');\n",
    "plt.xlim(0., 1000.)\n",
    "plt.ylim(0., 1000.)\n",
    "plt.plot([0.,1000.],[0.,1000.],'--')\n",
    "plt.show();"
   ]
  },
  {
   "cell_type": "code",
   "execution_count": null,
   "metadata": {},
   "outputs": [],
   "source": [
    "sigE = np.exp(0.5*pred_logSigmaESqr[:,0])\n",
    "cut = (sigE > 0.2) # bad events\n",
    "\n",
    "fig = plt.figure(figsize=[10,6])\n",
    "plt.scatter(np.expand_dims(energies - Ethres[label], -1)[np.logical_and(cut,label==0)], pred_Eabovethres[np.logical_and(cut,label == 0)], s=0.1, alpha=0.5, label='true e');\n",
    "plt.scatter(np.expand_dims(energies - Ethres[label], -1)[np.logical_and(cut,label==1)], pred_Eabovethres[np.logical_and(cut,label == 1)], s=0.1, alpha=0.5, label='true μ');\n",
    "plt.scatter(np.expand_dims(energies - Ethres[label], -1)[np.logical_and(cut,label==2)], pred_Eabovethres[np.logical_and(cut,label == 2)], s=0.1, alpha=0.5, label='true γ');\n",
    "plt.legend(loc='upper left');\n",
    "plt.xlabel('True energy above threshold [MeV]');\n",
    "plt.ylabel('Predicted energy above threshold [MeV]');\n",
    "plt.xlim(0., 1000.)\n",
    "plt.ylim(0., 1000.)\n",
    "plt.plot([0.,1000.],[0.,1000.],'--')\n",
    "plt.show();"
   ]
  },
  {
   "cell_type": "code",
   "execution_count": null,
   "metadata": {},
   "outputs": [],
   "source": [
    "v_energies,v_totQs=[],[]\n",
    "for i,data in enumerate(test_loader):\n",
    "    v_energies.append(data[5])\n",
    "    v_totQs.append(data[6])\n",
    "v_energies   = np.concatenate(v_energies)\n",
    "v_totQs      = np.concatenate(v_totQs)"
   ]
  },
  {
   "cell_type": "code",
   "execution_count": null,
   "metadata": {},
   "outputs": [],
   "source": [
    "fig = plt.figure(figsize=[10,6])\n",
    "plt.scatter(v_energies, v_totQs, s=0.1, alpha=0.5);\n",
    "plt.xlabel('True energy above threshold [MeV]');\n",
    "plt.ylabel('Total charge');\n",
    "plt.xlim(0., 1000.)\n",
    "plt.show();"
   ]
  },
  {
   "cell_type": "code",
   "execution_count": null,
   "metadata": {},
   "outputs": [],
   "source": [
    "bins = np.linspace(-1., 1., 100)\n",
    "\n",
    "fig = plt.figure(figsize=[10,6])\n",
    "plt.hist((0.09*v_totQs - v_energies)/v_energies, bins=bins)\n",
    "plt.xlabel('Relative energy uncertainty (pred-true)/true');\n",
    "plt.show();"
   ]
  },
  {
   "cell_type": "code",
   "execution_count": null,
   "metadata": {},
   "outputs": [],
   "source": [
    "bins = np.linspace(-1., 1., 100)\n",
    "\n",
    "v_relE = (0.09*v_totQs - v_energies)/v_energies\n",
    "\n",
    "fig = plt.figure(figsize=[10,6])\n",
    "plt.hist(v_relE[v_relE>-0.12], bins=bins)\n",
    "plt.xlabel('Relative energy uncertainty (pred-true)/true');\n",
    "plt.show();"
   ]
  },
  {
   "cell_type": "code",
   "execution_count": null,
   "metadata": {},
   "outputs": [],
   "source": [
    "sigE = np.exp(0.5*pred_logSigmaESqr[:,0])\n",
    "cut = (sigE > 0) # should be all events\n",
    "\n",
    "fig = plt.figure(figsize=[10,6])\n",
    "plt.scatter(towall[np.logical_and(cut,label==0)], ((pred_Eabovethres - np.expand_dims(energies - Ethres[label], -1))/np.expand_dims(energies - Ethres[label], -1))[np.logical_and(cut,label == 0)], s=0.4, alpha=0.5, label='true e');\n",
    "plt.scatter(towall[np.logical_and(cut,label==1)], ((pred_Eabovethres - np.expand_dims(energies - Ethres[label], -1))/np.expand_dims(energies - Ethres[label], -1))[np.logical_and(cut,label == 1)], s=0.4, alpha=0.5, label='true μ');\n",
    "plt.scatter(towall[np.logical_and(cut,label==2)], ((pred_Eabovethres - np.expand_dims(energies - Ethres[label], -1))/np.expand_dims(energies - Ethres[label], -1))[np.logical_and(cut,label == 2)], s=0.4, alpha=0.5, label='true γ');\n",
    "plt.legend(loc='upper right');\n",
    "plt.xlabel('Distance to wall along particle track [cm]');\n",
    "plt.ylabel('Relative energy misprediction');\n",
    "plt.ylim(-1.,1.)\n",
    "plt.plot([0.,750.],[0.,0.],'--')\n",
    "plt.show();"
   ]
  },
  {
   "cell_type": "code",
   "execution_count": null,
   "metadata": {},
   "outputs": [],
   "source": [
    "sigE = np.exp(0.5*pred_logSigmaESqr[:,0])\n",
    "cut = (sigE > 0) # should be all events\n",
    "\n",
    "fig = plt.figure(figsize=[10,6])\n",
    "plt.scatter(towall[np.logical_and(cut,label==0)], sigE[np.logical_and(cut,label == 0)], s=0.4, alpha=0.5, label='true e');\n",
    "plt.scatter(towall[np.logical_and(cut,label==1)], sigE[np.logical_and(cut,label == 1)], s=0.4, alpha=0.5, label='true μ');\n",
    "plt.scatter(towall[np.logical_and(cut,label==2)], sigE[np.logical_and(cut,label == 2)], s=0.4, alpha=0.5, label='true γ');\n",
    "plt.legend(loc='upper right');\n",
    "plt.xlabel('Distance to wall along particle track [cm]');\n",
    "plt.ylabel('Predicted relative energy uncertainty');\n",
    "plt.ylim(0.,2.)\n",
    "plt.show();"
   ]
  },
  {
   "cell_type": "code",
   "execution_count": null,
   "metadata": {},
   "outputs": [],
   "source": [
    "sigPos = np.exp(0.5*pred_logSigmaPosSqr[:,0])*1000.\n",
    "cut = (sigPos > 0) # should be all events\n",
    "\n",
    "fig = plt.figure(figsize=[10,6])\n",
    "plt.scatter(towall[np.logical_and(cut,label==0)], np.sqrt(np.sum(np.power(pred_position*1000. - positions,2),1))[np.logical_and(cut,label == 0)], s=0.4, alpha=0.5, label='true e');\n",
    "plt.scatter(towall[np.logical_and(cut,label==1)], np.sqrt(np.sum(np.power(pred_position*1000. - positions,2),1))[np.logical_and(cut,label == 1)], s=0.4, alpha=0.5, label='true μ');\n",
    "plt.scatter(towall[np.logical_and(cut,label==2)], np.sqrt(np.sum(np.power(pred_position*1000. - positions,2),1))[np.logical_and(cut,label == 2)], s=0.4, alpha=0.5, label='true γ');\n",
    "plt.legend(loc='upper right');\n",
    "plt.xlabel('Distance to wall along particle track [cm]');\n",
    "plt.ylabel('Distance between true and pred position [cm]');\n",
    "plt.yscale('log')\n",
    "#plt.ylim(-1.,1.)\n",
    "#plt.plot([0.,750.],[0.,0.],'--')\n",
    "plt.show();"
   ]
  },
  {
   "cell_type": "code",
   "execution_count": null,
   "metadata": {},
   "outputs": [],
   "source": [
    "sigPos = np.exp(0.5*pred_logSigmaPosSqr[:,0])*1000.\n",
    "cut = (sigPos > 0) # should be all events\n",
    "\n",
    "fig = plt.figure(figsize=[10,6])\n",
    "plt.scatter(towall[np.logical_and(cut,label==0)], sigPos[np.logical_and(cut,label == 0)], s=0.4, alpha=0.5, label='true e');\n",
    "plt.scatter(towall[np.logical_and(cut,label==1)], sigPos[np.logical_and(cut,label == 1)], s=0.4, alpha=0.5, label='true μ');\n",
    "plt.scatter(towall[np.logical_and(cut,label==2)], sigPos[np.logical_and(cut,label == 2)], s=0.4, alpha=0.5, label='true γ');\n",
    "plt.legend(loc='upper right');\n",
    "plt.xlabel('Distance to wall along particle track [cm]');\n",
    "plt.ylabel('Predicted position resolution [cm]');\n",
    "plt.yscale('log')\n",
    "#plt.ylim(-1.,1.)\n",
    "#plt.plot([0.,750.],[0.,0.],'--')\n",
    "plt.show();"
   ]
  },
  {
   "cell_type": "code",
   "execution_count": null,
   "metadata": {},
   "outputs": [],
   "source": [
    "sigPos = np.exp(0.5*pred_logSigmaPosSqr[:,0])*1000.\n",
    "cut = (sigPos < 30.) # better than 30 cm\n",
    "\n",
    "fig = plt.figure(figsize=[10,6])\n",
    "plt.scatter(towall[np.logical_and(cut,label==0)], np.sqrt(np.sum(np.power(pred_position*1000. - positions,2),1))[np.logical_and(cut,label == 0)], s=0.4, alpha=0.5, label='true e');\n",
    "plt.scatter(towall[np.logical_and(cut,label==1)], np.sqrt(np.sum(np.power(pred_position*1000. - positions,2),1))[np.logical_and(cut,label == 1)], s=0.4, alpha=0.5, label='true μ');\n",
    "plt.scatter(towall[np.logical_and(cut,label==2)], np.sqrt(np.sum(np.power(pred_position*1000. - positions,2),1))[np.logical_and(cut,label == 2)], s=0.4, alpha=0.5, label='true γ');\n",
    "plt.legend(loc='upper right');\n",
    "plt.xlabel('Distance to wall along particle track [cm]');\n",
    "plt.ylabel('Distance between true and pred position [cm]');\n",
    "plt.yscale('log')\n",
    "#plt.ylim(-1.,1.)\n",
    "#plt.plot([0.,750.],[0.,0.],'--')\n",
    "plt.show();"
   ]
  },
  {
   "cell_type": "code",
   "execution_count": null,
   "metadata": {},
   "outputs": [],
   "source": [
    "sigPos = np.exp(0.5*pred_logSigmaPosSqr[:,0])*1000.\n",
    "cut = (sigPos < 30.) # better than 30 cm\n",
    "\n",
    "bins = np.linspace(0., 200., 100)\n",
    "\n",
    "fig = plt.figure(figsize=[10,6])\n",
    "plt.hist(np.sqrt(np.sum(np.power(pred_position*1000. - positions,2),1))[np.logical_and(cut,label==0)], bins=bins, alpha=0.5, label='true e')\n",
    "plt.hist(np.sqrt(np.sum(np.power(pred_position*1000. - positions,2),1))[np.logical_and(cut,label==1)], bins=bins, alpha=0.5, label='true μ')\n",
    "plt.hist(np.sqrt(np.sum(np.power(pred_position*1000. - positions,2),1))[np.logical_and(cut,label==2)], bins=bins, alpha=0.5, label='true γ')\n",
    "plt.legend(loc='upper right');\n",
    "plt.xlabel('Distance between true and pred position [cm]');\n",
    "plt.show();"
   ]
  },
  {
   "cell_type": "code",
   "execution_count": null,
   "metadata": {},
   "outputs": [],
   "source": [
    "sigPos = np.exp(0.5*pred_logSigmaPosSqr[:,0])*1000.\n",
    "cut = (sigPos > 30.) # worse than 30 cm\n",
    "\n",
    "bins = np.linspace(0., 200., 100)\n",
    "\n",
    "fig = plt.figure(figsize=[10,6])\n",
    "plt.hist(np.sqrt(np.sum(np.power(pred_position*1000. - positions,2),1))[np.logical_and(cut,label==0)], bins=bins, alpha=0.5, label='true e')\n",
    "plt.hist(np.sqrt(np.sum(np.power(pred_position*1000. - positions,2),1))[np.logical_and(cut,label==1)], bins=bins, alpha=0.5, label='true μ')\n",
    "plt.hist(np.sqrt(np.sum(np.power(pred_position*1000. - positions,2),1))[np.logical_and(cut,label==2)], bins=bins, alpha=0.5, label='true γ')\n",
    "plt.legend(loc='upper right');\n",
    "plt.xlabel('Distance between true and pred position [cm]');\n",
    "plt.show();"
   ]
  },
  {
   "cell_type": "code",
   "execution_count": null,
   "metadata": {},
   "outputs": [],
   "source": [
    "with torch.no_grad():\n",
    "    Nrows = 5\n",
    "    for r in range(Nrows):\n",
    "        Nplot = 6\n",
    "        fig, axes = plt.subplots(1, Nplot, figsize=(16,3),facecolor='w')\n",
    "\n",
    "        with torch.no_grad():\n",
    "            blob.net.eval()\n",
    "            test_data = next(iter(test_loader))\n",
    "            blob.data,blob.label = test_data[0:2]\n",
    "            blob.position = test_data[3]\n",
    "            direction     = test_data[4]\n",
    "            blob.energy   = test_data[5]\n",
    "            blob.totQ     = test_data[6]\n",
    "            # limit the number of events to run the network on\n",
    "            # blob.data  = blob.data[0:Nplot,:,:,:]\n",
    "            # blob.label = blob.label[0:Nplot]\n",
    "            # blob.position = blob.position[0:Nplot,:]\n",
    "            # blob.energy = blob.energy[0:Nplot,:]\n",
    "            # blob.totQ = blob.totQ[0:Nplot,:]\n",
    "            res = forward(blob,train=False)\n",
    "            \n",
    "            plotted = 0\n",
    "            for ev in range(blob.data.shape[0]):\n",
    "                if plotted >= int(Nplot/2):\n",
    "                    break\n",
    "                sigPos = np.exp(0.5*res['pred_positionres'][ev,0])*1000.\n",
    "                if sigPos < 30.:\n",
    "                    continue # we only want events with predicted resolution worse than 30 cm\n",
    "                for qt in range(2):\n",
    "                    #im = axes[2*ev+qt].imshow(blob.data[ev,:,:,qt])\n",
    "                    imshowRdBu(axes[2*plotted+qt], torch.as_tensor(blob.data[ev,:,:,qt]))\n",
    "                    labelNames = ['e','μ','γ']\n",
    "                    if qt == 0:\n",
    "                        axes[2*plotted+qt].set_title('true: %s' % (labelNames[blob.label[ev]]))\n",
    "                plotted += 1\n",
    "                #cbar = fig.colorbar(im, ax=axes[0])\n",
    "            plt.show()\n",
    "            \n",
    "            del test_data\n",
    "            del blob.data\n",
    "            del blob.label"
   ]
  },
  {
   "cell_type": "code",
   "execution_count": null,
   "metadata": {},
   "outputs": [],
   "source": [
    "sigPos = np.exp(0.5*pred_logSigmaPosSqr[:,0])*1000.\n",
    "cut = (sigPos > 30.) # worse than 30 cm\n",
    "\n",
    "bins = np.linspace(0., 200., 100)\n",
    "\n",
    "fig = plt.figure(figsize=[10,6])\n",
    "plt.hist(pred_Eabovethres[np.logical_and(cut,label==0)], bins=bins, alpha=0.5, label='true e')\n",
    "plt.hist(pred_Eabovethres[np.logical_and(cut,label==1)], bins=bins, alpha=0.5, label='true μ')\n",
    "plt.hist(pred_Eabovethres[np.logical_and(cut,label==2)], bins=bins, alpha=0.5, label='true γ')\n",
    "plt.legend(loc='upper right');\n",
    "plt.xlabel('Predicted energy above threshold [MeV]');\n",
    "plt.show();"
   ]
  },
  {
   "cell_type": "code",
   "execution_count": null,
   "metadata": {},
   "outputs": [],
   "source": [
    "sigPos = np.exp(0.5*pred_logSigmaPosSqr[:,0])*1000.\n",
    "cut = (sigPos > 30.) # worse than 30 cm\n",
    "\n",
    "bins = np.linspace(0., 200., 100)\n",
    "\n",
    "fig = plt.figure(figsize=[10,6])\n",
    "plt.hist((energies - Ethres[label])[np.logical_and(cut,label==0)], bins=bins, alpha=0.5, label='true e')\n",
    "plt.hist((energies - Ethres[label])[np.logical_and(cut,label==1)], bins=bins, alpha=0.5, label='true μ')\n",
    "plt.hist((energies - Ethres[label])[np.logical_and(cut,label==2)], bins=bins, alpha=0.5, label='true γ')\n",
    "plt.legend(loc='upper right');\n",
    "plt.xlabel('True energy above threshold [MeV]');\n",
    "plt.show();"
   ]
  },
  {
   "cell_type": "code",
   "execution_count": null,
   "metadata": {},
   "outputs": [],
   "source": [
    "fig = plt.figure(figsize=[10,6])\n",
    "plt.scatter(np.abs(pred_Eabovethres - np.expand_dims(energies - Ethres[label], -1))[label==0], (np.exp(0.5*pred_logSigmaESqr))[label == 0], s=0.4, alpha=0.5, label='true e');\n",
    "plt.scatter(np.abs(pred_Eabovethres - np.expand_dims(energies - Ethres[label], -1))[label==1], (np.exp(0.5*pred_logSigmaESqr))[label == 1], s=0.4, alpha=0.5, label='true mu');\n",
    "plt.legend(loc='upper right');\n",
    "plt.xlabel('|Pred - true| energy above thres [MeV]');\n",
    "plt.ylabel('Pred energy resolution [a.u.]')\n",
    "plt.xscale('log')\n",
    "plt.yscale('log')\n",
    "plt.show();"
   ]
  },
  {
   "cell_type": "code",
   "execution_count": null,
   "metadata": {},
   "outputs": [],
   "source": [
    "sigPos = np.exp(0.5*pred_logSigmaPosSqr[:,0])*1000.\n",
    "cut = (sigPos < 30.) # better than 30 cm\n",
    "\n",
    "bins = np.linspace(-1., 1., 100)\n",
    "\n",
    "fig = plt.figure(figsize=[10,6])\n",
    "plt.hist(((pred_Eabovethres - np.expand_dims(energies - Ethres[label], -1))/np.expand_dims(energies - Ethres[label], -1))[np.logical_and(cut,label==0)], bins=bins, alpha=0.5, label='true e')\n",
    "plt.hist(((pred_Eabovethres - np.expand_dims(energies - Ethres[label], -1))/np.expand_dims(energies - Ethres[label], -1))[np.logical_and(cut,label==1)], bins=bins, alpha=0.5, label='true μ')\n",
    "plt.hist(((pred_Eabovethres - np.expand_dims(energies - Ethres[label], -1))/np.expand_dims(energies - Ethres[label], -1))[np.logical_and(cut,label==2)], bins=bins, alpha=0.5, label='true γ')\n",
    "plt.legend(loc='upper right');\n",
    "plt.xlabel('Relative energy uncertainty (pred-true)/true');\n",
    "plt.show();"
   ]
  },
  {
   "cell_type": "code",
   "execution_count": null,
   "metadata": {},
   "outputs": [],
   "source": [
    "sigPos = np.exp(0.5*pred_logSigmaPosSqr[:,0])*1000.\n",
    "sigE = np.exp(0.5*pred_logSigmaESqr[:,0])\n",
    "cut = np.logical_and(sigPos < 30., sigE < 0.2) # better than 30 cm\n",
    "\n",
    "bins = np.linspace(-0.5, 0.5, 100)\n",
    "\n",
    "fig = plt.figure(figsize=[10,6])\n",
    "plt.hist(((pred_Eabovethres - np.expand_dims(energies - Ethres[label], -1))/np.expand_dims(energies - Ethres[label], -1))[np.logical_and(cut,label==0)], bins=bins, alpha=0.5, label='true e')\n",
    "plt.hist(((pred_Eabovethres - np.expand_dims(energies - Ethres[label], -1))/np.expand_dims(energies - Ethres[label], -1))[np.logical_and(cut,label==1)], bins=bins, alpha=0.5, label='true μ')\n",
    "plt.hist(((pred_Eabovethres - np.expand_dims(energies - Ethres[label], -1))/np.expand_dims(energies - Ethres[label], -1))[np.logical_and(cut,label==2)], bins=bins, alpha=0.5, label='true γ')\n",
    "plt.legend(loc='upper right');\n",
    "plt.xlabel('Relative energy uncertainty (pred-true)/true');\n",
    "plt.show();"
   ]
  },
  {
   "cell_type": "code",
   "execution_count": null,
   "metadata": {},
   "outputs": [],
   "source": [
    "sigPos = np.exp(0.5*pred_logSigmaPosSqr[:,0])*1000.\n",
    "sigE = np.exp(0.5*pred_logSigmaESqr[:,0])\n",
    "cut = np.logical_and(sigPos < 30., sigE > 0.2) # better than 30 cm, bad energy resolution\n",
    "\n",
    "bins = np.linspace(-0.5, 0.5, 100)\n",
    "\n",
    "fig = plt.figure(figsize=[10,6])\n",
    "plt.hist(((pred_Eabovethres - np.expand_dims(energies - Ethres[label], -1))/np.expand_dims(energies - Ethres[label], -1))[np.logical_and(cut,label==0)], bins=bins, alpha=0.5, label='true e')\n",
    "plt.hist(((pred_Eabovethres - np.expand_dims(energies - Ethres[label], -1))/np.expand_dims(energies - Ethres[label], -1))[np.logical_and(cut,label==1)], bins=bins, alpha=0.5, label='true μ')\n",
    "plt.hist(((pred_Eabovethres - np.expand_dims(energies - Ethres[label], -1))/np.expand_dims(energies - Ethres[label], -1))[np.logical_and(cut,label==2)], bins=bins, alpha=0.5, label='true γ')\n",
    "plt.legend(loc='upper right');\n",
    "plt.xlabel('Relative energy uncertainty (pred-true)/true');\n",
    "plt.show();"
   ]
  },
  {
   "cell_type": "code",
   "execution_count": null,
   "metadata": {},
   "outputs": [],
   "source": [
    "sigPos = np.exp(0.5*pred_logSigmaPosSqr[:,0])*1000.\n",
    "sigE = np.exp(0.5*pred_logSigmaESqr[:,0])\n",
    "cut = np.logical_and(sigPos < 30., sigE < 0.2) # better than 30 cm\n",
    "\n",
    "def mad(x):\n",
    "    center = np.median(x)\n",
    "    constant = 1.4826\n",
    "    return constant * np.median(np.abs(x - center))\n",
    "\n",
    "print('true e, mad(dE/E):', mad(((pred_Eabovethres - np.expand_dims(energies - Ethres[label], -1))/np.expand_dims(energies - Ethres[label], -1))[np.logical_and(cut,label==0)]));\n",
    "print('true μ, mad(dE/E):', mad(((pred_Eabovethres - np.expand_dims(energies - Ethres[label], -1))/np.expand_dims(energies - Ethres[label], -1))[np.logical_and(cut,label==1)]));\n",
    "print('true γ, mad(dE/E):', mad(((pred_Eabovethres - np.expand_dims(energies - Ethres[label], -1))/np.expand_dims(energies - Ethres[label], -1))[np.logical_and(cut,label==2)]));"
   ]
  },
  {
   "cell_type": "code",
   "execution_count": null,
   "metadata": {},
   "outputs": [],
   "source": [
    "print('using total charge, mad(dE/E):', mad(v_relE[v_relE>-0.10]));\n",
    "print('using total charge, mad(dE/E):', mad(v_relE[v_relE>-0.12]));\n",
    "print('using total charge, mad(dE/E):', mad(v_relE[v_relE>-0.15]));\n",
    "print('using total charge, mad(dE/E):', mad(v_relE[v_relE>-0.20]));"
   ]
  },
  {
   "cell_type": "code",
   "execution_count": null,
   "metadata": {},
   "outputs": [],
   "source": [
    "sigPos = np.exp(0.5*pred_logSigmaPosSqr[:,0])*1000.\n",
    "sigE = np.exp(0.5*pred_logSigmaESqr[:,0])\n",
    "cut = sigPos < 30. # better than 30 cm\n",
    "\n",
    "def mad(x):\n",
    "    center = np.median(x)\n",
    "    constant = 1.4826\n",
    "    return constant * np.median(np.abs(x - center))\n",
    "\n",
    "q = 0.683\n",
    "print('true e, pos resolution [cm]:', np.quantile(np.sqrt(np.sum(np.power(pred_position*1000. - positions,2),1))[np.logical_and(cut,label==0)], q));\n",
    "print('true μ, pos resolution [cm]:', np.quantile(np.sqrt(np.sum(np.power(pred_position*1000. - positions,2),1))[np.logical_and(cut,label==1)], q));\n",
    "print('true γ, pos resolution [cm]:', np.quantile(np.sqrt(np.sum(np.power(pred_position*1000. - positions,2),1))[np.logical_and(cut,label==2)], q));"
   ]
  },
  {
   "cell_type": "code",
   "execution_count": null,
   "metadata": {},
   "outputs": [],
   "source": [
    "def quantileResolutionCurve(distance, predRes, q=0.683):\n",
    "    Ncuts = 400\n",
    "    efficiencies,resolutions = [],[]\n",
    "    predRes_sorted = np.sort(predRes)\n",
    "    predRes_sorted_by_distance = predRes[np.argsort(distance)]\n",
    "    distance_sorted = np.sort(distance)\n",
    "    for ic in np.arange(Ncuts):\n",
    "        #p = np.quantile(predRes, (ic+1)/Ncuts)\n",
    "        #efficiency = np.sum(predRes < p) / predRes.shape[0]\n",
    "        #res = np.quantile(distance[predRes < p], q)\n",
    "        efficiency = (ic+1)/Ncuts\n",
    "        p = predRes_sorted[int(efficiency * (predRes.shape[0]-1))]\n",
    "        distances_passing_cut = distance_sorted[predRes_sorted_by_distance < p]\n",
    "        res = distances_passing_cut[int(q * (distances_passing_cut.shape[0]-1))]\n",
    "        efficiencies.append(efficiency)\n",
    "        resolutions.append(res)\n",
    "    return np.array(efficiencies), np.array(resolutions)"
   ]
  },
  {
   "cell_type": "code",
   "execution_count": null,
   "metadata": {},
   "outputs": [],
   "source": [
    "fig = plt.figure(figsize=[10,6])\n",
    "plt.plot(*quantileResolutionCurve(np.sqrt(np.sum(np.power(pred_position*1000. - positions,2),1)), (np.exp(0.5*pred_logSigmaPosSqr[:,0])*1000.), q=0.997), label='99.7%')\n",
    "plt.plot(*quantileResolutionCurve(np.sqrt(np.sum(np.power(pred_position*1000. - positions,2),1)), (np.exp(0.5*pred_logSigmaPosSqr[:,0])*1000.), q=0.955), label='95.5%')\n",
    "plt.plot(*quantileResolutionCurve(np.sqrt(np.sum(np.power(pred_position*1000. - positions,2),1)), (np.exp(0.5*pred_logSigmaPosSqr[:,0])*1000.), q=0.683), label='68.3%')\n",
    "plt.legend(loc='upper left')\n",
    "plt.xlim([0.,1.])\n",
    "plt.ylim([0.,100.])\n",
    "plt.xlabel('Efficiency')\n",
    "plt.ylabel('Position resolution');"
   ]
  },
  {
   "cell_type": "code",
   "execution_count": null,
   "metadata": {},
   "outputs": [],
   "source": [
    "# for muons only\n",
    "\n",
    "fig = plt.figure(figsize=[10,6])\n",
    "plt.plot(*quantileResolutionCurve(np.sqrt(np.sum(np.power(pred_position*1000. - positions,2),1))[label == 1], (np.exp(0.5*pred_logSigmaPosSqr[:,0])*1000.)[label == 1], q=0.997), label='99.7%')\n",
    "plt.plot(*quantileResolutionCurve(np.sqrt(np.sum(np.power(pred_position*1000. - positions,2),1))[label == 1], (np.exp(0.5*pred_logSigmaPosSqr[:,0])*1000.)[label == 1], q=0.955), label='95.5%')\n",
    "plt.plot(*quantileResolutionCurve(np.sqrt(np.sum(np.power(pred_position*1000. - positions,2),1))[label == 1], (np.exp(0.5*pred_logSigmaPosSqr[:,0])*1000.)[label == 1], q=0.683), label='68.3%')\n",
    "plt.legend(loc='upper left')\n",
    "plt.xlim([0.,1.])\n",
    "plt.ylim([0.,80.])\n",
    "plt.xlabel('Efficiency')\n",
    "plt.ylabel('Position resolution')"
   ]
  },
  {
   "cell_type": "code",
   "execution_count": null,
   "metadata": {},
   "outputs": [],
   "source": [
    "# for electrons only\n",
    "\n",
    "fig = plt.figure(figsize=[10,6])\n",
    "plt.plot(*quantileResolutionCurve(np.sqrt(np.sum(np.power(pred_position*1000. - positions,2),1))[label == 0], (np.exp(0.5*pred_logSigmaPosSqr[:,0])*1000.)[label == 0], q=0.997), label='99.7%')\n",
    "plt.plot(*quantileResolutionCurve(np.sqrt(np.sum(np.power(pred_position*1000. - positions,2),1))[label == 0], (np.exp(0.5*pred_logSigmaPosSqr[:,0])*1000.)[label == 0], q=0.955), label='95.5%')\n",
    "plt.plot(*quantileResolutionCurve(np.sqrt(np.sum(np.power(pred_position*1000. - positions,2),1))[label == 0], (np.exp(0.5*pred_logSigmaPosSqr[:,0])*1000.)[label == 0], q=0.683), label='68.3%')\n",
    "plt.legend(loc='upper left')\n",
    "plt.xlim([0.,1.])\n",
    "plt.ylim([0.,80.])\n",
    "plt.xlabel('Efficiency')\n",
    "plt.ylabel('Position resolution');"
   ]
  },
  {
   "cell_type": "code",
   "execution_count": null,
   "metadata": {},
   "outputs": [],
   "source": [
    "# for gammas only\n",
    "\n",
    "fig = plt.figure(figsize=[10,6])\n",
    "plt.plot(*quantileResolutionCurve(np.sqrt(np.sum(np.power(pred_position*1000. - positions,2),1))[label == 2], (np.exp(0.5*pred_logSigmaPosSqr[:,0])*1000.)[label == 2], q=0.997), label='99.7%')\n",
    "plt.plot(*quantileResolutionCurve(np.sqrt(np.sum(np.power(pred_position*1000. - positions,2),1))[label == 2], (np.exp(0.5*pred_logSigmaPosSqr[:,0])*1000.)[label == 2], q=0.955), label='95.5%')\n",
    "plt.plot(*quantileResolutionCurve(np.sqrt(np.sum(np.power(pred_position*1000. - positions,2),1))[label == 2], (np.exp(0.5*pred_logSigmaPosSqr[:,0])*1000.)[label == 2], q=0.683), label='68.3%')\n",
    "plt.legend(loc='upper left')\n",
    "plt.xlim([0.,1.])\n",
    "plt.ylim([0.,80.])\n",
    "plt.xlabel('Efficiency')\n",
    "plt.ylabel('Position resolution')"
   ]
  },
  {
   "cell_type": "markdown",
   "metadata": {},
   "source": [
    "for whatever reason the resolution for gammas is better, but for mu and e it's worse"
   ]
  },
  {
   "cell_type": "code",
   "execution_count": null,
   "metadata": {},
   "outputs": [],
   "source": [
    "fig = plt.figure(figsize=[10,6])\n",
    "plt.plot(*quantileResolutionCurve((np.abs(pred_Eabovethres - np.expand_dims(energies - Ethres[label], -1))/np.expand_dims(energies - Ethres[label], -1))[:,0], (np.exp(0.5*pred_logSigmaESqr[:,0])), q=0.997), label='99.7%')\n",
    "plt.plot(*quantileResolutionCurve((np.abs(pred_Eabovethres - np.expand_dims(energies - Ethres[label], -1))/np.expand_dims(energies - Ethres[label], -1))[:,0], (np.exp(0.5*pred_logSigmaESqr[:,0])), q=0.955), label='95.5%')\n",
    "plt.plot(*quantileResolutionCurve((np.abs(pred_Eabovethres - np.expand_dims(energies - Ethres[label], -1))/np.expand_dims(energies - Ethres[label], -1))[:,0], (np.exp(0.5*pred_logSigmaESqr[:,0])), q=0.683), label='68.3%')\n",
    "plt.legend(loc='upper left')\n",
    "plt.xlim([0.,1.])\n",
    "plt.ylim([0.,5.])\n",
    "plt.xlabel('Efficiency');\n",
    "plt.ylabel('Relative energy resolution');"
   ]
  },
  {
   "cell_type": "code",
   "execution_count": null,
   "metadata": {},
   "outputs": [],
   "source": [
    "fig = plt.figure(figsize=[10,6])\n",
    "plt.plot(*quantileResolutionCurve((np.abs(pred_Eabovethres - np.expand_dims(energies - Ethres[label], -1))/np.expand_dims(energies - Ethres[label], -1))[:,0], (np.exp(0.5*pred_logSigmaESqr[:,0])), q=0.997), label='99.7%')\n",
    "plt.plot(*quantileResolutionCurve((np.abs(pred_Eabovethres - np.expand_dims(energies - Ethres[label], -1))/np.expand_dims(energies - Ethres[label], -1))[:,0], (np.exp(0.5*pred_logSigmaESqr[:,0])), q=0.955), label='95.5%')\n",
    "plt.plot(*quantileResolutionCurve((np.abs(pred_Eabovethres - np.expand_dims(energies - Ethres[label], -1))/np.expand_dims(energies - Ethres[label], -1))[:,0], (np.exp(0.5*pred_logSigmaESqr[:,0])), q=0.683), label='68.3%')\n",
    "plt.legend(loc='upper left')\n",
    "plt.xlim([0.,1.])\n",
    "plt.ylim([0.,0.5])\n",
    "plt.xlabel('Efficiency');\n",
    "plt.ylabel('Relative energy resolution');"
   ]
  },
  {
   "cell_type": "code",
   "execution_count": null,
   "metadata": {},
   "outputs": [],
   "source": [
    "# for electrons only\n",
    "\n",
    "fig = plt.figure(figsize=[10,6])\n",
    "plt.plot(*quantileResolutionCurve((np.abs(pred_Eabovethres - np.expand_dims(energies - Ethres[label], -1))/np.expand_dims(energies - Ethres[label], -1))[label==0,0], (np.exp(0.5*pred_logSigmaESqr[:,0]))[label==0], q=0.997), label='99.7%')\n",
    "plt.plot(*quantileResolutionCurve((np.abs(pred_Eabovethres - np.expand_dims(energies - Ethres[label], -1))/np.expand_dims(energies - Ethres[label], -1))[label==0,0], (np.exp(0.5*pred_logSigmaESqr[:,0]))[label==0], q=0.955), label='95.5%')\n",
    "plt.plot(*quantileResolutionCurve((np.abs(pred_Eabovethres - np.expand_dims(energies - Ethres[label], -1))/np.expand_dims(energies - Ethres[label], -1))[label==0,0], (np.exp(0.5*pred_logSigmaESqr[:,0]))[label==0], q=0.683), label='68.3%')\n",
    "plt.legend(loc='upper left')\n",
    "plt.xlim([0.,1.])\n",
    "plt.ylim([0.,0.5])\n",
    "plt.xlabel('Efficiency');\n",
    "plt.ylabel('Relative energy resolution');"
   ]
  },
  {
   "cell_type": "code",
   "execution_count": null,
   "metadata": {},
   "outputs": [],
   "source": [
    "# for muons only\n",
    "\n",
    "fig = plt.figure(figsize=[10,6])\n",
    "plt.plot(*quantileResolutionCurve((np.abs(pred_Eabovethres - np.expand_dims(energies - Ethres[label], -1))/np.expand_dims(energies - Ethres[label], -1))[label==1,0], (np.exp(0.5*pred_logSigmaESqr[:,0]))[label==1], q=0.997), label='99.7%')\n",
    "plt.plot(*quantileResolutionCurve((np.abs(pred_Eabovethres - np.expand_dims(energies - Ethres[label], -1))/np.expand_dims(energies - Ethres[label], -1))[label==1,0], (np.exp(0.5*pred_logSigmaESqr[:,0]))[label==1], q=0.955), label='95.5%')\n",
    "plt.plot(*quantileResolutionCurve((np.abs(pred_Eabovethres - np.expand_dims(energies - Ethres[label], -1))/np.expand_dims(energies - Ethres[label], -1))[label==1,0], (np.exp(0.5*pred_logSigmaESqr[:,0]))[label==1], q=0.683), label='68.3%')\n",
    "plt.legend(loc='upper left')\n",
    "plt.xlim([0.,1.])\n",
    "plt.ylim([0.,0.5])\n",
    "plt.xlabel('Efficiency');\n",
    "plt.ylabel('Relative energy resolution');"
   ]
  },
  {
   "cell_type": "code",
   "execution_count": null,
   "metadata": {},
   "outputs": [],
   "source": [
    "# for gammas only\n",
    "\n",
    "fig = plt.figure(figsize=[10,6])\n",
    "plt.plot(*quantileResolutionCurve((np.abs(pred_Eabovethres - np.expand_dims(energies - Ethres[label], -1))/np.expand_dims(energies - Ethres[label], -1))[label==2,0], (np.exp(0.5*pred_logSigmaESqr[:,0]))[label==2], q=0.997), label='99.7%')\n",
    "plt.plot(*quantileResolutionCurve((np.abs(pred_Eabovethres - np.expand_dims(energies - Ethres[label], -1))/np.expand_dims(energies - Ethres[label], -1))[label==2,0], (np.exp(0.5*pred_logSigmaESqr[:,0]))[label==2], q=0.955), label='95.5%')\n",
    "plt.plot(*quantileResolutionCurve((np.abs(pred_Eabovethres - np.expand_dims(energies - Ethres[label], -1))/np.expand_dims(energies - Ethres[label], -1))[label==2,0], (np.exp(0.5*pred_logSigmaESqr[:,0]))[label==2], q=0.683), label='68.3%')\n",
    "plt.legend(loc='upper left')\n",
    "plt.xlim([0.,1.])\n",
    "plt.ylim([0.,0.5])\n",
    "plt.xlabel('Efficiency');\n",
    "plt.ylabel('Relative energy resolution');"
   ]
  },
  {
   "cell_type": "code",
   "execution_count": null,
   "metadata": {},
   "outputs": [],
   "source": []
  }
 ],
 "metadata": {
  "kernelspec": {
   "display_name": "Python 3",
   "language": "python",
   "name": "python3"
  },
  "language_info": {
   "codemirror_mode": {
    "name": "ipython",
    "version": 3
   },
   "file_extension": ".py",
   "mimetype": "text/x-python",
   "name": "python",
   "nbconvert_exporter": "python",
   "pygments_lexer": "ipython3",
   "version": "3.7.6"
  }
 },
 "nbformat": 4,
 "nbformat_minor": 2
}
