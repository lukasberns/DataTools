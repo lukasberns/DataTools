{
 "cells": [
  {
   "cell_type": "code",
   "execution_count": 1,
   "metadata": {},
   "outputs": [],
   "source": [
    "from __future__ import print_function\n",
    "import numpy as np\n",
    "import torch \n",
    "import h5py\n",
    "import matplotlib.pyplot as plt\n",
    "%matplotlib inline\n",
    "\n",
    "def geometricPad(grid, pad=1):\n",
    "  M = grid.shape[2]; # 0:batchsize, 1:channels, 2:width, 3:height\n",
    "  M_new = pad+M+pad;\n",
    "  new_shape = (grid.shape[0], grid.shape[1], M_new, M_new)\n",
    "  grid_new = grid.new_zeros(new_shape);\n",
    "  grid_new[:,:,pad:M+pad,pad:M+pad] = grid;\n",
    "  grid_new[:,:,0:pad,pad:(M+pad)] = grid[:,:,:,0:pad].flip(-1).transpose(-1,-2);\n",
    "  grid_new[:,:,pad:(M+pad),0:pad] = grid[:,:,0:pad,:].flip(-2).transpose(-1,-2);\n",
    "  grid_new[:,:,(M+pad):(M+pad+pad),(pad):(M+pad)] = grid[:,:,:,(M-pad):].flip(-1).transpose(-1,-2);\n",
    "  grid_new[:,:,pad:(M+pad),(M+pad):(M+pad+pad)] = grid[:,:,(M-pad):,:].flip(-2).transpose(-1,-2);\n",
    "  return(grid_new);\n",
    "\n"
   ]
  },
  {
   "cell_type": "code",
   "execution_count": 2,
   "metadata": {},
   "outputs": [],
   "source": [
    "class Taylorizer:\n",
    "    \"\"\"Perform taylor expansion of tensor using pre-computed expansion weights\"\"\"\n",
    "    def __init__(self, mGridPmt, mGridCoord, pad=1, Lambda=0.5):\n",
    "        \"\"\"\n",
    "        mGridPmt:   numpy array with (Height,Width) only significance is\n",
    "                    1. value should be unique for each grid site\n",
    "                    2. if no PMT exists, set to -1\n",
    "        mGridCoord: numpy array with (Ncoords,Height,Width)\n",
    "        pad:        the taylor expansion will be performed on a grid with sides 2*pad+1\n",
    "        Lambda:     the regularization strength. should be something of order the differences in mGridCoord\n",
    "        \"\"\"\n",
    "        \n",
    "        self.mGridPmt   = mGridPmt\n",
    "        self.mGridCoord = mGridCoord\n",
    "        self.pad = pad\n",
    "        self.Lambda = Lambda\n",
    "        self.AA = self.computeTaylorWeights()\n",
    "    \n",
    "    def cuda(self):\n",
    "        self.AA = self.AA.cuda()\n",
    "    \n",
    "    def cpu(self):\n",
    "        self.AA = self.AA.cpu()\n",
    "        \n",
    "    def __call__(self, inputs):\n",
    "        return self.taylorize(inputs)\n",
    "\n",
    "    def computeTaylorWeights(self):\n",
    "        pad = self.pad\n",
    "        mGridPmt = self.mGridPmt\n",
    "        mGridCoord = self.mGridCoord\n",
    "\n",
    "        Ncoords = mGridCoord.shape[0]\n",
    "        Ntaylor = 1 + Ncoords # + (Ncoords*(Ncoords+1))//2\n",
    "        self.Ntaylor = Ntaylor\n",
    "\n",
    "        M = mGridPmt.shape[0]\n",
    "        mGridI = np.reshape(np.repeat(np.arange(M),M), (M,M))\n",
    "        mGridJ = mGridI.transpose()\n",
    "\n",
    "        Nshift = 2*pad+1\n",
    "        dij = np.reshape(np.repeat(np.arange(-pad,pad+1),Nshift), (Nshift,Nshift));\n",
    "        dis = dij.flatten()\n",
    "        djs = dij.transpose().flatten();\n",
    "        Nsites = dis.size;\n",
    "        \n",
    "        self.dis = dis\n",
    "        self.djs = djs\n",
    "        self.Nsites = Nsites\n",
    "\n",
    "        mGridPmtpad = geometricPad(torch.tensor(mGridPmt).unsqueeze(0).unsqueeze(0), pad).squeeze(0).squeeze(0).numpy();\n",
    "        mGridIpad = geometricPad(torch.tensor(mGridI).unsqueeze(0).unsqueeze(0), pad).squeeze(0).squeeze(0).numpy();\n",
    "        mGridJpad = geometricPad(torch.tensor(mGridJ).unsqueeze(0).unsqueeze(0), pad).squeeze(0).squeeze(0).numpy();\n",
    "\n",
    "        mGridCoordPad = geometricPad(torch.tensor(mGridCoord).unsqueeze(0), pad).squeeze(0).numpy();\n",
    "\n",
    "\n",
    "        mGridAA2 = np.zeros((M,M,Nshift,Nshift,Ntaylor))\n",
    "\n",
    "        pmtI1 = mGridPmt[:,:]; # index in tank.pmt\n",
    "\n",
    "        x      = np.zeros((Ncoords,M,M,Nsites));     # coordinates for each direction\n",
    "        skip   = np.zeros((M,M,Nsites), dtype=bool); # for each direction whether we should skip or not\n",
    "        processedPmtI2s = np.zeros((M,M,Nsites), dtype=int) - 1;\n",
    "\n",
    "        for diji in range(Nsites):\n",
    "            di = dis[diji]\n",
    "            dj = djs[diji]\n",
    "            # i2 = mGridIpad[pad+di:pad+M+di,pad+dj:pad+M+dj];\n",
    "            # j2 = mGridJpad[pad+di:pad+M+di,pad+dj:pad+M+dj];\n",
    "            pmtI2 = mGridPmtpad[(pad+di):(pad+M+di),(pad+dj):(pad+M+dj)];\n",
    "            processedPmtI2s[:,:,diji] = pmtI2;\n",
    "\n",
    "            skip[:,:,diji] = np.logical_or(np.equal(pmtI1,-1), np.equal(pmtI2,-1));\n",
    "            for prev_diji in range(diji):\n",
    "                skip[:,:,diji] = np.logical_or(skip[:,:,diji], np.equal(processedPmtI2s[:,:,prev_diji],pmtI2));\n",
    "\n",
    "            x[:,:,:,diji] = mGridCoordPad[:,(pad+di):(pad+M+di),(pad+dj):(pad+M+dj)] - mGridCoord; # \n",
    "\n",
    "        # x: (Ncoords,M,M,Nsites)\n",
    "        # print('x.shape:', x.shape)\n",
    "        # X: (Ntaylor,M,M,Nsites)\n",
    "        Xlist = [np.expand_dims(np.ones(x.shape[1:]),0),x]\n",
    "        #for i in range(Ncoords):\n",
    "        #    Xlist.append(np.stack([x[i,:,:,:] for j in range(Ncoords-i)]) * x[i:,:,:,:])\n",
    "        X = np.concatenate(Xlist)\n",
    "        # print('X.shape:', X.shape)\n",
    "        X = np.where(np.expand_dims(skip, 0), 0., X);\n",
    "\n",
    "        # regularization strength\n",
    "        Lambda = self.Lambda; # this should be somewhat smaller than typical values of x\n",
    "\n",
    "        MA = np.zeros((M,M,Nsites,Nsites));\n",
    "        for k in range(Nsites):\n",
    "            for j in range(Nsites):\n",
    "                MA[:,:,k,j] = np.add(np.sum(X[:,:,:,k]*X[:,:,:,j], axis=0), Lambda**2 * (k==j));\n",
    "            # clear skip entries\n",
    "            MA[:,:,k,:] = np.where(np.expand_dims(skip[:,:,k],-1), 0., MA[:,:,k,:]);\n",
    "            MA[:,:,:,j] = np.where(np.expand_dims(skip[:,:,j],-1), 0., MA[:,:,:,j]);\n",
    "            # set diagonal:\n",
    "            MA[:,:,k,k] = np.where(skip[:,:,k], 1., MA[:,:,k,k]);\n",
    "\n",
    "        #print('MA.shape:',MA.shape)\n",
    "        #print(MA[0,1,:,:])\n",
    "        #print(np.linalg.inv(MA[0,1,:,:]))\n",
    "        print(\"starting inversion... (may take a few seconds)\")\n",
    "        AA = np.einsum('hwsi,thwi->thws', np.linalg.inv(MA), X)\n",
    "        print(\"done\")\n",
    "        # print('AA.shape:', AA.shape)\n",
    "        return torch.tensor(AA, dtype=torch.float)\n",
    "    \n",
    "    def taylorize(self, inputs):\n",
    "        Batches = inputs.shape[0]\n",
    "        ChIn    = inputs.shape[1]\n",
    "        Height  = inputs.shape[2]\n",
    "        Width   = inputs.shape[3]\n",
    "        tGridAA = self.AA\n",
    "\n",
    "        inputsPad = geometricPad(inputs, self.pad); # (B,C,W,H)\n",
    "        tayloredInput = inputs.new_zeros((Batches, self.Ntaylor, ChIn, Height, Width))\n",
    "        \n",
    "        #print('tGridAA.shape:', tGridAA.shape)\n",
    "        #print('tayloredInput.shape:', tayloredInput.shape)\n",
    "        #print('inputsPad.shape:', inputsPad.shape)\n",
    "        for k in range(self.Nsites):\n",
    "            # shift grid according to position (without copying the data)\n",
    "            inputsPadD1 = torch.narrow(inputsPad,   2, self.pad+int(self.dis[k]), Height)\n",
    "            inputsPadD2 = torch.narrow(inputsPadD1, 3, self.pad+int(self.djs[k]), Width )\n",
    "            # fill\n",
    "            out = torch.add(tayloredInput, torch.einsum('dij,bcij->bdcij', tGridAA[:,:,:,k], inputsPadD2))\n",
    "            tayloredInput = out\n",
    "\n",
    "        return tayloredInput.view(Batches, self.Ntaylor*ChIn, Height, Width)\n",
    "    \n",
    "    def pool2d(self, kernel_size, pad=-1, Lambda=-1.):\n",
    "        \"\"\"\n",
    "        Return new Taylorizer that can be used for the result of a 2d pool operation with given kernel size.\n",
    "        kernel_size: e.g. for 2x2 max-pooling use (2,2)\n",
    "        pad:    if unset (-1)  use same as current\n",
    "        Lambda: if unset (-1.) use same as current\n",
    "        \"\"\"\n",
    "        mGridPmt1   = torch.nn.functional.max_pool2d(torch.tensor(self.mGridPmt  ).to(torch.float).unsqueeze(0), kernel_size).squeeze(0).to(torch.long).numpy()\n",
    "        mGridFilled1 = torch.nn.functional.avg_pool2d(torch.tensor((self.mGridPmt >= 0).astype(float)).unsqueeze(0), kernel_size).squeeze(0).numpy()\n",
    "        \n",
    "        mGridCoord1 = torch.nn.functional.avg_pool2d(torch.tensor(self.mGridCoord), kernel_size).numpy()\n",
    "        mGridCoord1 /= mGridFilled1 # correct average for missing positions\n",
    "        \n",
    "        if (pad < 0):\n",
    "            pad = self.pad\n",
    "        if (Lambda < 0.):\n",
    "            Lambda = self.Lambda\n",
    "        \n",
    "        return Taylorizer(mGridPmt1, mGridCoord1, pad=pad, Lambda=Lambda)"
   ]
  },
  {
   "cell_type": "code",
   "execution_count": 3,
   "metadata": {},
   "outputs": [],
   "source": [
    "f = h5py.File('/home/lukasb/projects/rpp-tanaka-ab/lukasb/watchmal/20190808-uniisoflat/1Rmu-blacksheet/wc-0-bch1.h5','r')\n",
    "event_data = f['event_data'][:]"
   ]
  },
  {
   "cell_type": "code",
   "execution_count": 4,
   "metadata": {},
   "outputs": [
    {
     "name": "stdout",
     "output_type": "stream",
     "text": [
      "starting inversion... (may take a few seconds)\n",
      "done\n"
     ]
    }
   ],
   "source": [
    "mGridPmt = f['mGridPmt'][()]\n",
    "mGridCoord = np.stack([\n",
    "    f['mGridX'][()]/20.,\n",
    "    f['mGridY'][()]/20.,\n",
    "    f['mGridZ'][()]/20.,\n",
    "    f['mGridDirX'][()],\n",
    "    f['mGridDirY'][()],\n",
    "    f['mGridDirZ'][()]\n",
    "])\n",
    "\n",
    "taylor0 = Taylorizer(mGridPmt, mGridCoord, pad=1, Lambda=1.)"
   ]
  },
  {
   "cell_type": "code",
   "execution_count": 5,
   "metadata": {},
   "outputs": [],
   "source": [
    "def imshowRdBu(ax,img):\n",
    "    minmax = max(torch.max(img),-torch.min(img))\n",
    "    return ax.imshow(-img,cmap='RdBu',vmin=-minmax,vmax=minmax)"
   ]
  },
  {
   "cell_type": "markdown",
   "metadata": {},
   "source": [
    "## Train network"
   ]
  },
  {
   "cell_type": "code",
   "execution_count": 6,
   "metadata": {},
   "outputs": [],
   "source": [
    "from torch.utils.data import Dataset, DataLoader\n",
    "\n",
    "class H5Dataset(Dataset):\n",
    "\n",
    "    def __init__(self, files, transform=None, flavour=None, limit_num_files=0, start_fraction=0., use_fraction=1.0):\n",
    "        \"\"\"                                                                                                                                             \n",
    "        Args: data_dirs ... a list of data directories to find files (up to 10 files read from each dir)                                                \n",
    "              transform ... a function applied to pre-process data                                                                                      \n",
    "              flavour ..... a string that is required to be present in the filename                                                                     \n",
    "              limit_num_files ... an integer limiting number of files to be taken per data directory                                                    \n",
    "              start_fraction ... a floating point fraction (0.0=>1.0) to specify which entry to start reading (per file)                                \n",
    "              use_fraction ..... a floating point fraction (0.0=>1.0) to specify how much fraction of a file to be read out (per file)                  \n",
    "        \"\"\"\n",
    "        self._transform = transform\n",
    "        self._files = []\n",
    "\n",
    "        # Check input fractions makes sense                                                                                                             \n",
    "        assert start_fraction >= 0. and start_fraction < 1.\n",
    "        assert use_fraction > 0. and use_fraction <= 1.\n",
    "        assert (start_fraction + use_fraction) <= 1.\n",
    "\n",
    "        # Load files (up to 10) from each directory in data_dirs list                                                                                   \n",
    "        # for d in data_dirs:\n",
    "        #     file_list = [ os.path.join(d,f) for f in os.listdir(d) if flavour is None or flavour in f ]\n",
    "        #     if limit_num_files: file_list = file_list[0:limit_num_files]\n",
    "        #     self._files += file_list\n",
    "        self._files = files\n",
    "\n",
    "        self._file_handles = [None] * len(self._files)\n",
    "        self._event_to_file_index  = []\n",
    "        self._event_to_entry_index = []\n",
    "        import h5py\n",
    "        for file_index, file_name in enumerate(self._files):\n",
    "            f = h5py.File(file_name,mode='r')\n",
    "            data_size = f['event_data'].shape[0]\n",
    "            start_entry = int(start_fraction * data_size)\n",
    "            num_entries = int(use_fraction * data_size)\n",
    "            self._event_to_file_index += [file_index] * num_entries\n",
    "            self._event_to_entry_index += range(start_entry, start_entry+num_entries)\n",
    "            f.close()\n",
    "\n",
    "    def __len__(self):\n",
    "        return len(self._event_to_file_index)\n",
    "\n",
    "    def __getitem__(self,idx):\n",
    "        file_index = self._event_to_file_index[idx]\n",
    "        entry_index = self._event_to_entry_index[idx]\n",
    "        if self._file_handles[file_index] is None:\n",
    "            import h5py\n",
    "            self._file_handles[file_index] = h5py.File(self._files[file_index],mode='r')\n",
    "        fh = self._file_handles[file_index]\n",
    "        label = fh['labels'][entry_index]\n",
    "        #labelTranslation = [-1,0,1,-1,2] # make sure that labels 1,2,4 get values 0,1,2\n",
    "        if label == 1: # electron\n",
    "            label = 0\n",
    "        elif label == 2: # muon\n",
    "            label = 1\n",
    "        elif label == 4: # pip\n",
    "            label = 2\n",
    "        else:\n",
    "            print('Unknown label', label, 'for entry_index', entry_index, 'treating as label=0')\n",
    "            label = 0\n",
    "        \n",
    "        # try:\n",
    "        #     label = labelTranslation[label]\n",
    "        # except IndexError:\n",
    "        #     print('IndexError at entry', entry_index, 'label in file was', fh['labels'][entry_index], 'translations are', labelTranslation)\n",
    "        #     raise\n",
    "        \n",
    "        event_data = fh['event_data'][entry_index]\n",
    "        return event_data[:,:,0:1],label,idx\n",
    "\n",
    "def HKCollate(batch):\n",
    "    data  = np.stack([sample[0] for sample in batch])\n",
    "    label = [sample[1] for sample in batch]\n",
    "    idx   = [sample[2] for sample in batch]\n",
    "    return data,label,idx"
   ]
  },
  {
   "cell_type": "code",
   "execution_count": 7,
   "metadata": {},
   "outputs": [],
   "source": [
    "# also add more data\n",
    "\n",
    "#mcdir = '/home/lukasb/projects/rpp-tanaka-ab/lukasb/watchmal/20190808-uniisoflat'\n",
    "mcdir = '/home/lukasb/scratch/20190808-uniisoflat'\n",
    "wallmat = 'blacksheet'\n",
    "pnames = ('e','mu','pip')\n",
    "files = ['%s/1R%s-%s/wc-0-bch%d.h5' % (mcdir,pname,wallmat,bch+1) for bch in range(20) for pname in pnames]\n",
    "\n",
    "train_ds = H5Dataset(files,start_fraction=0.0,use_fraction=0.9);\n",
    "test_ds  = H5Dataset(files,start_fraction=0.9,use_fraction=0.1);\n",
    "\n",
    "# for training\n",
    "train_loader=DataLoader(train_ds,batch_size= 64,shuffle=True,num_workers=4,collate_fn=HKCollate)\n",
    "# for validation\n",
    "test_loader =DataLoader( test_ds,batch_size=200,shuffle=True,num_workers=2,collate_fn=HKCollate)"
   ]
  },
  {
   "cell_type": "code",
   "execution_count": 8,
   "metadata": {},
   "outputs": [],
   "source": [
    "class GeomBNConv2d(torch.nn.Module):\n",
    "    def __init__(self,Cin,Cout,pad):\n",
    "        super(GeomBNConv2d, self).__init__()\n",
    "        self.Cin = Cin\n",
    "        self.Cout = Cout\n",
    "        self.pad = pad\n",
    "        self.batchNorm2d = torch.nn.BatchNorm2d(Cin)\n",
    "        self.conv2d = torch.nn.Conv2d(Cin,Cout,2*self.pad+1)\n",
    " \n",
    "    def forward(self, x):\n",
    "        x = self.batchNorm2d(x)\n",
    "        inputsPad = geometricPad(x, self.pad); # (B,C,W,H)\n",
    "        return self.conv2d(inputsPad)\n",
    "\n",
    "class TaylorBNConv2d(torch.nn.Module):\n",
    "    def __init__(self,Cin,Cout,taylor):\n",
    "        super(TaylorBNConv2d, self).__init__()\n",
    "        self.Cin = Cin\n",
    "        self.Cout = Cout\n",
    "        self.taylor = taylor\n",
    "        self.batchNorm2d = torch.nn.BatchNorm2d(Cin*taylor.Ntaylor)\n",
    "        self.conv2d = torch.nn.Conv2d(Cin*taylor.Ntaylor,Cout,1)\n",
    " \n",
    "    def forward(self, x):\n",
    "        x = self.taylor(x)\n",
    "        x = self.batchNorm2d(x)\n",
    "        x = self.conv2d(x)\n",
    "        return x\n",
    "    \n",
    "    # the default implementation of cpu() and cuda() only passes this along to nn.Module instances\n",
    "    # since self.AA is a tensor, we need to take care of it ourselves\n",
    "    \n",
    "    def cpu(self):\n",
    "        super(TaylorBNConv2d, self).cpu()\n",
    "        self.taylor.cpu()\n",
    "        return self\n",
    "    \n",
    "    def cuda(self):\n",
    "        super(TaylorBNConv2d, self).cuda()\n",
    "        self.taylor.cuda()\n",
    "        return self\n",
    "\n",
    "\n",
    "class TaylorCNN(torch.nn.Module):\n",
    "    \n",
    "    def __init__(self, num_class, taylor):\n",
    "        super(TaylorCNN, self).__init__()\n",
    "        \n",
    "        # prepare taylorizers for maxpool operations\n",
    "        taylor1 = taylor .pool2d((2,2))\n",
    "        taylor2 = taylor1.pool2d((2,2))\n",
    "        #taylor3 = taylor2.pool2d((2,2))\n",
    "        #taylor4 = taylor3.pool2d((2,2))\n",
    "        \n",
    "        # feature extractor CNN\n",
    "        self._feature = torch.nn.Sequential(\n",
    "            # taylor conv\n",
    "            TaylorBNConv2d( 1,16,taylor), torch.nn.ReLU(),\n",
    "            TaylorBNConv2d(16,32,taylor), torch.nn.ReLU(),\n",
    "            \n",
    "            torch.nn.MaxPool2d(2,2),\n",
    "            TaylorBNConv2d(32,32,taylor1), torch.nn.ReLU(),\n",
    "            TaylorBNConv2d(32,32,taylor1), torch.nn.ReLU(),\n",
    "            \n",
    "            torch.nn.MaxPool2d(2,2),\n",
    "            TaylorBNConv2d(32,64,taylor2), torch.nn.ReLU(),\n",
    "            TaylorBNConv2d(64,64,taylor2), torch.nn.ReLU(),\n",
    "            \n",
    "            torch.nn.MaxPool2d(2,2),\n",
    "            GeomBNConv2d( 64,128,1), torch.nn.ReLU(),\n",
    "            GeomBNConv2d(128,128,1), torch.nn.ReLU()\n",
    "        )\n",
    "        self._classifier = torch.nn.Sequential(\n",
    "            torch.nn.Linear(128,32), torch.nn.ReLU(),\n",
    "            torch.nn.Linear(32,num_class)\n",
    "        )\n",
    "\n",
    "    def forward(self, x):\n",
    "        net = self._feature(x)\n",
    "        net = torch.nn.AvgPool2d(net.size()[2:])(net)\n",
    "        return self._classifier(net.view(-1,128))\n",
    "    \n",
    "    # I'm not sure why I need to implement cpu/cuda myself, train works somehow\n",
    "    \n",
    "    def cpu(self):\n",
    "        super(TaylorCNN, self).cpu()\n",
    "        for module in self._feature:\n",
    "            module.cpu()\n",
    "        for module in self._classifier:\n",
    "            module.cpu()\n",
    "        return self\n",
    "    \n",
    "    def cuda(self):\n",
    "        super(TaylorCNN, self).cuda()\n",
    "        for module in self._feature:\n",
    "            module.cuda()\n",
    "        for module in self._classifier:\n",
    "            module.cuda()\n",
    "        return self"
   ]
  },
  {
   "cell_type": "code",
   "execution_count": 9,
   "metadata": {},
   "outputs": [],
   "source": [
    "def forward(blob,train=True):\n",
    "    \"\"\"\n",
    "       Args: blob should have attributes, net, criterion, softmax, data, label\n",
    "       Returns: a dictionary of predicted labels, softmax, loss, and accuracy\n",
    "    \"\"\"\n",
    "    with torch.set_grad_enabled(train):\n",
    "        # Prediction\n",
    "        data = torch.as_tensor(blob.data).cuda()#[torch.as_tensor(d).cuda() for d in blob.data]\n",
    "        data = data.permute(0,3,1,2)\n",
    "        prediction = blob.net(data)\n",
    "        # Training\n",
    "        loss,acc=-1,-1\n",
    "        if blob.label is not None:\n",
    "            label = torch.as_tensor(blob.label).type(torch.LongTensor).cuda()#[torch.as_tensor(l).cuda() for l in blob.label]\n",
    "            #label = torch.as_tensor(blob.label).type(torch.FloatTensor).cuda()#[torch.as_tensor(l).cuda() for l in blob.label]\n",
    "            label.requires_grad = False\n",
    "            loss = blob.criterion(prediction,label)\n",
    "        blob.loss = loss\n",
    "        \n",
    "        softmax    = blob.softmax(prediction).cpu().detach().numpy()\n",
    "        prediction = torch.argmax(prediction,dim=-1)\n",
    "        accuracy   = (prediction == label).sum().item() / float(prediction.nelement())\n",
    "        # mse        = blob.mse(prediction,label).cpu().detach().numpy()\n",
    "        # accuracy   = np.sqrt(mse.mean()).item()\n",
    "        prediction = prediction.cpu().detach().numpy()\n",
    "        \n",
    "        return {'prediction' : prediction,\n",
    "                'softmax'    : softmax,\n",
    "                'loss'       : loss.cpu().detach().item(),\n",
    "                'accuracy'   : accuracy}\n",
    "\n",
    "def backward(blob):\n",
    "    blob.optimizer.zero_grad()  # Reset gradients accumulation\n",
    "    blob.loss.backward()\n",
    "    blob.optimizer.step()\n",
    "\n",
    "def save_state(blob):\n",
    "    # Output file name\n",
    "    filename = '%s-%d.ckpt' % (blob.prefix, blob.iteration)\n",
    "    # Save parameters\n",
    "    # 0+1) iteration counter + optimizer state => in case we want to \"continue training\" later\n",
    "    # 2) network weight\n",
    "    torch.save({\n",
    "        'global_epoch': blob.epoch,\n",
    "        'global_step': blob.iteration,\n",
    "        'optimizer': blob.optimizer.state_dict(),\n",
    "        'state_dict': blob.net.state_dict()\n",
    "        }, filename)\n",
    "    return filename\n",
    "\n",
    "def restore_state(blob, iteration):\n",
    "    # Open a file in read-binary mode\n",
    "    weight_file = '%s-%d.ckpt' % (prefix.prefix, iteration)\n",
    "    with open(weight_file, 'rb') as f:\n",
    "        # torch interprets the file, then we can access using string keys\n",
    "        checkpoint = torch.load(f)\n",
    "        # load network weights\n",
    "        blob.net.load_state_dict(checkpoint['state_dict'], strict=False)\n",
    "        # if optimizer is provided, load the state of the optimizer\n",
    "        if blob.optimizer is not None:\n",
    "            blob.optimizer.load_state_dict(checkpoint['optimizer'])\n",
    "        # load iteration count\n",
    "        blob.epoch     = checkpoint['global_epoch']\n",
    "        blob.iteration = checkpoint['global_step']\n",
    "\n",
    "# weight_file = save_state(blob, '20190819-02-DeepTaylor-01-BatchNorm')\n",
    "# print('Saved to', weight_file)\n",
    "\n",
    "\n",
    "# # Recreate the network (i.e. initialize)\n",
    "# blob.net=LeNet().cuda()\n",
    "# # Get one batch of data to test\n",
    "# blob.data, blob.label = next(iter(train_loader))\n",
    "# # Run forward function\n",
    "# res = forward(blob,True)\n",
    "# # Report\n",
    "# print('Accuracy:',res['accuracy'])\n",
    "\n",
    "\n",
    "\n",
    "# # Restore the state\n",
    "# restore_state(weight_file,blob)\n",
    "# # Run the forward function\n",
    "# res = forward(blob,True)\n",
    "# # Report\n",
    "# print('Accuracy',res['accuracy'])"
   ]
  },
  {
   "cell_type": "code",
   "execution_count": 10,
   "metadata": {},
   "outputs": [
    {
     "name": "stdout",
     "output_type": "stream",
     "text": [
      "starting inversion... (may take a few seconds)\n",
      "done\n",
      "starting inversion... (may take a few seconds)\n",
      "done\n"
     ]
    }
   ],
   "source": [
    "class BLOB:\n",
    "    pass\n",
    "blob=BLOB()\n",
    "blob.net       = TaylorCNN(3, taylor0).cuda() # construct CNN for 1 variable regression, use GPU\n",
    "blob.criterion = torch.nn.CrossEntropyLoss() # use softmax loss to define an error\n",
    "blob.optimizer = torch.optim.Adam(blob.net.parameters()) # use Adam optimizer algorithm\n",
    "blob.softmax   = torch.nn.Softmax(dim=1) # not for training, but softmax score for each class\n",
    "blob.prefix    = '20190819-03-DeepTaylor-trainMore-01-TaylorCNN'\n",
    "blob.epoch     = 0.\n",
    "blob.iteration = 0\n",
    "blob.data      = None # data for training/analysis\n",
    "blob.label     = None # label for training/analysis"
   ]
  },
  {
   "cell_type": "code",
   "execution_count": 11,
   "metadata": {},
   "outputs": [
    {
     "name": "stdout",
     "output_type": "stream",
     "text": [
      "Epoch 0 Starting @ 2019-08-22 02:06:19\n"
     ]
    },
    {
     "data": {
      "text/html": [
       "\n",
       "        <progress \n",
       "            value='422'\n",
       "            max='422',\n",
       "            style='width: 30%'\n",
       "        >\n",
       "            422\n",
       "        </progress> 100% ... Iteration 422 ... Epoch 1.00 ... Loss 0.924 ... Accuracy 0.518\n",
       "    "
      ],
      "text/plain": [
       "<IPython.core.display.HTML object>"
      ]
     },
     "metadata": {},
     "output_type": "display_data"
    },
    {
     "name": "stdout",
     "output_type": "stream",
     "text": [
      "Epoch 1 Starting @ 2019-08-22 02:08:53\n"
     ]
    },
    {
     "data": {
      "text/html": [
       "\n",
       "        <progress \n",
       "            value='422'\n",
       "            max='422',\n",
       "            style='width: 30%'\n",
       "        >\n",
       "            422\n",
       "        </progress> 100% ... Iteration 844 ... Epoch 2.00 ... Loss 0.619 ... Accuracy 0.732\n",
       "    "
      ],
      "text/plain": [
       "<IPython.core.display.HTML object>"
      ]
     },
     "metadata": {},
     "output_type": "display_data"
    },
    {
     "name": "stdout",
     "output_type": "stream",
     "text": [
      "Epoch 2 Starting @ 2019-08-22 02:11:26\n"
     ]
    },
    {
     "data": {
      "text/html": [
       "\n",
       "        <progress \n",
       "            value='422'\n",
       "            max='422',\n",
       "            style='width: 30%'\n",
       "        >\n",
       "            422\n",
       "        </progress> 100% ... Iteration 1266 ... Epoch 3.00 ... Loss 0.570 ... Accuracy 0.679\n",
       "    "
      ],
      "text/plain": [
       "<IPython.core.display.HTML object>"
      ]
     },
     "metadata": {},
     "output_type": "display_data"
    },
    {
     "name": "stdout",
     "output_type": "stream",
     "text": [
      "Epoch 3 Starting @ 2019-08-22 02:13:59\n"
     ]
    },
    {
     "data": {
      "text/html": [
       "\n",
       "        <progress \n",
       "            value='422'\n",
       "            max='422',\n",
       "            style='width: 30%'\n",
       "        >\n",
       "            422\n",
       "        </progress> 100% ... Iteration 1688 ... Epoch 4.00 ... Loss 0.612 ... Accuracy 0.768\n",
       "    "
      ],
      "text/plain": [
       "<IPython.core.display.HTML object>"
      ]
     },
     "metadata": {},
     "output_type": "display_data"
    },
    {
     "name": "stdout",
     "output_type": "stream",
     "text": [
      "Epoch 4 Starting @ 2019-08-22 02:16:32\n"
     ]
    },
    {
     "data": {
      "text/html": [
       "\n",
       "        <progress \n",
       "            value='422'\n",
       "            max='422',\n",
       "            style='width: 30%'\n",
       "        >\n",
       "            422\n",
       "        </progress> 100% ... Iteration 2110 ... Epoch 5.00 ... Loss 0.505 ... Accuracy 0.768\n",
       "    "
      ],
      "text/plain": [
       "<IPython.core.display.HTML object>"
      ]
     },
     "metadata": {},
     "output_type": "display_data"
    },
    {
     "name": "stdout",
     "output_type": "stream",
     "text": [
      "Epoch 5 Starting @ 2019-08-22 02:19:05\n"
     ]
    },
    {
     "data": {
      "text/html": [
       "\n",
       "        <progress \n",
       "            value='422'\n",
       "            max='422',\n",
       "            style='width: 30%'\n",
       "        >\n",
       "            422\n",
       "        </progress> 100% ... Iteration 2532 ... Epoch 6.00 ... Loss 0.537 ... Accuracy 0.750\n",
       "    "
      ],
      "text/plain": [
       "<IPython.core.display.HTML object>"
      ]
     },
     "metadata": {},
     "output_type": "display_data"
    },
    {
     "name": "stdout",
     "output_type": "stream",
     "text": [
      "Epoch 6 Starting @ 2019-08-22 02:21:38\n"
     ]
    },
    {
     "data": {
      "text/html": [
       "\n",
       "        <progress \n",
       "            value='422'\n",
       "            max='422',\n",
       "            style='width: 30%'\n",
       "        >\n",
       "            422\n",
       "        </progress> 100% ... Iteration 2954 ... Epoch 7.00 ... Loss 0.542 ... Accuracy 0.732\n",
       "    "
      ],
      "text/plain": [
       "<IPython.core.display.HTML object>"
      ]
     },
     "metadata": {},
     "output_type": "display_data"
    },
    {
     "name": "stdout",
     "output_type": "stream",
     "text": [
      "Epoch 7 Starting @ 2019-08-22 02:24:10\n"
     ]
    },
    {
     "data": {
      "text/html": [
       "\n",
       "        <progress \n",
       "            value='422'\n",
       "            max='422',\n",
       "            style='width: 30%'\n",
       "        >\n",
       "            422\n",
       "        </progress> 100% ... Iteration 3376 ... Epoch 8.00 ... Loss 0.390 ... Accuracy 0.857\n",
       "    "
      ],
      "text/plain": [
       "<IPython.core.display.HTML object>"
      ]
     },
     "metadata": {},
     "output_type": "display_data"
    },
    {
     "name": "stdout",
     "output_type": "stream",
     "text": [
      "Epoch 8 Starting @ 2019-08-22 02:26:43\n"
     ]
    },
    {
     "data": {
      "text/html": [
       "\n",
       "        <progress \n",
       "            value='422'\n",
       "            max='422',\n",
       "            style='width: 30%'\n",
       "        >\n",
       "            422\n",
       "        </progress> 100% ... Iteration 3798 ... Epoch 9.00 ... Loss 0.420 ... Accuracy 0.786\n",
       "    "
      ],
      "text/plain": [
       "<IPython.core.display.HTML object>"
      ]
     },
     "metadata": {},
     "output_type": "display_data"
    },
    {
     "name": "stdout",
     "output_type": "stream",
     "text": [
      "Epoch 9 Starting @ 2019-08-22 02:29:16\n"
     ]
    },
    {
     "data": {
      "text/html": [
       "\n",
       "        <progress \n",
       "            value='422'\n",
       "            max='422',\n",
       "            style='width: 30%'\n",
       "        >\n",
       "            422\n",
       "        </progress> 100% ... Iteration 4220 ... Epoch 10.00 ... Loss 0.390 ... Accuracy 0.804\n",
       "    "
      ],
      "text/plain": [
       "<IPython.core.display.HTML object>"
      ]
     },
     "metadata": {},
     "output_type": "display_data"
    },
    {
     "name": "stdout",
     "output_type": "stream",
     "text": [
      "Epoch 10 Starting @ 2019-08-22 02:31:49\n"
     ]
    },
    {
     "data": {
      "text/html": [
       "\n",
       "        <progress \n",
       "            value='422'\n",
       "            max='422',\n",
       "            style='width: 30%'\n",
       "        >\n",
       "            422\n",
       "        </progress> 100% ... Iteration 4642 ... Epoch 11.00 ... Loss 0.379 ... Accuracy 0.857\n",
       "    "
      ],
      "text/plain": [
       "<IPython.core.display.HTML object>"
      ]
     },
     "metadata": {},
     "output_type": "display_data"
    },
    {
     "name": "stdout",
     "output_type": "stream",
     "text": [
      "Epoch 11 Starting @ 2019-08-22 02:34:21\n"
     ]
    },
    {
     "data": {
      "text/html": [
       "\n",
       "        <progress \n",
       "            value='422'\n",
       "            max='422',\n",
       "            style='width: 30%'\n",
       "        >\n",
       "            422\n",
       "        </progress> 100% ... Iteration 5064 ... Epoch 12.00 ... Loss 0.377 ... Accuracy 0.839\n",
       "    "
      ],
      "text/plain": [
       "<IPython.core.display.HTML object>"
      ]
     },
     "metadata": {},
     "output_type": "display_data"
    },
    {
     "name": "stdout",
     "output_type": "stream",
     "text": [
      "Epoch 12 Starting @ 2019-08-22 02:36:54\n"
     ]
    },
    {
     "data": {
      "text/html": [
       "\n",
       "        <progress \n",
       "            value='422'\n",
       "            max='422',\n",
       "            style='width: 30%'\n",
       "        >\n",
       "            422\n",
       "        </progress> 100% ... Iteration 5486 ... Epoch 13.00 ... Loss 0.339 ... Accuracy 0.875\n",
       "    "
      ],
      "text/plain": [
       "<IPython.core.display.HTML object>"
      ]
     },
     "metadata": {},
     "output_type": "display_data"
    },
    {
     "name": "stdout",
     "output_type": "stream",
     "text": [
      "Epoch 13 Starting @ 2019-08-22 02:39:26\n"
     ]
    },
    {
     "data": {
      "text/html": [
       "\n",
       "        <progress \n",
       "            value='422'\n",
       "            max='422',\n",
       "            style='width: 30%'\n",
       "        >\n",
       "            422\n",
       "        </progress> 100% ... Iteration 5908 ... Epoch 14.00 ... Loss 0.380 ... Accuracy 0.786\n",
       "    "
      ],
      "text/plain": [
       "<IPython.core.display.HTML object>"
      ]
     },
     "metadata": {},
     "output_type": "display_data"
    },
    {
     "name": "stdout",
     "output_type": "stream",
     "text": [
      "Epoch 14 Starting @ 2019-08-22 02:41:59\n"
     ]
    },
    {
     "data": {
      "text/html": [
       "\n",
       "        <progress \n",
       "            value='422'\n",
       "            max='422',\n",
       "            style='width: 30%'\n",
       "        >\n",
       "            422\n",
       "        </progress> 100% ... Iteration 6330 ... Epoch 15.00 ... Loss 0.413 ... Accuracy 0.732\n",
       "    "
      ],
      "text/plain": [
       "<IPython.core.display.HTML object>"
      ]
     },
     "metadata": {},
     "output_type": "display_data"
    },
    {
     "name": "stdout",
     "output_type": "stream",
     "text": [
      "Epoch 15 Starting @ 2019-08-22 02:44:32\n"
     ]
    },
    {
     "data": {
      "text/html": [
       "\n",
       "        <progress \n",
       "            value='422'\n",
       "            max='422',\n",
       "            style='width: 30%'\n",
       "        >\n",
       "            422\n",
       "        </progress> 100% ... Iteration 6752 ... Epoch 16.00 ... Loss 0.508 ... Accuracy 0.714\n",
       "    "
      ],
      "text/plain": [
       "<IPython.core.display.HTML object>"
      ]
     },
     "metadata": {},
     "output_type": "display_data"
    },
    {
     "name": "stdout",
     "output_type": "stream",
     "text": [
      "Epoch 16 Starting @ 2019-08-22 02:47:04\n"
     ]
    },
    {
     "data": {
      "text/html": [
       "\n",
       "        <progress \n",
       "            value='422'\n",
       "            max='422',\n",
       "            style='width: 30%'\n",
       "        >\n",
       "            422\n",
       "        </progress> 100% ... Iteration 7174 ... Epoch 17.00 ... Loss 0.210 ... Accuracy 0.911\n",
       "    "
      ],
      "text/plain": [
       "<IPython.core.display.HTML object>"
      ]
     },
     "metadata": {},
     "output_type": "display_data"
    },
    {
     "name": "stdout",
     "output_type": "stream",
     "text": [
      "Epoch 17 Starting @ 2019-08-22 02:49:37\n"
     ]
    },
    {
     "data": {
      "text/html": [
       "\n",
       "        <progress \n",
       "            value='422'\n",
       "            max='422',\n",
       "            style='width: 30%'\n",
       "        >\n",
       "            422\n",
       "        </progress> 100% ... Iteration 7596 ... Epoch 18.00 ... Loss 0.504 ... Accuracy 0.786\n",
       "    "
      ],
      "text/plain": [
       "<IPython.core.display.HTML object>"
      ]
     },
     "metadata": {},
     "output_type": "display_data"
    },
    {
     "name": "stdout",
     "output_type": "stream",
     "text": [
      "Epoch 18 Starting @ 2019-08-22 02:52:10\n"
     ]
    },
    {
     "data": {
      "text/html": [
       "\n",
       "        <progress \n",
       "            value='422'\n",
       "            max='422',\n",
       "            style='width: 30%'\n",
       "        >\n",
       "            422\n",
       "        </progress> 100% ... Iteration 8018 ... Epoch 19.00 ... Loss 0.153 ... Accuracy 0.929\n",
       "    "
      ],
      "text/plain": [
       "<IPython.core.display.HTML object>"
      ]
     },
     "metadata": {},
     "output_type": "display_data"
    },
    {
     "name": "stdout",
     "output_type": "stream",
     "text": [
      "Epoch 19 Starting @ 2019-08-22 02:54:42\n"
     ]
    },
    {
     "data": {
      "text/html": [
       "\n",
       "        <progress \n",
       "            value='422'\n",
       "            max='422',\n",
       "            style='width: 30%'\n",
       "        >\n",
       "            422\n",
       "        </progress> 100% ... Iteration 8440 ... Epoch 20.00 ... Loss 0.256 ... Accuracy 0.929\n",
       "    "
      ],
      "text/plain": [
       "<IPython.core.display.HTML object>"
      ]
     },
     "metadata": {},
     "output_type": "display_data"
    }
   ],
   "source": [
    "import time\n",
    "from utils.utils import progress_bar, CSVData\n",
    "\n",
    "blob.train_log, blob.test_log = CSVData('%s-log_train.csv' % blob.prefix), CSVData('%s-log_test.csv' % blob.prefix)\n",
    "\n",
    "# Define train period. \"epoch\" = N image consumption where N is the total number of train samples.\n",
    "TRAIN_EPOCH=20.0\n",
    "# Set the network to training mode\n",
    "blob.net.train()\n",
    "\n",
    "# Start training\n",
    "while int(blob.epoch+0.5) < TRAIN_EPOCH:\n",
    "    print('Epoch',int(blob.epoch+0.5),'Starting @',time.strftime(\"%Y-%m-%d %H:%M:%S\", time.localtime()))\n",
    "    # Create a progress bar for this epoch\n",
    "    progress = display(progress_bar(0,len(train_loader)),display_id=True)\n",
    "    # Loop over data samples and into the network forward function\n",
    "    for i,data in enumerate(train_loader):\n",
    "        # Data and label\n",
    "        blob.data,blob.label = data[0:2]\n",
    "        # Call forward: make a prediction & measure the average error\n",
    "        res = forward(blob,True)\n",
    "        # Call backward: backpropagate error and update weights\n",
    "        backward(blob)\n",
    "        # Epoch update\n",
    "        blob.epoch += 1./len(train_loader)\n",
    "        blob.iteration += 1\n",
    "        \n",
    "        #\n",
    "        # Log/Report\n",
    "        #\n",
    "        # Record the current performance on train set\n",
    "        blob.train_log.record(['iteration','epoch','accuracy','loss'],[blob.iteration,blob.epoch,res['accuracy'],res['loss']])\n",
    "        blob.train_log.write()\n",
    "        # once in a while, report\n",
    "        if i==0 or (i+1)%10 == 0:\n",
    "            message = '... Iteration %d ... Epoch %1.2f ... Loss %1.3f ... Accuracy %1.3f' % (blob.iteration,blob.epoch,res['loss'],res['accuracy'])\n",
    "            progress.update(progress_bar((i+1),len(train_loader),message))\n",
    "        # more rarely, run validation\n",
    "        if (i+1)%40 == 0:\n",
    "            with torch.no_grad():\n",
    "                blob.net.eval()\n",
    "                test_data = next(iter(test_loader))\n",
    "                blob.data,blob.label = test_data[0:2]\n",
    "                res = forward(blob,False)\n",
    "                blob.test_log.record(['iteration','epoch','accuracy','loss'],[blob.iteration,blob.epoch,res['accuracy'],res['loss']])\n",
    "                blob.test_log.write()\n",
    "            blob.net.train()\n",
    "        # even more rarely, save state\n",
    "        if (i+1)%400 == 0:\n",
    "            with torch.no_grad():\n",
    "                blob.net.eval()\n",
    "                save_state(blob)\n",
    "            blob.net.train()\n",
    "        if blob.epoch >= TRAIN_EPOCH:\n",
    "            break\n",
    "    message = '... Iteration %d ... Epoch %1.2f ... Loss %1.3f ... Accuracy %1.3f' % (blob.iteration,blob.epoch,res['loss'],res['accuracy'])\n",
    "    #print(message)\n",
    "    progress.update(progress_bar((i+1),len(train_loader),message))\n",
    "\n",
    "blob.test_log.close()\n",
    "blob.train_log.close()"
   ]
  },
  {
   "cell_type": "code",
   "execution_count": 12,
   "metadata": {},
   "outputs": [
    {
     "data": {
      "image/png": "[encoded data removed]",
      "text/plain": [
       "<Figure size 864x576 with 2 Axes>"
      ]
     },
     "metadata": {},
     "output_type": "display_data"
    }
   ],
   "source": [
    "import pandas as pd\n",
    "import matplotlib.pyplot as plt\n",
    "%matplotlib inline\n",
    "\n",
    "train_log = pd.read_csv(blob.train_log.name)\n",
    "test_log  = pd.read_csv(blob.test_log.name)\n",
    "\n",
    "fig, ax1 = plt.subplots(figsize=(12,8),facecolor='w')\n",
    "line11 = ax1.plot(train_log.epoch, train_log.loss, linewidth=2, label='Train loss', color='b', alpha=0.3)\n",
    "line12 = ax1.plot(test_log.epoch, test_log.loss, marker='o', markersize=12, linestyle='', label='Test loss', color='blue')\n",
    "ax1.set_xlabel('Epoch',fontweight='bold',fontsize=24,color='black')\n",
    "ax1.tick_params('x',colors='black',labelsize=18)\n",
    "ax1.set_ylabel('Loss', fontsize=24, fontweight='bold',color='b')\n",
    "ax1.tick_params('y',colors='b',labelsize=18)\n",
    "\n",
    "ax2 = ax1.twinx()\n",
    "line21 = ax2.plot(train_log.epoch, train_log.accuracy, linewidth=2, label='Train accuracy', color='r', alpha=0.3)\n",
    "line22 = ax2.plot(test_log.epoch, test_log.accuracy, marker='o', markersize=12, linestyle='', label='Test accuracy', color='red')\n",
    "\n",
    "ax2.set_ylabel('Accuracy', fontsize=24, fontweight='bold',color='r')\n",
    "ax2.tick_params('y',colors='r',labelsize=18)\n",
    "ax2.set_ylim(0.,1.0)\n",
    "\n",
    "# added these four lines\n",
    "lines  = line11 + line12 + line21 + line22\n",
    "labels = [l.get_label() for l in lines]\n",
    "leg    = ax1.legend(lines, labels, fontsize=16, loc=5)\n",
    "leg_frame = leg.get_frame()\n",
    "leg_frame.set_facecolor('white')\n",
    "\n",
    "plt.grid()\n",
    "plt.show()"
   ]
  },
  {
   "cell_type": "code",
   "execution_count": 27,
   "metadata": {},
   "outputs": [],
   "source": [
    "def inference(blob,data_loader):\n",
    "    label,prediction,accuracy=[],[],[]\n",
    "    # set the network to test (non-train) mode\n",
    "    blob.net.eval()\n",
    "    # create the result holder\n",
    "    index,label,prediction = [],[],[]\n",
    "    for i,data in enumerate(data_loader):\n",
    "        blob.data, blob.label = data[0:2]\n",
    "        res = forward(blob,True)\n",
    "        accuracy.append(res['accuracy'])\n",
    "        prediction.append(res['prediction'])\n",
    "        label.append(blob.label)\n",
    "        #if i==2: break\n",
    "    # report accuracy\n",
    "    accuracy   = np.array(accuracy,dtype=np.float32)\n",
    "    label      = np.hstack(label)\n",
    "    prediction = np.hstack(prediction)\n",
    "    \n",
    "    return accuracy, label, prediction"
   ]
  },
  {
   "cell_type": "code",
   "execution_count": 28,
   "metadata": {},
   "outputs": [
    {
     "ename": "RuntimeError",
     "evalue": "CUDA out of memory. Tried to allocate 464.00 MiB (GPU 0; 11.91 GiB total capacity; 10.56 GiB already allocated; 75.38 MiB free; 613.88 MiB cached)",
     "output_type": "error",
     "traceback": [
      "\u001b[0;31m---------------------------------------------------------------------------\u001b[0m",
      "\u001b[0;31mRuntimeError\u001b[0m                              Traceback (most recent call last)",
      "\u001b[0;32m<ipython-input-28-a88e6c67b138>\u001b[0m in \u001b[0;36m<module>\u001b[0;34m\u001b[0m\n\u001b[1;32m      1\u001b[0m \u001b[0;32mfrom\u001b[0m \u001b[0mutils\u001b[0m\u001b[0;34m.\u001b[0m\u001b[0mutils\u001b[0m \u001b[0;32mimport\u001b[0m \u001b[0mplot_confusion_matrix\u001b[0m\u001b[0;34m\u001b[0m\u001b[0;34m\u001b[0m\u001b[0m\n\u001b[0;32m----> 2\u001b[0;31m \u001b[0maccuracy\u001b[0m\u001b[0;34m,\u001b[0m\u001b[0mlabel\u001b[0m\u001b[0;34m,\u001b[0m\u001b[0mprediction\u001b[0m \u001b[0;34m=\u001b[0m \u001b[0minference\u001b[0m\u001b[0;34m(\u001b[0m\u001b[0mblob\u001b[0m\u001b[0;34m,\u001b[0m\u001b[0mtest_loader\u001b[0m\u001b[0;34m)\u001b[0m\u001b[0;34m\u001b[0m\u001b[0;34m\u001b[0m\u001b[0m\n\u001b[0m\u001b[1;32m      3\u001b[0m \u001b[0mprint\u001b[0m\u001b[0;34m(\u001b[0m\u001b[0;34m'Accuracy mean'\u001b[0m\u001b[0;34m,\u001b[0m\u001b[0maccuracy\u001b[0m\u001b[0;34m.\u001b[0m\u001b[0mmean\u001b[0m\u001b[0;34m(\u001b[0m\u001b[0;34m)\u001b[0m\u001b[0;34m,\u001b[0m\u001b[0;34m'std'\u001b[0m\u001b[0;34m,\u001b[0m\u001b[0maccuracy\u001b[0m\u001b[0;34m.\u001b[0m\u001b[0mstd\u001b[0m\u001b[0;34m(\u001b[0m\u001b[0;34m)\u001b[0m\u001b[0;34m)\u001b[0m\u001b[0;34m\u001b[0m\u001b[0;34m\u001b[0m\u001b[0m\n\u001b[1;32m      4\u001b[0m \u001b[0mplot_confusion_matrix\u001b[0m\u001b[0;34m(\u001b[0m\u001b[0mlabel\u001b[0m\u001b[0;34m,\u001b[0m\u001b[0mprediction\u001b[0m\u001b[0;34m,\u001b[0m\u001b[0;34m[\u001b[0m\u001b[0;34m'e'\u001b[0m\u001b[0;34m,\u001b[0m\u001b[0;34m'mu'\u001b[0m\u001b[0;34m,\u001b[0m\u001b[0;34m'pip'\u001b[0m\u001b[0;34m]\u001b[0m\u001b[0;34m)\u001b[0m\u001b[0;34m\u001b[0m\u001b[0;34m\u001b[0m\u001b[0m\n",
      "\u001b[0;32m<ipython-input-27-fc4c7ea7aee8>\u001b[0m in \u001b[0;36minference\u001b[0;34m(blob, data_loader)\u001b[0m\n\u001b[1;32m      7\u001b[0m     \u001b[0;32mfor\u001b[0m \u001b[0mi\u001b[0m\u001b[0;34m,\u001b[0m\u001b[0mdata\u001b[0m \u001b[0;32min\u001b[0m \u001b[0menumerate\u001b[0m\u001b[0;34m(\u001b[0m\u001b[0mdata_loader\u001b[0m\u001b[0;34m)\u001b[0m\u001b[0;34m:\u001b[0m\u001b[0;34m\u001b[0m\u001b[0;34m\u001b[0m\u001b[0m\n\u001b[1;32m      8\u001b[0m         \u001b[0mblob\u001b[0m\u001b[0;34m.\u001b[0m\u001b[0mdata\u001b[0m\u001b[0;34m,\u001b[0m \u001b[0mblob\u001b[0m\u001b[0;34m.\u001b[0m\u001b[0mlabel\u001b[0m \u001b[0;34m=\u001b[0m \u001b[0mdata\u001b[0m\u001b[0;34m[\u001b[0m\u001b[0;36m0\u001b[0m\u001b[0;34m:\u001b[0m\u001b[0;36m2\u001b[0m\u001b[0;34m]\u001b[0m\u001b[0;34m\u001b[0m\u001b[0;34m\u001b[0m\u001b[0m\n\u001b[0;32m----> 9\u001b[0;31m         \u001b[0mres\u001b[0m \u001b[0;34m=\u001b[0m \u001b[0mforward\u001b[0m\u001b[0;34m(\u001b[0m\u001b[0mblob\u001b[0m\u001b[0;34m,\u001b[0m\u001b[0;32mTrue\u001b[0m\u001b[0;34m)\u001b[0m\u001b[0;34m\u001b[0m\u001b[0;34m\u001b[0m\u001b[0m\n\u001b[0m\u001b[1;32m     10\u001b[0m         \u001b[0maccuracy\u001b[0m\u001b[0;34m.\u001b[0m\u001b[0mappend\u001b[0m\u001b[0;34m(\u001b[0m\u001b[0mres\u001b[0m\u001b[0;34m[\u001b[0m\u001b[0;34m'accuracy'\u001b[0m\u001b[0;34m]\u001b[0m\u001b[0;34m)\u001b[0m\u001b[0;34m\u001b[0m\u001b[0;34m\u001b[0m\u001b[0m\n\u001b[1;32m     11\u001b[0m         \u001b[0mprediction\u001b[0m\u001b[0;34m.\u001b[0m\u001b[0mappend\u001b[0m\u001b[0;34m(\u001b[0m\u001b[0mres\u001b[0m\u001b[0;34m[\u001b[0m\u001b[0;34m'prediction'\u001b[0m\u001b[0;34m]\u001b[0m\u001b[0;34m)\u001b[0m\u001b[0;34m\u001b[0m\u001b[0;34m\u001b[0m\u001b[0m\n",
      "\u001b[0;32m<ipython-input-21-cc07a96e0ddf>\u001b[0m in \u001b[0;36mforward\u001b[0;34m(blob, train)\u001b[0m\n\u001b[1;32m      8\u001b[0m         \u001b[0mdata\u001b[0m \u001b[0;34m=\u001b[0m \u001b[0mtorch\u001b[0m\u001b[0;34m.\u001b[0m\u001b[0mas_tensor\u001b[0m\u001b[0;34m(\u001b[0m\u001b[0mblob\u001b[0m\u001b[0;34m.\u001b[0m\u001b[0mdata\u001b[0m\u001b[0;34m)\u001b[0m\u001b[0;34m.\u001b[0m\u001b[0mcuda\u001b[0m\u001b[0;34m(\u001b[0m\u001b[0;34m)\u001b[0m\u001b[0;31m#[torch.as_tensor(d).cuda() for d in blob.data]\u001b[0m\u001b[0;34m\u001b[0m\u001b[0;34m\u001b[0m\u001b[0m\n\u001b[1;32m      9\u001b[0m         \u001b[0mdata\u001b[0m \u001b[0;34m=\u001b[0m \u001b[0mdata\u001b[0m\u001b[0;34m.\u001b[0m\u001b[0mpermute\u001b[0m\u001b[0;34m(\u001b[0m\u001b[0;36m0\u001b[0m\u001b[0;34m,\u001b[0m\u001b[0;36m3\u001b[0m\u001b[0;34m,\u001b[0m\u001b[0;36m1\u001b[0m\u001b[0;34m,\u001b[0m\u001b[0;36m2\u001b[0m\u001b[0;34m)\u001b[0m\u001b[0;34m\u001b[0m\u001b[0;34m\u001b[0m\u001b[0m\n\u001b[0;32m---> 10\u001b[0;31m         \u001b[0mprediction\u001b[0m \u001b[0;34m=\u001b[0m \u001b[0mblob\u001b[0m\u001b[0;34m.\u001b[0m\u001b[0mnet\u001b[0m\u001b[0;34m(\u001b[0m\u001b[0mdata\u001b[0m\u001b[0;34m)\u001b[0m\u001b[0;34m\u001b[0m\u001b[0;34m\u001b[0m\u001b[0m\n\u001b[0m\u001b[1;32m     11\u001b[0m         \u001b[0;31m# Training\u001b[0m\u001b[0;34m\u001b[0m\u001b[0;34m\u001b[0m\u001b[0;34m\u001b[0m\u001b[0m\n\u001b[1;32m     12\u001b[0m         \u001b[0mloss\u001b[0m\u001b[0;34m,\u001b[0m\u001b[0macc\u001b[0m\u001b[0;34m=\u001b[0m\u001b[0;34m-\u001b[0m\u001b[0;36m1\u001b[0m\u001b[0;34m,\u001b[0m\u001b[0;34m-\u001b[0m\u001b[0;36m1\u001b[0m\u001b[0;34m\u001b[0m\u001b[0;34m\u001b[0m\u001b[0m\n",
      "\u001b[0;32m/opt/conda/lib/python3.6/site-packages/torch/nn/modules/module.py\u001b[0m in \u001b[0;36m__call__\u001b[0;34m(self, *input, **kwargs)\u001b[0m\n\u001b[1;32m    489\u001b[0m             \u001b[0mresult\u001b[0m \u001b[0;34m=\u001b[0m \u001b[0mself\u001b[0m\u001b[0;34m.\u001b[0m\u001b[0m_slow_forward\u001b[0m\u001b[0;34m(\u001b[0m\u001b[0;34m*\u001b[0m\u001b[0minput\u001b[0m\u001b[0;34m,\u001b[0m \u001b[0;34m**\u001b[0m\u001b[0mkwargs\u001b[0m\u001b[0;34m)\u001b[0m\u001b[0;34m\u001b[0m\u001b[0;34m\u001b[0m\u001b[0m\n\u001b[1;32m    490\u001b[0m         \u001b[0;32melse\u001b[0m\u001b[0;34m:\u001b[0m\u001b[0;34m\u001b[0m\u001b[0;34m\u001b[0m\u001b[0m\n\u001b[0;32m--> 491\u001b[0;31m             \u001b[0mresult\u001b[0m \u001b[0;34m=\u001b[0m \u001b[0mself\u001b[0m\u001b[0;34m.\u001b[0m\u001b[0mforward\u001b[0m\u001b[0;34m(\u001b[0m\u001b[0;34m*\u001b[0m\u001b[0minput\u001b[0m\u001b[0;34m,\u001b[0m \u001b[0;34m**\u001b[0m\u001b[0mkwargs\u001b[0m\u001b[0;34m)\u001b[0m\u001b[0;34m\u001b[0m\u001b[0;34m\u001b[0m\u001b[0m\n\u001b[0m\u001b[1;32m    492\u001b[0m         \u001b[0;32mfor\u001b[0m \u001b[0mhook\u001b[0m \u001b[0;32min\u001b[0m \u001b[0mself\u001b[0m\u001b[0;34m.\u001b[0m\u001b[0m_forward_hooks\u001b[0m\u001b[0;34m.\u001b[0m\u001b[0mvalues\u001b[0m\u001b[0;34m(\u001b[0m\u001b[0;34m)\u001b[0m\u001b[0;34m:\u001b[0m\u001b[0;34m\u001b[0m\u001b[0;34m\u001b[0m\u001b[0m\n\u001b[1;32m    493\u001b[0m             \u001b[0mhook_result\u001b[0m \u001b[0;34m=\u001b[0m \u001b[0mhook\u001b[0m\u001b[0;34m(\u001b[0m\u001b[0mself\u001b[0m\u001b[0;34m,\u001b[0m \u001b[0minput\u001b[0m\u001b[0;34m,\u001b[0m \u001b[0mresult\u001b[0m\u001b[0;34m)\u001b[0m\u001b[0;34m\u001b[0m\u001b[0;34m\u001b[0m\u001b[0m\n",
      "\u001b[0;32m<ipython-input-16-5443dd34e8c7>\u001b[0m in \u001b[0;36mforward\u001b[0;34m(self, x)\u001b[0m\n\u001b[1;32m     77\u001b[0m \u001b[0;34m\u001b[0m\u001b[0m\n\u001b[1;32m     78\u001b[0m     \u001b[0;32mdef\u001b[0m \u001b[0mforward\u001b[0m\u001b[0;34m(\u001b[0m\u001b[0mself\u001b[0m\u001b[0;34m,\u001b[0m \u001b[0mx\u001b[0m\u001b[0;34m)\u001b[0m\u001b[0;34m:\u001b[0m\u001b[0;34m\u001b[0m\u001b[0;34m\u001b[0m\u001b[0m\n\u001b[0;32m---> 79\u001b[0;31m         \u001b[0mnet\u001b[0m \u001b[0;34m=\u001b[0m \u001b[0mself\u001b[0m\u001b[0;34m.\u001b[0m\u001b[0m_feature\u001b[0m\u001b[0;34m(\u001b[0m\u001b[0mx\u001b[0m\u001b[0;34m)\u001b[0m\u001b[0;34m\u001b[0m\u001b[0;34m\u001b[0m\u001b[0m\n\u001b[0m\u001b[1;32m     80\u001b[0m         \u001b[0mnet\u001b[0m \u001b[0;34m=\u001b[0m \u001b[0mtorch\u001b[0m\u001b[0;34m.\u001b[0m\u001b[0mnn\u001b[0m\u001b[0;34m.\u001b[0m\u001b[0mAvgPool2d\u001b[0m\u001b[0;34m(\u001b[0m\u001b[0mnet\u001b[0m\u001b[0;34m.\u001b[0m\u001b[0msize\u001b[0m\u001b[0;34m(\u001b[0m\u001b[0;34m)\u001b[0m\u001b[0;34m[\u001b[0m\u001b[0;36m2\u001b[0m\u001b[0;34m:\u001b[0m\u001b[0;34m]\u001b[0m\u001b[0;34m)\u001b[0m\u001b[0;34m(\u001b[0m\u001b[0mnet\u001b[0m\u001b[0;34m)\u001b[0m\u001b[0;34m\u001b[0m\u001b[0;34m\u001b[0m\u001b[0m\n\u001b[1;32m     81\u001b[0m         \u001b[0;32mreturn\u001b[0m \u001b[0mself\u001b[0m\u001b[0;34m.\u001b[0m\u001b[0m_classifier\u001b[0m\u001b[0;34m(\u001b[0m\u001b[0mnet\u001b[0m\u001b[0;34m.\u001b[0m\u001b[0mview\u001b[0m\u001b[0;34m(\u001b[0m\u001b[0;34m-\u001b[0m\u001b[0;36m1\u001b[0m\u001b[0;34m,\u001b[0m\u001b[0;36m128\u001b[0m\u001b[0;34m)\u001b[0m\u001b[0;34m)\u001b[0m\u001b[0;34m\u001b[0m\u001b[0;34m\u001b[0m\u001b[0m\n",
      "\u001b[0;32m/opt/conda/lib/python3.6/site-packages/torch/nn/modules/module.py\u001b[0m in \u001b[0;36m__call__\u001b[0;34m(self, *input, **kwargs)\u001b[0m\n\u001b[1;32m    489\u001b[0m             \u001b[0mresult\u001b[0m \u001b[0;34m=\u001b[0m \u001b[0mself\u001b[0m\u001b[0;34m.\u001b[0m\u001b[0m_slow_forward\u001b[0m\u001b[0;34m(\u001b[0m\u001b[0;34m*\u001b[0m\u001b[0minput\u001b[0m\u001b[0;34m,\u001b[0m \u001b[0;34m**\u001b[0m\u001b[0mkwargs\u001b[0m\u001b[0;34m)\u001b[0m\u001b[0;34m\u001b[0m\u001b[0;34m\u001b[0m\u001b[0m\n\u001b[1;32m    490\u001b[0m         \u001b[0;32melse\u001b[0m\u001b[0;34m:\u001b[0m\u001b[0;34m\u001b[0m\u001b[0;34m\u001b[0m\u001b[0m\n\u001b[0;32m--> 491\u001b[0;31m             \u001b[0mresult\u001b[0m \u001b[0;34m=\u001b[0m \u001b[0mself\u001b[0m\u001b[0;34m.\u001b[0m\u001b[0mforward\u001b[0m\u001b[0;34m(\u001b[0m\u001b[0;34m*\u001b[0m\u001b[0minput\u001b[0m\u001b[0;34m,\u001b[0m \u001b[0;34m**\u001b[0m\u001b[0mkwargs\u001b[0m\u001b[0;34m)\u001b[0m\u001b[0;34m\u001b[0m\u001b[0;34m\u001b[0m\u001b[0m\n\u001b[0m\u001b[1;32m    492\u001b[0m         \u001b[0;32mfor\u001b[0m \u001b[0mhook\u001b[0m \u001b[0;32min\u001b[0m \u001b[0mself\u001b[0m\u001b[0;34m.\u001b[0m\u001b[0m_forward_hooks\u001b[0m\u001b[0;34m.\u001b[0m\u001b[0mvalues\u001b[0m\u001b[0;34m(\u001b[0m\u001b[0;34m)\u001b[0m\u001b[0;34m:\u001b[0m\u001b[0;34m\u001b[0m\u001b[0;34m\u001b[0m\u001b[0m\n\u001b[1;32m    493\u001b[0m             \u001b[0mhook_result\u001b[0m \u001b[0;34m=\u001b[0m \u001b[0mhook\u001b[0m\u001b[0;34m(\u001b[0m\u001b[0mself\u001b[0m\u001b[0;34m,\u001b[0m \u001b[0minput\u001b[0m\u001b[0;34m,\u001b[0m \u001b[0mresult\u001b[0m\u001b[0;34m)\u001b[0m\u001b[0;34m\u001b[0m\u001b[0;34m\u001b[0m\u001b[0m\n",
      "\u001b[0;32m/opt/conda/lib/python3.6/site-packages/torch/nn/modules/container.py\u001b[0m in \u001b[0;36mforward\u001b[0;34m(self, input)\u001b[0m\n\u001b[1;32m     95\u001b[0m     \u001b[0;32mdef\u001b[0m \u001b[0mforward\u001b[0m\u001b[0;34m(\u001b[0m\u001b[0mself\u001b[0m\u001b[0;34m,\u001b[0m \u001b[0minput\u001b[0m\u001b[0;34m)\u001b[0m\u001b[0;34m:\u001b[0m\u001b[0;34m\u001b[0m\u001b[0;34m\u001b[0m\u001b[0m\n\u001b[1;32m     96\u001b[0m         \u001b[0;32mfor\u001b[0m \u001b[0mmodule\u001b[0m \u001b[0;32min\u001b[0m \u001b[0mself\u001b[0m\u001b[0;34m.\u001b[0m\u001b[0m_modules\u001b[0m\u001b[0;34m.\u001b[0m\u001b[0mvalues\u001b[0m\u001b[0;34m(\u001b[0m\u001b[0;34m)\u001b[0m\u001b[0;34m:\u001b[0m\u001b[0;34m\u001b[0m\u001b[0;34m\u001b[0m\u001b[0m\n\u001b[0;32m---> 97\u001b[0;31m             \u001b[0minput\u001b[0m \u001b[0;34m=\u001b[0m \u001b[0mmodule\u001b[0m\u001b[0;34m(\u001b[0m\u001b[0minput\u001b[0m\u001b[0;34m)\u001b[0m\u001b[0;34m\u001b[0m\u001b[0;34m\u001b[0m\u001b[0m\n\u001b[0m\u001b[1;32m     98\u001b[0m         \u001b[0;32mreturn\u001b[0m \u001b[0minput\u001b[0m\u001b[0;34m\u001b[0m\u001b[0;34m\u001b[0m\u001b[0m\n\u001b[1;32m     99\u001b[0m \u001b[0;34m\u001b[0m\u001b[0m\n",
      "\u001b[0;32m/opt/conda/lib/python3.6/site-packages/torch/nn/modules/module.py\u001b[0m in \u001b[0;36m__call__\u001b[0;34m(self, *input, **kwargs)\u001b[0m\n\u001b[1;32m    489\u001b[0m             \u001b[0mresult\u001b[0m \u001b[0;34m=\u001b[0m \u001b[0mself\u001b[0m\u001b[0;34m.\u001b[0m\u001b[0m_slow_forward\u001b[0m\u001b[0;34m(\u001b[0m\u001b[0;34m*\u001b[0m\u001b[0minput\u001b[0m\u001b[0;34m,\u001b[0m \u001b[0;34m**\u001b[0m\u001b[0mkwargs\u001b[0m\u001b[0;34m)\u001b[0m\u001b[0;34m\u001b[0m\u001b[0;34m\u001b[0m\u001b[0m\n\u001b[1;32m    490\u001b[0m         \u001b[0;32melse\u001b[0m\u001b[0;34m:\u001b[0m\u001b[0;34m\u001b[0m\u001b[0;34m\u001b[0m\u001b[0m\n\u001b[0;32m--> 491\u001b[0;31m             \u001b[0mresult\u001b[0m \u001b[0;34m=\u001b[0m \u001b[0mself\u001b[0m\u001b[0;34m.\u001b[0m\u001b[0mforward\u001b[0m\u001b[0;34m(\u001b[0m\u001b[0;34m*\u001b[0m\u001b[0minput\u001b[0m\u001b[0;34m,\u001b[0m \u001b[0;34m**\u001b[0m\u001b[0mkwargs\u001b[0m\u001b[0;34m)\u001b[0m\u001b[0;34m\u001b[0m\u001b[0;34m\u001b[0m\u001b[0m\n\u001b[0m\u001b[1;32m    492\u001b[0m         \u001b[0;32mfor\u001b[0m \u001b[0mhook\u001b[0m \u001b[0;32min\u001b[0m \u001b[0mself\u001b[0m\u001b[0;34m.\u001b[0m\u001b[0m_forward_hooks\u001b[0m\u001b[0;34m.\u001b[0m\u001b[0mvalues\u001b[0m\u001b[0;34m(\u001b[0m\u001b[0;34m)\u001b[0m\u001b[0;34m:\u001b[0m\u001b[0;34m\u001b[0m\u001b[0;34m\u001b[0m\u001b[0m\n\u001b[1;32m    493\u001b[0m             \u001b[0mhook_result\u001b[0m \u001b[0;34m=\u001b[0m \u001b[0mhook\u001b[0m\u001b[0;34m(\u001b[0m\u001b[0mself\u001b[0m\u001b[0;34m,\u001b[0m \u001b[0minput\u001b[0m\u001b[0;34m,\u001b[0m \u001b[0mresult\u001b[0m\u001b[0;34m)\u001b[0m\u001b[0;34m\u001b[0m\u001b[0;34m\u001b[0m\u001b[0m\n",
      "\u001b[0;32m<ipython-input-16-5443dd34e8c7>\u001b[0m in \u001b[0;36mforward\u001b[0;34m(self, x)\u001b[0m\n\u001b[1;32m     23\u001b[0m \u001b[0;34m\u001b[0m\u001b[0m\n\u001b[1;32m     24\u001b[0m     \u001b[0;32mdef\u001b[0m \u001b[0mforward\u001b[0m\u001b[0;34m(\u001b[0m\u001b[0mself\u001b[0m\u001b[0;34m,\u001b[0m \u001b[0mx\u001b[0m\u001b[0;34m)\u001b[0m\u001b[0;34m:\u001b[0m\u001b[0;34m\u001b[0m\u001b[0;34m\u001b[0m\u001b[0m\n\u001b[0;32m---> 25\u001b[0;31m         \u001b[0mx\u001b[0m \u001b[0;34m=\u001b[0m \u001b[0mself\u001b[0m\u001b[0;34m.\u001b[0m\u001b[0mtaylor\u001b[0m\u001b[0;34m(\u001b[0m\u001b[0mx\u001b[0m\u001b[0;34m)\u001b[0m\u001b[0;34m\u001b[0m\u001b[0;34m\u001b[0m\u001b[0m\n\u001b[0m\u001b[1;32m     26\u001b[0m         \u001b[0mx\u001b[0m \u001b[0;34m=\u001b[0m \u001b[0mself\u001b[0m\u001b[0;34m.\u001b[0m\u001b[0mbatchNorm2d\u001b[0m\u001b[0;34m(\u001b[0m\u001b[0mx\u001b[0m\u001b[0;34m)\u001b[0m\u001b[0;34m\u001b[0m\u001b[0;34m\u001b[0m\u001b[0m\n\u001b[1;32m     27\u001b[0m         \u001b[0mx\u001b[0m \u001b[0;34m=\u001b[0m \u001b[0mself\u001b[0m\u001b[0;34m.\u001b[0m\u001b[0mconv2d\u001b[0m\u001b[0;34m(\u001b[0m\u001b[0mx\u001b[0m\u001b[0;34m)\u001b[0m\u001b[0;34m\u001b[0m\u001b[0;34m\u001b[0m\u001b[0m\n",
      "\u001b[0;32m<ipython-input-7-52a50a602855>\u001b[0m in \u001b[0;36m__call__\u001b[0;34m(self, inputs)\u001b[0m\n\u001b[1;32m     24\u001b[0m \u001b[0;34m\u001b[0m\u001b[0m\n\u001b[1;32m     25\u001b[0m     \u001b[0;32mdef\u001b[0m \u001b[0m__call__\u001b[0m\u001b[0;34m(\u001b[0m\u001b[0mself\u001b[0m\u001b[0;34m,\u001b[0m \u001b[0minputs\u001b[0m\u001b[0;34m)\u001b[0m\u001b[0;34m:\u001b[0m\u001b[0;34m\u001b[0m\u001b[0;34m\u001b[0m\u001b[0m\n\u001b[0;32m---> 26\u001b[0;31m         \u001b[0;32mreturn\u001b[0m \u001b[0mself\u001b[0m\u001b[0;34m.\u001b[0m\u001b[0mtaylorize\u001b[0m\u001b[0;34m(\u001b[0m\u001b[0minputs\u001b[0m\u001b[0;34m)\u001b[0m\u001b[0;34m\u001b[0m\u001b[0;34m\u001b[0m\u001b[0m\n\u001b[0m\u001b[1;32m     27\u001b[0m \u001b[0;34m\u001b[0m\u001b[0m\n\u001b[1;32m     28\u001b[0m     \u001b[0;32mdef\u001b[0m \u001b[0mcomputeTaylorWeights\u001b[0m\u001b[0;34m(\u001b[0m\u001b[0mself\u001b[0m\u001b[0;34m)\u001b[0m\u001b[0;34m:\u001b[0m\u001b[0;34m\u001b[0m\u001b[0;34m\u001b[0m\u001b[0m\n",
      "\u001b[0;32m<ipython-input-7-52a50a602855>\u001b[0m in \u001b[0;36mtaylorize\u001b[0;34m(self, inputs)\u001b[0m\n\u001b[1;32m    128\u001b[0m             \u001b[0minputsPadD2\u001b[0m \u001b[0;34m=\u001b[0m \u001b[0mtorch\u001b[0m\u001b[0;34m.\u001b[0m\u001b[0mnarrow\u001b[0m\u001b[0;34m(\u001b[0m\u001b[0minputsPadD1\u001b[0m\u001b[0;34m,\u001b[0m \u001b[0;36m3\u001b[0m\u001b[0;34m,\u001b[0m \u001b[0mself\u001b[0m\u001b[0;34m.\u001b[0m\u001b[0mpad\u001b[0m\u001b[0;34m+\u001b[0m\u001b[0mint\u001b[0m\u001b[0;34m(\u001b[0m\u001b[0mself\u001b[0m\u001b[0;34m.\u001b[0m\u001b[0mdjs\u001b[0m\u001b[0;34m[\u001b[0m\u001b[0mk\u001b[0m\u001b[0;34m]\u001b[0m\u001b[0;34m)\u001b[0m\u001b[0;34m,\u001b[0m \u001b[0mWidth\u001b[0m \u001b[0;34m)\u001b[0m\u001b[0;34m\u001b[0m\u001b[0;34m\u001b[0m\u001b[0m\n\u001b[1;32m    129\u001b[0m             \u001b[0;31m# fill\u001b[0m\u001b[0;34m\u001b[0m\u001b[0;34m\u001b[0m\u001b[0;34m\u001b[0m\u001b[0m\n\u001b[0;32m--> 130\u001b[0;31m             \u001b[0mout\u001b[0m \u001b[0;34m=\u001b[0m \u001b[0mtorch\u001b[0m\u001b[0;34m.\u001b[0m\u001b[0madd\u001b[0m\u001b[0;34m(\u001b[0m\u001b[0mtayloredInput\u001b[0m\u001b[0;34m,\u001b[0m \u001b[0mtorch\u001b[0m\u001b[0;34m.\u001b[0m\u001b[0meinsum\u001b[0m\u001b[0;34m(\u001b[0m\u001b[0;34m'dij,bcij->bdcij'\u001b[0m\u001b[0;34m,\u001b[0m \u001b[0mtGridAA\u001b[0m\u001b[0;34m[\u001b[0m\u001b[0;34m:\u001b[0m\u001b[0;34m,\u001b[0m\u001b[0;34m:\u001b[0m\u001b[0;34m,\u001b[0m\u001b[0;34m:\u001b[0m\u001b[0;34m,\u001b[0m\u001b[0mk\u001b[0m\u001b[0;34m]\u001b[0m\u001b[0;34m,\u001b[0m \u001b[0minputsPadD2\u001b[0m\u001b[0;34m)\u001b[0m\u001b[0;34m)\u001b[0m\u001b[0;34m\u001b[0m\u001b[0;34m\u001b[0m\u001b[0m\n\u001b[0m\u001b[1;32m    131\u001b[0m             \u001b[0mtayloredInput\u001b[0m \u001b[0;34m=\u001b[0m \u001b[0mout\u001b[0m\u001b[0;34m\u001b[0m\u001b[0;34m\u001b[0m\u001b[0m\n\u001b[1;32m    132\u001b[0m \u001b[0;34m\u001b[0m\u001b[0m\n",
      "\u001b[0;32m/opt/conda/lib/python3.6/site-packages/torch/functional.py\u001b[0m in \u001b[0;36meinsum\u001b[0;34m(equation, *operands)\u001b[0m\n\u001b[1;32m    195\u001b[0m         \u001b[0;31m# the old interface of passing the operands as one list argument\u001b[0m\u001b[0;34m\u001b[0m\u001b[0;34m\u001b[0m\u001b[0;34m\u001b[0m\u001b[0m\n\u001b[1;32m    196\u001b[0m         \u001b[0moperands\u001b[0m \u001b[0;34m=\u001b[0m \u001b[0moperands\u001b[0m\u001b[0;34m[\u001b[0m\u001b[0;36m0\u001b[0m\u001b[0;34m]\u001b[0m\u001b[0;34m\u001b[0m\u001b[0;34m\u001b[0m\u001b[0m\n\u001b[0;32m--> 197\u001b[0;31m     \u001b[0;32mreturn\u001b[0m \u001b[0mtorch\u001b[0m\u001b[0;34m.\u001b[0m\u001b[0m_C\u001b[0m\u001b[0;34m.\u001b[0m\u001b[0m_VariableFunctions\u001b[0m\u001b[0;34m.\u001b[0m\u001b[0meinsum\u001b[0m\u001b[0;34m(\u001b[0m\u001b[0mequation\u001b[0m\u001b[0;34m,\u001b[0m \u001b[0moperands\u001b[0m\u001b[0;34m)\u001b[0m\u001b[0;34m\u001b[0m\u001b[0;34m\u001b[0m\u001b[0m\n\u001b[0m\u001b[1;32m    198\u001b[0m \u001b[0;34m\u001b[0m\u001b[0m\n\u001b[1;32m    199\u001b[0m \u001b[0;34m\u001b[0m\u001b[0m\n",
      "\u001b[0;31mRuntimeError\u001b[0m: CUDA out of memory. Tried to allocate 464.00 MiB (GPU 0; 11.91 GiB total capacity; 10.56 GiB already allocated; 75.38 MiB free; 613.88 MiB cached)"
     ]
    }
   ],
   "source": [
    "from utils.utils import plot_confusion_matrix\n",
    "accuracy,label,prediction = inference(blob,test_loader)\n",
    "print('Accuracy mean',accuracy.mean(),'std',accuracy.std())\n",
    "plot_confusion_matrix(label,prediction,['e','mu','pip'])"
   ]
  },
  {
   "cell_type": "code",
   "execution_count": 29,
   "metadata": {},
   "outputs": [
    {
     "name": "stdout",
     "output_type": "stream",
     "text": [
      "<class 'torch.Tensor'> torch.Size([])\n",
      "<class 'torch.Tensor'> torch.Size([200, 3])\n",
      "<class 'torch.Tensor'> torch.Size([200])\n",
      "<class 'torch.Tensor'> torch.Size([200, 1, 105, 105])\n",
      "<class 'torch.Tensor'> torch.Size([200, 32, 52, 52])\n",
      "<class 'torch.Tensor'> torch.Size([200, 32, 54, 54])\n",
      "<class 'torch.Tensor'> torch.Size([200, 7, 32, 52, 52])\n",
      "<class 'torch.Tensor'> torch.Size([200, 32, 52, 54])\n",
      "<class 'torch.Tensor'> torch.Size([200, 32, 52, 52])\n",
      "<class 'torch.Tensor'> torch.Size([7, 52, 52])\n",
      "<class 'torch.Tensor'> torch.Size([7, 105, 105, 9])\n",
      "<class 'torch.Tensor'> torch.Size([52, 52])\n",
      "<class 'torch.Tensor'> torch.Size([6, 52, 52])\n",
      "<class 'torch.Tensor'> torch.Size([26, 26])\n",
      "<class 'torch.Tensor'> torch.Size([6, 26, 26])\n",
      "<class 'torch.Tensor'> torch.Size([52, 52])\n",
      "<class 'torch.Tensor'> torch.Size([6, 52, 52])\n",
      "<class 'torch.Tensor'> torch.Size([26, 26])\n",
      "<class 'torch.Tensor'> torch.Size([6, 26, 26])\n",
      "<class 'torch.nn.parameter.Parameter'> torch.Size([3])\n",
      "<class 'torch.nn.parameter.Parameter'> torch.Size([3, 32])\n",
      "<class 'torch.nn.parameter.Parameter'> torch.Size([32])\n",
      "<class 'torch.nn.parameter.Parameter'> torch.Size([32, 128])\n",
      "<class 'torch.nn.parameter.Parameter'> torch.Size([128])\n",
      "<class 'torch.nn.parameter.Parameter'> torch.Size([128, 128, 3, 3])\n",
      "<class 'torch.nn.parameter.Parameter'> torch.Size([128])\n",
      "<class 'torch.nn.parameter.Parameter'> torch.Size([128])\n",
      "<class 'torch.nn.parameter.Parameter'> torch.Size([128])\n",
      "<class 'torch.nn.parameter.Parameter'> torch.Size([128, 64, 3, 3])\n",
      "<class 'torch.nn.parameter.Parameter'> torch.Size([64])\n",
      "<class 'torch.nn.parameter.Parameter'> torch.Size([64])\n",
      "<class 'torch.nn.parameter.Parameter'> torch.Size([64])\n",
      "<class 'torch.nn.parameter.Parameter'> torch.Size([64, 448, 1, 1])\n",
      "<class 'torch.nn.parameter.Parameter'> torch.Size([448])\n",
      "<class 'torch.nn.parameter.Parameter'> torch.Size([448])\n",
      "<class 'torch.nn.parameter.Parameter'> torch.Size([64])\n",
      "<class 'torch.nn.parameter.Parameter'> torch.Size([64, 224, 1, 1])\n",
      "<class 'torch.nn.parameter.Parameter'> torch.Size([224])\n",
      "<class 'torch.nn.parameter.Parameter'> torch.Size([224])\n",
      "<class 'torch.nn.parameter.Parameter'> torch.Size([32])\n",
      "<class 'torch.nn.parameter.Parameter'> torch.Size([32, 224, 1, 1])\n",
      "<class 'torch.nn.parameter.Parameter'> torch.Size([224])\n",
      "<class 'torch.nn.parameter.Parameter'> torch.Size([224])\n",
      "<class 'torch.nn.parameter.Parameter'> torch.Size([32])\n",
      "<class 'torch.nn.parameter.Parameter'> torch.Size([32, 224, 1, 1])\n",
      "<class 'torch.nn.parameter.Parameter'> torch.Size([224])\n",
      "<class 'torch.nn.parameter.Parameter'> torch.Size([224])\n",
      "<class 'torch.nn.parameter.Parameter'> torch.Size([32])\n",
      "<class 'torch.nn.parameter.Parameter'> torch.Size([32, 112, 1, 1])\n",
      "<class 'torch.nn.parameter.Parameter'> torch.Size([112])\n",
      "<class 'torch.nn.parameter.Parameter'> torch.Size([112])\n",
      "<class 'torch.nn.parameter.Parameter'> torch.Size([16])\n",
      "<class 'torch.nn.parameter.Parameter'> torch.Size([16, 7, 1, 1])\n",
      "<class 'torch.nn.parameter.Parameter'> torch.Size([7])\n",
      "<class 'torch.nn.parameter.Parameter'> torch.Size([7])\n",
      "<class 'torch.Tensor'> torch.Size([64, 1, 105, 105])\n",
      "<class 'torch.Tensor'> torch.Size([])\n",
      "<class 'torch.Tensor'> torch.Size([64, 32, 26, 26])\n",
      "<class 'torch.nn.parameter.Parameter'> torch.Size([7])\n",
      "<class 'torch.nn.parameter.Parameter'> torch.Size([7])\n",
      "<class 'torch.nn.parameter.Parameter'> torch.Size([16, 7, 1, 1])\n",
      "<class 'torch.nn.parameter.Parameter'> torch.Size([16])\n",
      "<class 'torch.nn.parameter.Parameter'> torch.Size([112])\n",
      "<class 'torch.nn.parameter.Parameter'> torch.Size([112])\n",
      "<class 'torch.nn.parameter.Parameter'> torch.Size([32, 112, 1, 1])\n",
      "<class 'torch.nn.parameter.Parameter'> torch.Size([32])\n",
      "<class 'torch.nn.parameter.Parameter'> torch.Size([224])\n",
      "<class 'torch.nn.parameter.Parameter'> torch.Size([224])\n",
      "<class 'torch.nn.parameter.Parameter'> torch.Size([32, 224, 1, 1])\n",
      "<class 'torch.nn.parameter.Parameter'> torch.Size([32])\n",
      "<class 'torch.nn.parameter.Parameter'> torch.Size([224])\n",
      "<class 'torch.nn.parameter.Parameter'> torch.Size([224])\n",
      "<class 'torch.nn.parameter.Parameter'> torch.Size([32, 224, 1, 1])\n",
      "<class 'torch.nn.parameter.Parameter'> torch.Size([32])\n",
      "<class 'torch.nn.parameter.Parameter'> torch.Size([224])\n",
      "<class 'torch.nn.parameter.Parameter'> torch.Size([224])\n",
      "<class 'torch.nn.parameter.Parameter'> torch.Size([64, 224, 1, 1])\n",
      "<class 'torch.nn.parameter.Parameter'> torch.Size([64])\n",
      "<class 'torch.nn.parameter.Parameter'> torch.Size([448])\n",
      "<class 'torch.nn.parameter.Parameter'> torch.Size([448])\n",
      "<class 'torch.nn.parameter.Parameter'> torch.Size([64, 448, 1, 1])\n",
      "<class 'torch.nn.parameter.Parameter'> torch.Size([64])\n",
      "<class 'torch.nn.parameter.Parameter'> torch.Size([64])\n",
      "<class 'torch.nn.parameter.Parameter'> torch.Size([64])\n",
      "<class 'torch.nn.parameter.Parameter'> torch.Size([128, 64, 3, 3])\n",
      "<class 'torch.nn.parameter.Parameter'> torch.Size([128])\n",
      "<class 'torch.nn.parameter.Parameter'> torch.Size([128])\n",
      "<class 'torch.nn.parameter.Parameter'> torch.Size([128])\n",
      "<class 'torch.nn.parameter.Parameter'> torch.Size([128, 128, 3, 3])\n",
      "<class 'torch.nn.parameter.Parameter'> torch.Size([128])\n",
      "<class 'torch.nn.parameter.Parameter'> torch.Size([32, 128])\n",
      "<class 'torch.nn.parameter.Parameter'> torch.Size([32])\n",
      "<class 'torch.nn.parameter.Parameter'> torch.Size([3, 32])\n",
      "<class 'torch.nn.parameter.Parameter'> torch.Size([3])\n",
      "<class 'torch.Tensor'> torch.Size([7])\n",
      "<class 'torch.Tensor'> torch.Size([7])\n",
      "<class 'torch.Tensor'> torch.Size([7])\n",
      "<class 'torch.Tensor'> torch.Size([7])\n",
      "<class 'torch.Tensor'> torch.Size([16, 7, 1, 1])\n",
      "<class 'torch.Tensor'> torch.Size([16, 7, 1, 1])\n",
      "<class 'torch.Tensor'> torch.Size([16])\n",
      "<class 'torch.Tensor'> torch.Size([16])\n",
      "<class 'torch.Tensor'> torch.Size([112])\n",
      "<class 'torch.Tensor'> torch.Size([112])\n",
      "<class 'torch.Tensor'> torch.Size([112])\n",
      "<class 'torch.Tensor'> torch.Size([112])\n",
      "<class 'torch.Tensor'> torch.Size([32, 112, 1, 1])\n",
      "<class 'torch.Tensor'> torch.Size([32, 112, 1, 1])\n",
      "<class 'torch.Tensor'> torch.Size([32])\n",
      "<class 'torch.Tensor'> torch.Size([32])\n",
      "<class 'torch.Tensor'> torch.Size([224])\n",
      "<class 'torch.Tensor'> torch.Size([224])\n",
      "<class 'torch.Tensor'> torch.Size([224])\n",
      "<class 'torch.Tensor'> torch.Size([224])\n",
      "<class 'torch.Tensor'> torch.Size([32, 224, 1, 1])\n",
      "<class 'torch.Tensor'> torch.Size([32, 224, 1, 1])\n",
      "<class 'torch.Tensor'> torch.Size([32])\n",
      "<class 'torch.Tensor'> torch.Size([32])\n",
      "<class 'torch.Tensor'> torch.Size([224])\n",
      "<class 'torch.Tensor'> torch.Size([224])\n",
      "<class 'torch.Tensor'> torch.Size([224])\n",
      "<class 'torch.Tensor'> torch.Size([224])\n",
      "<class 'torch.Tensor'> torch.Size([32, 224, 1, 1])\n",
      "<class 'torch.Tensor'> torch.Size([32, 224, 1, 1])\n",
      "<class 'torch.Tensor'> torch.Size([32])\n",
      "<class 'torch.Tensor'> torch.Size([32])\n",
      "<class 'torch.Tensor'> torch.Size([224])\n",
      "<class 'torch.Tensor'> torch.Size([224])\n",
      "<class 'torch.Tensor'> torch.Size([224])\n",
      "<class 'torch.Tensor'> torch.Size([224])\n",
      "<class 'torch.Tensor'> torch.Size([64, 224, 1, 1])\n",
      "<class 'torch.Tensor'> torch.Size([64, 224, 1, 1])\n",
      "<class 'torch.Tensor'> torch.Size([64])\n",
      "<class 'torch.Tensor'> torch.Size([64])\n",
      "<class 'torch.Tensor'> torch.Size([448])\n",
      "<class 'torch.Tensor'> torch.Size([448])\n",
      "<class 'torch.Tensor'> torch.Size([448])\n",
      "<class 'torch.Tensor'> torch.Size([448])\n",
      "<class 'torch.Tensor'> torch.Size([64, 448, 1, 1])\n",
      "<class 'torch.Tensor'> torch.Size([64, 448, 1, 1])\n",
      "<class 'torch.Tensor'> torch.Size([64])\n",
      "<class 'torch.Tensor'> torch.Size([64])\n",
      "<class 'torch.Tensor'> torch.Size([64])\n",
      "<class 'torch.Tensor'> torch.Size([64])\n",
      "<class 'torch.Tensor'> torch.Size([64])\n",
      "<class 'torch.Tensor'> torch.Size([64])\n",
      "<class 'torch.Tensor'> torch.Size([128, 64, 3, 3])\n",
      "<class 'torch.Tensor'> torch.Size([128, 64, 3, 3])\n",
      "<class 'torch.Tensor'> torch.Size([128])\n",
      "<class 'torch.Tensor'> torch.Size([128])\n",
      "<class 'torch.Tensor'> torch.Size([128])\n",
      "<class 'torch.Tensor'> torch.Size([128])\n",
      "<class 'torch.Tensor'> torch.Size([128])\n",
      "<class 'torch.Tensor'> torch.Size([128])\n",
      "<class 'torch.Tensor'> torch.Size([128, 128, 3, 3])\n",
      "<class 'torch.Tensor'> torch.Size([128, 128, 3, 3])\n",
      "<class 'torch.Tensor'> torch.Size([128])\n",
      "<class 'torch.Tensor'> torch.Size([128])\n",
      "<class 'torch.Tensor'> torch.Size([32, 128])\n",
      "<class 'torch.Tensor'> torch.Size([32, 128])\n",
      "<class 'torch.Tensor'> torch.Size([32])\n",
      "<class 'torch.Tensor'> torch.Size([32])\n",
      "<class 'torch.Tensor'> torch.Size([3, 32])\n",
      "<class 'torch.Tensor'> torch.Size([3, 32])\n",
      "<class 'torch.Tensor'> torch.Size([3])\n",
      "<class 'torch.Tensor'> torch.Size([3])\n",
      "<class 'torch.Tensor'> torch.Size([7, 52, 52, 9])\n",
      "<class 'torch.Tensor'> torch.Size([7, 26, 26, 9])\n",
      "<class 'torch.Tensor'> torch.Size([7, 26, 26, 9])\n",
      "<class 'torch.Tensor'> torch.Size([64, 32, 28, 28])\n",
      "<class 'torch.Tensor'> torch.Size([7])\n",
      "<class 'torch.Tensor'> torch.Size([7])\n",
      "<class 'torch.Tensor'> torch.Size([])\n",
      "<class 'torch.Tensor'> torch.Size([112])\n",
      "<class 'torch.Tensor'> torch.Size([112])\n",
      "<class 'torch.Tensor'> torch.Size([])\n",
      "<class 'torch.Tensor'> torch.Size([224])\n",
      "<class 'torch.Tensor'> torch.Size([224])\n",
      "<class 'torch.Tensor'> torch.Size([])\n",
      "<class 'torch.Tensor'> torch.Size([224])\n",
      "<class 'torch.Tensor'> torch.Size([224])\n",
      "<class 'torch.Tensor'> torch.Size([])\n",
      "<class 'torch.Tensor'> torch.Size([224])\n",
      "<class 'torch.Tensor'> torch.Size([224])\n",
      "<class 'torch.Tensor'> torch.Size([])\n",
      "<class 'torch.Tensor'> torch.Size([448])\n",
      "<class 'torch.Tensor'> torch.Size([448])\n",
      "<class 'torch.Tensor'> torch.Size([])\n",
      "<class 'torch.Tensor'> torch.Size([64])\n",
      "<class 'torch.Tensor'> torch.Size([64])\n",
      "<class 'torch.Tensor'> torch.Size([])\n",
      "<class 'torch.Tensor'> torch.Size([128])\n",
      "<class 'torch.Tensor'> torch.Size([128])\n",
      "<class 'torch.Tensor'> torch.Size([])\n",
      "<class 'torch.Tensor'> torch.Size([224])\n",
      "<class 'torch.Tensor'> torch.Size([224])\n",
      "<class 'torch.Tensor'> torch.Size([])\n",
      "<class 'torch.Tensor'> torch.Size([7, 52, 52, 9])\n",
      "<class 'torch.Tensor'> torch.Size([7])\n",
      "<class 'torch.Tensor'> torch.Size([7])\n",
      "<class 'torch.Tensor'> torch.Size([])\n",
      "<class 'torch.Tensor'> torch.Size([112])\n",
      "<class 'torch.Tensor'> torch.Size([112])\n",
      "<class 'torch.Tensor'> torch.Size([])\n",
      "<class 'torch.Tensor'> torch.Size([224])\n",
      "<class 'torch.Tensor'> torch.Size([224])\n",
      "<class 'torch.Tensor'> torch.Size([])\n",
      "<class 'torch.Tensor'> torch.Size([224])\n",
      "<class 'torch.Tensor'> torch.Size([224])\n",
      "<class 'torch.Tensor'> torch.Size([])\n",
      "<class 'torch.Tensor'> torch.Size([448])\n",
      "<class 'torch.Tensor'> torch.Size([448])\n",
      "<class 'torch.Tensor'> torch.Size([])\n",
      "<class 'torch.Tensor'> torch.Size([64])\n",
      "<class 'torch.Tensor'> torch.Size([64])\n",
      "<class 'torch.Tensor'> torch.Size([])\n",
      "<class 'torch.Tensor'> torch.Size([128])\n",
      "<class 'torch.Tensor'> torch.Size([128])\n",
      "<class 'torch.Tensor'> torch.Size([])\n",
      "<class 'torch.Tensor'> torch.Size([7])\n",
      "<class 'torch.Tensor'> torch.Size([7])\n",
      "<class 'torch.Tensor'> torch.Size([16, 7, 1, 1])\n",
      "<class 'torch.Tensor'> torch.Size([16])\n",
      "<class 'torch.Tensor'> torch.Size([112])\n",
      "<class 'torch.Tensor'> torch.Size([112])\n",
      "<class 'torch.Tensor'> torch.Size([32, 112, 1, 1])\n",
      "<class 'torch.Tensor'> torch.Size([32])\n",
      "<class 'torch.Tensor'> torch.Size([224])\n",
      "<class 'torch.Tensor'> torch.Size([224])\n",
      "<class 'torch.Tensor'> torch.Size([32, 224, 1, 1])\n",
      "<class 'torch.Tensor'> torch.Size([32])\n",
      "<class 'torch.Tensor'> torch.Size([224])\n",
      "<class 'torch.Tensor'> torch.Size([224])\n",
      "<class 'torch.Tensor'> torch.Size([32, 224, 1, 1])\n",
      "<class 'torch.Tensor'> torch.Size([32])\n",
      "<class 'torch.Tensor'> torch.Size([224])\n",
      "<class 'torch.Tensor'> torch.Size([224])\n",
      "<class 'torch.Tensor'> torch.Size([64, 224, 1, 1])\n",
      "<class 'torch.Tensor'> torch.Size([64])\n",
      "<class 'torch.Tensor'> torch.Size([448])\n",
      "<class 'torch.Tensor'> torch.Size([448])\n",
      "<class 'torch.Tensor'> torch.Size([64, 448, 1, 1])\n",
      "<class 'torch.Tensor'> torch.Size([64])\n",
      "<class 'torch.Tensor'> torch.Size([64])\n",
      "<class 'torch.Tensor'> torch.Size([64])\n",
      "<class 'torch.Tensor'> torch.Size([128, 64, 3, 3])\n",
      "<class 'torch.Tensor'> torch.Size([128])\n",
      "<class 'torch.Tensor'> torch.Size([128])\n",
      "<class 'torch.Tensor'> torch.Size([128])\n",
      "<class 'torch.Tensor'> torch.Size([128, 128, 3, 3])\n",
      "<class 'torch.Tensor'> torch.Size([128])\n",
      "<class 'torch.Tensor'> torch.Size([32, 128])\n",
      "<class 'torch.Tensor'> torch.Size([32])\n",
      "<class 'torch.Tensor'> torch.Size([3, 32])\n",
      "<class 'torch.Tensor'> torch.Size([3])\n",
      "<class 'torch.Tensor'> torch.Size([64, 224, 1, 1])\n",
      "<class 'torch.Tensor'> torch.Size([64])\n",
      "<class 'torch.Tensor'> torch.Size([448])\n",
      "<class 'torch.Tensor'> torch.Size([448])\n",
      "<class 'torch.Tensor'> torch.Size([64, 448, 1, 1])\n",
      "<class 'torch.Tensor'> torch.Size([64])\n",
      "<class 'torch.Tensor'> torch.Size([64])\n",
      "<class 'torch.Tensor'> torch.Size([64])\n",
      "<class 'torch.Tensor'> torch.Size([128, 64, 3, 3])\n",
      "<class 'torch.Tensor'> torch.Size([128])\n",
      "<class 'torch.Tensor'> torch.Size([128])\n",
      "<class 'torch.Tensor'> torch.Size([128])\n",
      "<class 'torch.Tensor'> torch.Size([128, 128, 3, 3])\n",
      "<class 'torch.Tensor'> torch.Size([128])\n",
      "<class 'torch.Tensor'> torch.Size([32, 128])\n",
      "<class 'torch.Tensor'> torch.Size([32])\n",
      "<class 'torch.Tensor'> torch.Size([3, 32])\n",
      "<class 'torch.Tensor'> torch.Size([3])\n",
      "<class 'torch.Tensor'> torch.Size([56, 3])\n",
      "<class 'torch.Tensor'> torch.Size([56])\n",
      "<class 'torch.Tensor'> torch.Size([7])\n",
      "<class 'torch.Tensor'> torch.Size([7])\n",
      "<class 'torch.Tensor'> torch.Size([16, 7, 1, 1])\n",
      "<class 'torch.Tensor'> torch.Size([16])\n",
      "<class 'torch.Tensor'> torch.Size([112])\n",
      "<class 'torch.Tensor'> torch.Size([112])\n",
      "<class 'torch.Tensor'> torch.Size([32, 112, 1, 1])\n",
      "<class 'torch.Tensor'> torch.Size([32])\n",
      "<class 'torch.Tensor'> torch.Size([224])\n",
      "<class 'torch.Tensor'> torch.Size([224])\n",
      "<class 'torch.Tensor'> torch.Size([32, 224, 1, 1])\n",
      "<class 'torch.Tensor'> torch.Size([32])\n",
      "<class 'torch.Tensor'> torch.Size([224])\n",
      "<class 'torch.Tensor'> torch.Size([224])\n",
      "<class 'torch.Tensor'> torch.Size([32, 224, 1, 1])\n",
      "<class 'torch.Tensor'> torch.Size([32])\n",
      "<class 'torch.Tensor'> torch.Size([224])\n",
      "<class 'torch.Tensor'> torch.Size([224])\n"
     ]
    },
    {
     "name": "stderr",
     "output_type": "stream",
     "text": [
      "/opt/conda/lib/python3.6/site-packages/torch/distributed/distributed_c10d.py:86: UserWarning: torch.distributed.reduce_op is deprecated, please use torch.distributed.ReduceOp instead\n",
      "  warnings.warn(\"torch.distributed.reduce_op is deprecated, please use \"\n",
      "/opt/conda/lib/python3.6/importlib/__init__.py:126: H5pyDeprecationWarning: The h5py.highlevel module is deprecated, code should import directly from h5py, e.g. 'from h5py import File'.\n",
      "  return _bootstrap._gcd_import(name[level:], package, level)\n",
      "/opt/conda/lib/python3.6/site-packages/ipykernel_launcher.py:5: FutureWarning: RangeIndex.data is deprecated and will be removed in a future version\n",
      "  \"\"\"\n",
      "/opt/conda/lib/python3.6/site-packages/ipykernel_launcher.py:5: FutureWarning: Index.data is deprecated and will be removed in a future version\n",
      "  \"\"\"\n",
      "/opt/conda/lib/python3.6/site-packages/ipykernel_launcher.py:5: FutureWarning: Series.data is deprecated and will be removed in a future version\n",
      "  \"\"\"\n",
      "/opt/conda/lib/python3.6/site-packages/ipykernel_launcher.py:5: FutureWarning: Int64Index.data is deprecated and will be removed in a future version\n",
      "  \"\"\"\n"
     ]
    }
   ],
   "source": [
    "import torch\n",
    "import gc\n",
    "for obj in gc.get_objects():\n",
    "    try:\n",
    "        if torch.is_tensor(obj) or (hasattr(obj, 'data') and torch.is_tensor(obj.data)):\n",
    "            print(type(obj), obj.size())\n",
    "    except:\n",
    "        pass"
   ]
  },
  {
   "cell_type": "code",
   "execution_count": null,
   "metadata": {},
   "outputs": [],
   "source": [
    "with torch.no_grad():\n",
    "    blob.net.eval()\n",
    "    test_data = next(iter(test_loader))\n",
    "    blob.data,blob.label = test_data[0:2]\n",
    "    \n",
    "    data = torch.as_tensor(blob.data).cuda()\n",
    "    data = data.permute(0,3,1,2)\n",
    "    # prediction = blob.net(data)\n",
    "    \n",
    "    ev=1\n",
    "    \n",
    "    fig, (ax0) = plt.subplots(1, 1, figsize=(16,3),facecolor='w')\n",
    "    im = ax0.imshow(data[ev,0,:,:].cpu())\n",
    "    cbar = ax0.figure.colorbar(im, ax=ax0)\n",
    "    plt.show()\n",
    "    \n",
    "    x = data\n",
    "    for i,module in enumerate(blob.net._feature):\n",
    "        print('_feature', i, module)\n",
    "        \n",
    "        if hasattr(module, 'taylor'):\n",
    "            print('taylor inputs:')\n",
    "            tx = module.taylor(x)\n",
    "            fig, axes = plt.subplots(1, 7, figsize=(16,3),facecolor='w')\n",
    "            for i in range(7):\n",
    "                im = imshowRdBu(axes[i], tx[ev,i*x.shape[1],:,:].cpu())\n",
    "                cbar = axes[i].figure.colorbar(im, ax=axes[i])\n",
    "            plt.show()\n",
    "            print('module output:')\n",
    "        \n",
    "        x = module(x)\n",
    "        fig, axes = plt.subplots(1, 5, figsize=(16,3),facecolor='w')\n",
    "        for i in range(5):\n",
    "            im = imshowRdBu(axes[i], x[ev,i,:,:].cpu())\n",
    "            cbar = axes[i].figure.colorbar(im, ax=axes[i])\n",
    "        plt.show()\n",
    "    \n",
    "    # next the classifier\n",
    "    print(x.shape, 'after _feature')\n",
    "    x = torch.nn.AvgPool2d(x.size()[2:])(x)\n",
    "    print(x.shape, 'after AvgPool2d')\n",
    "    x = x.view(-1,128)\n",
    "    print(x.shape, 'after view')\n",
    "    \n",
    "    fig, (ax0) = plt.subplots(1, 1, figsize=(16,3),facecolor='w')\n",
    "    imshowRdBu(ax0, x[ev,:].unsqueeze(0).cpu())\n",
    "    plt.show()\n",
    "    \n",
    "    for i,module in enumerate(blob.net._classifier):\n",
    "        print('_classifier', i, module)\n",
    "        x = module(x)\n",
    "        fig, (ax0) = plt.subplots(1, 1, figsize=(16,3),facecolor='w')\n",
    "        imshowRdBu(ax0, x[ev,:].unsqueeze(0).cpu())\n",
    "        plt.show()"
   ]
  },
  {
   "cell_type": "code",
   "execution_count": null,
   "metadata": {},
   "outputs": [],
   "source": []
  }
 ],
 "metadata": {
  "kernelspec": {
   "display_name": "Python 3",
   "language": "python",
   "name": "python3"
  },
  "language_info": {
   "codemirror_mode": {
    "name": "ipython",
    "version": 3
   },
   "file_extension": ".py",
   "mimetype": "text/x-python",
   "name": "python",
   "nbconvert_exporter": "python",
   "pygments_lexer": "ipython3",
   "version": "3.6.8"
  }
 },
 "nbformat": 4,
 "nbformat_minor": 2
}
